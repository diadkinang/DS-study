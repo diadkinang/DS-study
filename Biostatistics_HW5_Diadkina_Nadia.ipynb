{
 "cells": [
  {
   "cell_type": "code",
   "execution_count": 117,
   "metadata": {},
   "outputs": [],
   "source": [
    "import math\n",
    "import numpy as np\n",
    "import pandas as pd\n",
    "from scipy import stats\n",
    "from scipy import integrate\n",
    "from scipy.stats import norm\n",
    "import scikit_posthocs as sp\n",
    "import statsmodels.api as sm\n",
    "import seaborn as sns"
   ]
  },
  {
   "attachments": {},
   "cell_type": "markdown",
   "metadata": {},
   "source": [
    "## ИНТРО\n",
    "\n",
    "Предположим, что на рынок скоро выходит новая автомобильная марка, пока что представленная всего одной моделью. У неё есть некоторая рекомендованная розничная цена (РРЦ), которая была заявлена производителем. В вашей стране эту модель могут продавать всего 3 официальных дилера (Дилер 1, 2 и 3). Так как их мало, а модель крайне интересна покупателям, то все они согласны продать машину конечному потребителю только при выполнении условия:\n",
    "\n",
    "- Дилер 1: чтобы купить машину здесь, вы обязаны оформить через них КАСКО.\n",
    "- Дилер 2: чтобы купить машину здесь, вы обязаны купить у них комплект зимней резины.\n",
    "- Дилер 3: чтобы купить машину здесь, вы обязаны заказать у них оклейку всей машины бронепленкой.\n",
    "\n",
    "Предположим также, что каждый отдельный покупатель в этом эксперименте — это физическое лицо, а значит, он купит всего одну машину для личного пользования."
   ]
  },
  {
   "attachments": {},
   "cell_type": "markdown",
   "metadata": {},
   "source": [
    "---\n",
    "## ЗАДАЧА №1\n",
    "\n",
    "Вы хотите понять, есть ли значимая разница с точки зрения конечного потребителя в цене машины, купленной у разных дилеров. То есть, по сути, есть ли значимая разница между дилерами 1, 2 и 3.\n",
    "\n",
    "Какой дизайн исследования Вы предпочтете для тестирования этой гипотезы? Объясните свой ответ."
   ]
  },
  {
   "attachments": {},
   "cell_type": "markdown",
   "metadata": {},
   "source": [
    "Для тестирования гипотезы о разнице в цены машины, купленной у разных диллеров, можно использовать метод анализа дисперсии ANOVA. Это классический статистический тест, который позволяет определить, есть ли значимые различия в средних значениях между группами.\n",
    "\n",
    "Для этого нужно выбрать случайную выборку из покупателей, которые приобрели машину у трёх разных диллеров, и затем проанализировать разницу в ценах между этими данными. Исходя из полученных результатов, можно будет определить, существует ли значимая разница в цене машины в зависимости от дилера. "
   ]
  },
  {
   "attachments": {},
   "cell_type": "markdown",
   "metadata": {},
   "source": [
    "---\n",
    "## ЗАДАЧА №2\n",
    "\n",
    "В качестве первичной конечной точки Вы выбрали следующую:\n",
    "\n",
    "- Средняя цена на автомобиль у дилеров 1, 2 и 3.\n",
    "\n",
    "Также,\n",
    "- Вы хотите тестировать двустороннюю гипотезу, а ошибки первого и второго рода каждой точки в отдельности равны α=0.05, β=0.2\n",
    "\n",
    "- Вы хотите проанализировать одинаковое количество продаж/субъектов в каждом дилере.\n",
    "- Исходя из условий продажи, вы предполагаете, что средняя цена за автомобиль в каждом дилере составит:\n",
    "    - Дилер 1: 10 080 000;\n",
    "    - Дилер 2: 10 065 000;\n",
    "    - Дилер 3: 10 090 000.\n",
    "    \n",
    "- Стандартное отклонение в каждой группе предположительно будет 1 200 400.\n",
    "- Dropout rate = 5% (% сорванных сделок).\n",
    "\n",
    "Рассчитайте размер выборки исходя из условий выше.\n",
    "\n",
    "Примечание: формулы для расчёта выборки изложены в книге по этой ссылке - http://ndl.ethernet.edu.et/bitstream/123456789/30101/1/24..pdf"
   ]
  },
  {
   "attachments": {},
   "cell_type": "markdown",
   "metadata": {},
   "source": [
    "Вычислим размер выборки, использую формулу из раздела \"3.4.1. Multiple-Sample One-Way ANOVA: Pairwise Comparison\":"
   ]
  },
  {
   "cell_type": "code",
   "execution_count": 121,
   "metadata": {},
   "outputs": [
    {
     "name": "stdout",
     "output_type": "stream",
     "text": [
      "Необходимое количество субъектов для исследования: 502664\n"
     ]
    }
   ],
   "source": [
    "# Задаем необходимые параметры alpha и beta\n",
    "alpha = 0.05\n",
    "beta = 0.2\n",
    "\n",
    "# Задаём средние цены\n",
    "mu1 = 10_080_000\n",
    "mu2 = 10_065_000\n",
    "mu3 = 10_090_000\n",
    "\n",
    "# Задаём стандартное отклонение в каждой группе\n",
    "std = 1_200_400\n",
    "\n",
    "# Рассчитываем необходимые параметры Z\n",
    "z_alpha = abs(norm.ppf(alpha / 2))\n",
    "z_beta = abs(norm.ppf(beta))\n",
    "\n",
    "# Зададим функцию для вычисления n_ij\n",
    "def calculate_n_ij(mu_i, mu_j):\n",
    "    epsilon_ij = mu_i - mu_j\n",
    "    return (2*((z_alpha + z_beta)**2)*std*std)/(epsilon_ij**2)\n",
    "\n",
    "# Вычислим значение n для всех комбинаций\n",
    "n_12 = calculate_n_ij(mu1, mu2)\n",
    "n_13 = calculate_n_ij(mu1, mu3)\n",
    "n_23 = calculate_n_ij(mu2, mu3)\n",
    "\n",
    "# Вычислим размер выборки\n",
    "n = max(n_12, n_13, n_23)\n",
    "\n",
    "# Расчитаем размер выборки с учётом dropout rate\n",
    "dropout_rate = 0.1\n",
    "n_drop_out = math.ceil(n/(1-dropout_rate))\n",
    "\n",
    "# Выводим результат\n",
    "print(f\"Необходимое количество субъектов для исследования: {2*n_drop_out}\")"
   ]
  },
  {
   "attachments": {},
   "cell_type": "markdown",
   "metadata": {},
   "source": [
    "---\n",
    "## ЗАДАЧА №3\n",
    "\n",
    "Вы провели исследование и получили следующие данные (Task3.csv)\n",
    "\n",
    "Для полученных данных рассчитайте следующие описательные статистики:\n",
    "\n",
    "- Количество продаж/субъектов у каждого дилера;\n",
    "- Средняя цена продажи у каждого дилера;\n",
    "- Стандартное отклонение цены продажи у каждого дилера;\n",
    "- Медианная цена продажи у каждого дилера;\n",
    "- Минимальная цена продажи у каждого дилера;\n",
    "- Максимальная цена продажи у каждого дилера;\n",
    "- Интерквартильный размах цены продажи у каждого дилера;\n",
    "- Абсолютное и относительное количество купленных машин с каждым типом коробки передач у каждого дилера;\n",
    "- Абсолютное и относительное количество купленных машин на механике с пакетом «Зимний» у каждого дилера.\n",
    "\n",
    "Примечание: проценты округлите до сотых, всё остальное до целых."
   ]
  },
  {
   "cell_type": "code",
   "execution_count": 12,
   "metadata": {},
   "outputs": [
    {
     "name": "stdout",
     "output_type": "stream",
     "text": [
      "Количество продаж/субъектов у каждого дилера:\n"
     ]
    },
    {
     "data": {
      "text/plain": [
       "Диллер\n",
       "Диллер 1    46171\n",
       "Диллер 2    46190\n",
       "Диллер 3    46164\n",
       "dtype: int64"
      ]
     },
     "execution_count": 12,
     "metadata": {},
     "output_type": "execute_result"
    }
   ],
   "source": [
    "print('Количество продаж/субъектов у каждого дилера:')\n",
    "task3.groupby('Диллер').size()"
   ]
  },
  {
   "cell_type": "code",
   "execution_count": 18,
   "metadata": {},
   "outputs": [
    {
     "name": "stdout",
     "output_type": "stream",
     "text": [
      "Средняя цена продажи у каждого дилера:\n"
     ]
    },
    {
     "data": {
      "text/html": [
       "<div>\n",
       "<style scoped>\n",
       "    .dataframe tbody tr th:only-of-type {\n",
       "        vertical-align: middle;\n",
       "    }\n",
       "\n",
       "    .dataframe tbody tr th {\n",
       "        vertical-align: top;\n",
       "    }\n",
       "\n",
       "    .dataframe thead th {\n",
       "        text-align: right;\n",
       "    }\n",
       "</style>\n",
       "<table border=\"1\" class=\"dataframe\">\n",
       "  <thead>\n",
       "    <tr style=\"text-align: right;\">\n",
       "      <th></th>\n",
       "      <th>Цена продажи</th>\n",
       "    </tr>\n",
       "    <tr>\n",
       "      <th>Диллер</th>\n",
       "      <th></th>\n",
       "    </tr>\n",
       "  </thead>\n",
       "  <tbody>\n",
       "    <tr>\n",
       "      <th>Диллер 1</th>\n",
       "      <td>9777551.0</td>\n",
       "    </tr>\n",
       "    <tr>\n",
       "      <th>Диллер 2</th>\n",
       "      <td>10065071.0</td>\n",
       "    </tr>\n",
       "    <tr>\n",
       "      <th>Диллер 3</th>\n",
       "      <td>10392694.0</td>\n",
       "    </tr>\n",
       "  </tbody>\n",
       "</table>\n",
       "</div>"
      ],
      "text/plain": [
       "          Цена продажи\n",
       "Диллер                \n",
       "Диллер 1     9777551.0\n",
       "Диллер 2    10065071.0\n",
       "Диллер 3    10392694.0"
      ]
     },
     "execution_count": 18,
     "metadata": {},
     "output_type": "execute_result"
    }
   ],
   "source": [
    "print('Средняя цена продажи у каждого дилера:')\n",
    "task3.groupby('Диллер').mean(numeric_only=True).round()"
   ]
  },
  {
   "cell_type": "code",
   "execution_count": 17,
   "metadata": {},
   "outputs": [
    {
     "name": "stdout",
     "output_type": "stream",
     "text": [
      "Стандартное отклонение цены продажи у каждого дилера:\n"
     ]
    },
    {
     "data": {
      "text/html": [
       "<div>\n",
       "<style scoped>\n",
       "    .dataframe tbody tr th:only-of-type {\n",
       "        vertical-align: middle;\n",
       "    }\n",
       "\n",
       "    .dataframe tbody tr th {\n",
       "        vertical-align: top;\n",
       "    }\n",
       "\n",
       "    .dataframe thead th {\n",
       "        text-align: right;\n",
       "    }\n",
       "</style>\n",
       "<table border=\"1\" class=\"dataframe\">\n",
       "  <thead>\n",
       "    <tr style=\"text-align: right;\">\n",
       "      <th></th>\n",
       "      <th>Цена продажи</th>\n",
       "    </tr>\n",
       "    <tr>\n",
       "      <th>Диллер</th>\n",
       "      <th></th>\n",
       "    </tr>\n",
       "  </thead>\n",
       "  <tbody>\n",
       "    <tr>\n",
       "      <th>Диллер 1</th>\n",
       "      <td>11982.0</td>\n",
       "    </tr>\n",
       "    <tr>\n",
       "      <th>Диллер 2</th>\n",
       "      <td>6199.0</td>\n",
       "    </tr>\n",
       "    <tr>\n",
       "      <th>Диллер 3</th>\n",
       "      <td>1720.0</td>\n",
       "    </tr>\n",
       "  </tbody>\n",
       "</table>\n",
       "</div>"
      ],
      "text/plain": [
       "          Цена продажи\n",
       "Диллер                \n",
       "Диллер 1       11982.0\n",
       "Диллер 2        6199.0\n",
       "Диллер 3        1720.0"
      ]
     },
     "execution_count": 17,
     "metadata": {},
     "output_type": "execute_result"
    }
   ],
   "source": [
    "print('Стандартное отклонение цены продажи у каждого дилера:')\n",
    "task3.groupby('Диллер').std(numeric_only=True).round()"
   ]
  },
  {
   "cell_type": "code",
   "execution_count": 25,
   "metadata": {},
   "outputs": [
    {
     "name": "stdout",
     "output_type": "stream",
     "text": [
      "Медианная цена продажи у каждого дилера:\n"
     ]
    },
    {
     "data": {
      "text/html": [
       "<div>\n",
       "<style scoped>\n",
       "    .dataframe tbody tr th:only-of-type {\n",
       "        vertical-align: middle;\n",
       "    }\n",
       "\n",
       "    .dataframe tbody tr th {\n",
       "        vertical-align: top;\n",
       "    }\n",
       "\n",
       "    .dataframe thead th {\n",
       "        text-align: right;\n",
       "    }\n",
       "</style>\n",
       "<table border=\"1\" class=\"dataframe\">\n",
       "  <thead>\n",
       "    <tr style=\"text-align: right;\">\n",
       "      <th></th>\n",
       "      <th>Цена продажи</th>\n",
       "    </tr>\n",
       "    <tr>\n",
       "      <th>Диллер</th>\n",
       "      <th></th>\n",
       "    </tr>\n",
       "  </thead>\n",
       "  <tbody>\n",
       "    <tr>\n",
       "      <th>Диллер 1</th>\n",
       "      <td>9777618.0</td>\n",
       "    </tr>\n",
       "    <tr>\n",
       "      <th>Диллер 2</th>\n",
       "      <td>10065014.0</td>\n",
       "    </tr>\n",
       "    <tr>\n",
       "      <th>Диллер 3</th>\n",
       "      <td>10392692.0</td>\n",
       "    </tr>\n",
       "  </tbody>\n",
       "</table>\n",
       "</div>"
      ],
      "text/plain": [
       "          Цена продажи\n",
       "Диллер                \n",
       "Диллер 1     9777618.0\n",
       "Диллер 2    10065014.0\n",
       "Диллер 3    10392692.0"
      ]
     },
     "execution_count": 25,
     "metadata": {},
     "output_type": "execute_result"
    }
   ],
   "source": [
    "print('Медианная цена продажи у каждого дилера:')\n",
    "task3.groupby('Диллер').median(numeric_only=True).round()"
   ]
  },
  {
   "cell_type": "code",
   "execution_count": 26,
   "metadata": {},
   "outputs": [
    {
     "name": "stdout",
     "output_type": "stream",
     "text": [
      "Минимальная цена продажи у каждого дилера:\n"
     ]
    },
    {
     "data": {
      "text/html": [
       "<div>\n",
       "<style scoped>\n",
       "    .dataframe tbody tr th:only-of-type {\n",
       "        vertical-align: middle;\n",
       "    }\n",
       "\n",
       "    .dataframe tbody tr th {\n",
       "        vertical-align: top;\n",
       "    }\n",
       "\n",
       "    .dataframe thead th {\n",
       "        text-align: right;\n",
       "    }\n",
       "</style>\n",
       "<table border=\"1\" class=\"dataframe\">\n",
       "  <thead>\n",
       "    <tr style=\"text-align: right;\">\n",
       "      <th></th>\n",
       "      <th>Цена продажи</th>\n",
       "    </tr>\n",
       "    <tr>\n",
       "      <th>Диллер</th>\n",
       "      <th></th>\n",
       "    </tr>\n",
       "  </thead>\n",
       "  <tbody>\n",
       "    <tr>\n",
       "      <th>Диллер 1</th>\n",
       "      <td>9729560.0</td>\n",
       "    </tr>\n",
       "    <tr>\n",
       "      <th>Диллер 2</th>\n",
       "      <td>9770356.0</td>\n",
       "    </tr>\n",
       "    <tr>\n",
       "      <th>Диллер 3</th>\n",
       "      <td>10385410.0</td>\n",
       "    </tr>\n",
       "  </tbody>\n",
       "</table>\n",
       "</div>"
      ],
      "text/plain": [
       "          Цена продажи\n",
       "Диллер                \n",
       "Диллер 1     9729560.0\n",
       "Диллер 2     9770356.0\n",
       "Диллер 3    10385410.0"
      ]
     },
     "execution_count": 26,
     "metadata": {},
     "output_type": "execute_result"
    }
   ],
   "source": [
    "print('Минимальная цена продажи у каждого дилера:')\n",
    "task3.groupby('Диллер').min(numeric_only=True).round()"
   ]
  },
  {
   "cell_type": "code",
   "execution_count": 27,
   "metadata": {},
   "outputs": [
    {
     "name": "stdout",
     "output_type": "stream",
     "text": [
      "Максимальная цена продажи у каждого дилера:\n"
     ]
    },
    {
     "data": {
      "text/html": [
       "<div>\n",
       "<style scoped>\n",
       "    .dataframe tbody tr th:only-of-type {\n",
       "        vertical-align: middle;\n",
       "    }\n",
       "\n",
       "    .dataframe tbody tr th {\n",
       "        vertical-align: top;\n",
       "    }\n",
       "\n",
       "    .dataframe thead th {\n",
       "        text-align: right;\n",
       "    }\n",
       "</style>\n",
       "<table border=\"1\" class=\"dataframe\">\n",
       "  <thead>\n",
       "    <tr style=\"text-align: right;\">\n",
       "      <th></th>\n",
       "      <th>Цена продажи</th>\n",
       "    </tr>\n",
       "    <tr>\n",
       "      <th>Диллер</th>\n",
       "      <th></th>\n",
       "    </tr>\n",
       "  </thead>\n",
       "  <tbody>\n",
       "    <tr>\n",
       "      <th>Диллер 1</th>\n",
       "      <td>9829872.0</td>\n",
       "    </tr>\n",
       "    <tr>\n",
       "      <th>Диллер 2</th>\n",
       "      <td>10396865.0</td>\n",
       "    </tr>\n",
       "    <tr>\n",
       "      <th>Диллер 3</th>\n",
       "      <td>10399960.0</td>\n",
       "    </tr>\n",
       "  </tbody>\n",
       "</table>\n",
       "</div>"
      ],
      "text/plain": [
       "          Цена продажи\n",
       "Диллер                \n",
       "Диллер 1     9829872.0\n",
       "Диллер 2    10396865.0\n",
       "Диллер 3    10399960.0"
      ]
     },
     "execution_count": 27,
     "metadata": {},
     "output_type": "execute_result"
    }
   ],
   "source": [
    "print('Максимальная цена продажи у каждого дилера:')\n",
    "task3.groupby('Диллер').max(numeric_only=True).round()"
   ]
  },
  {
   "cell_type": "code",
   "execution_count": 42,
   "metadata": {},
   "outputs": [
    {
     "name": "stdout",
     "output_type": "stream",
     "text": [
      "Интерквартильный размах цены продажи у каждого дилера:           Цена продажи\n",
      "Диллер                \n",
      "Диллер 1       16202.0\n",
      "Диллер 2        3220.0\n",
      "Диллер 3        2316.0\n"
     ]
    }
   ],
   "source": [
    "q3 = task3.groupby('Диллер').quantile(q=0.75, numeric_only=True)\n",
    "q1 = task3.groupby('Диллер').quantile(q=0.25, numeric_only=True)\n",
    "interquartile_range = q3 - q1\n",
    "print('Интерквартильный размах цены продажи у каждого дилера:', interquartile_range.round())"
   ]
  },
  {
   "cell_type": "code",
   "execution_count": 48,
   "metadata": {},
   "outputs": [
    {
     "name": "stdout",
     "output_type": "stream",
     "text": [
      "Абсолютное количество купленных машин с каждым типом коробки передач у каждого дилера:\n",
      "Диллер    Коробка передач   \n",
      "Диллер 1  Гидротрансформатор    18606\n",
      "          Механика               9148\n",
      "          Робот                 18417\n",
      "Диллер 2  Гидротрансформатор    18554\n",
      "          Механика               9316\n",
      "          Робот                 18320\n",
      "Диллер 3  Гидротрансформатор    18471\n",
      "          Механика               9344\n",
      "          Робот                 18349\n",
      "dtype: int64\n",
      "Относительное количество купленных машин с каждым типом коробки передач у каждого дилера:\n",
      "Диллер    Коробка передач   \n",
      "Диллер 1  Гидротрансформатор    0.13\n",
      "          Механика              0.07\n",
      "          Робот                 0.13\n",
      "Диллер 2  Гидротрансформатор    0.13\n",
      "          Механика              0.07\n",
      "          Робот                 0.13\n",
      "Диллер 3  Гидротрансформатор    0.13\n",
      "          Механика              0.07\n",
      "          Робот                 0.13\n",
      "dtype: float64\n"
     ]
    }
   ],
   "source": [
    "grouped_size = task3.groupby(['Диллер', 'Коробка передач']).size()\n",
    "\n",
    "print('Абсолютное количество купленных машин с каждым типом коробки передач у каждого дилера:')\n",
    "print(grouped_size)\n",
    "\n",
    "print('Относительное количество купленных машин с каждым типом коробки передач у каждого дилера:')\n",
    "print(grouped_size.transform(lambda x: x / len(task3)).round(2))\n"
   ]
  },
  {
   "cell_type": "code",
   "execution_count": 57,
   "metadata": {},
   "outputs": [
    {
     "name": "stdout",
     "output_type": "stream",
     "text": [
      "Абсолютное и относительное количество купленных машин на механике с пакетом «Зимний» у каждого дилера:\n",
      "Абсолютное количество купленных машин на механике с пакетом «Зимний» у каждого дилера:\n",
      "Диллер    Коробка передач  Специальный пакет\n",
      "Диллер 1  Механика         Зимний               5494\n",
      "Диллер 2  Механика         Зимний               5529\n",
      "Диллер 3  Механика         Зимний               5713\n",
      "dtype: int64\n",
      "Относительное количество купленных машин на механике с пакетом «Зимний» у каждого дилера:\n",
      "Диллер    Коробка передач  Специальный пакет\n",
      "Диллер 1  Механика         Зимний               0.33\n",
      "Диллер 2  Механика         Зимний               0.33\n",
      "Диллер 3  Механика         Зимний               0.34\n",
      "dtype: float64\n"
     ]
    },
    {
     "name": "stderr",
     "output_type": "stream",
     "text": [
      "/var/folders/10/w53fwtfx0136pc3wg8gmr_qh0000gn/T/ipykernel_58424/4270650211.py:3: UserWarning: Boolean Series key will be reindexed to match DataFrame index.\n",
      "  filtered_task3 = task3[task3['Коробка передач'] == 'Механика'][task3['Специальный пакет'] == 'Зимний']\n"
     ]
    }
   ],
   "source": [
    "print('Абсолютное и относительное количество купленных машин на механике с пакетом «Зимний» у каждого дилера:')\n",
    "\n",
    "filtered_task3 = task3[task3['Коробка передач'] == 'Механика'][task3['Специальный пакет'] == 'Зимний']\n",
    "grouped_size = filtered_task3.groupby(['Диллер', 'Коробка передач', 'Специальный пакет']).size()\n",
    "\n",
    "print('Абсолютное количество купленных машин на механике с пакетом «Зимний» у каждого дилера:')\n",
    "print(grouped_size)\n",
    "\n",
    "print('Относительное количество купленных машин на механике с пакетом «Зимний» у каждого дилера:')\n",
    "print(grouped_size.transform(lambda x: x / len(filtered_task3)).round(2))"
   ]
  },
  {
   "attachments": {},
   "cell_type": "markdown",
   "metadata": {},
   "source": [
    "---\n",
    "## ЗАДАЧА №4\n",
    "\n",
    "На основании полученных данных (Task3.csv), постройте «Ящик с усами» и, для категориальных переменных, столбчатую гистограмму, которая отображает количество купленных машин у каждого дилера, сгруппированных по типу коробки передач (одна гистограмма) и специальному пакету (вторая)."
   ]
  },
  {
   "cell_type": "code",
   "execution_count": 79,
   "metadata": {},
   "outputs": [
    {
     "data": {
      "text/plain": [
       "<Axes: xlabel='Диллер', ylabel='Цена продажи'>"
      ]
     },
     "execution_count": 79,
     "metadata": {},
     "output_type": "execute_result"
    },
    {
     "data": {
      "image/png": "[encoded data removed]",
      "text/plain": [
       "<Figure size 640x480 with 1 Axes>"
      ]
     },
     "metadata": {},
     "output_type": "display_data"
    }
   ],
   "source": [
    "sns.boxplot(task3, x='Диллер', y='Цена продажи')"
   ]
  },
  {
   "cell_type": "code",
   "execution_count": 95,
   "metadata": {},
   "outputs": [
    {
     "data": {
      "text/plain": [
       "<seaborn.axisgrid.FacetGrid at 0x169ef5990>"
      ]
     },
     "execution_count": 95,
     "metadata": {},
     "output_type": "execute_result"
    },
    {
     "data": {
      "image/png": "[encoded data removed]",
      "text/plain": [
       "<Figure size 710.5x500 with 1 Axes>"
      ]
     },
     "metadata": {},
     "output_type": "display_data"
    }
   ],
   "source": [
    "aggregated = task3.groupby(['Диллер', 'Коробка передач']).size().reset_index(name='counts')\n",
    "sns.catplot(aggregated, x='Диллер', y='counts', hue='Коробка передач', kind='bar')"
   ]
  },
  {
   "cell_type": "code",
   "execution_count": 96,
   "metadata": {},
   "outputs": [
    {
     "data": {
      "text/plain": [
       "<seaborn.axisgrid.FacetGrid at 0x169feb3d0>"
      ]
     },
     "execution_count": 96,
     "metadata": {},
     "output_type": "execute_result"
    },
    {
     "data": {
      "image/png": "[encoded data removed]",
      "text/plain": [
       "<Figure size 682x500 with 1 Axes>"
      ]
     },
     "metadata": {},
     "output_type": "display_data"
    }
   ],
   "source": [
    "aggregated = task3.groupby(['Диллер', 'Специальный пакет']).size().reset_index(name='counts')\n",
    "sns.catplot(aggregated, x='Диллер', y='counts', hue='Специальный пакет', kind='bar')"
   ]
  },
  {
   "attachments": {},
   "cell_type": "markdown",
   "metadata": {},
   "source": [
    "---\n",
    "## ЗАДАЧА №5\n",
    "\n",
    "Есть ли статистически значимая разница между Дилерами с точки зрения покупателя? Если есть ещё какие-то значимые факторы, которые, согласно данным, влияют на цену, то их тоже нужно включить в анализ.\n",
    "\n",
    "Между какими группами есть разница, если есть? Если необходимо, примените поправку Холма-Бонферрони. В каком дилере в итоге выгоднее покупать машину? Ответ объясните."
   ]
  },
  {
   "attachments": {},
   "cell_type": "markdown",
   "metadata": {},
   "source": [
    "Используем метод ANOVA для сравнения между группами:"
   ]
  },
  {
   "cell_type": "code",
   "execution_count": 122,
   "metadata": {},
   "outputs": [
    {
     "name": "stdout",
     "output_type": "stream",
     "text": [
      "p-value:  0.0\n",
      "statistic:  70940373.537\n"
     ]
    }
   ],
   "source": [
    "grouped = task3.groupby(['Диллер'])\n",
    "dealer1 = grouped.get_group('Диллер 1')['Цена продажи']\n",
    "dealer2 = grouped.get_group('Диллер 2')['Цена продажи']\n",
    "dealer3 = grouped.get_group('Диллер 3')['Цена продажи']\n",
    "\n",
    "result = stats.f_oneway(dealer1, dealer2, dealer3)\n",
    "print('p-value: ', result.pvalue.round(3))\n",
    "print('statistic: ', result.statistic.round(3))"
   ]
  },
  {
   "attachments": {},
   "cell_type": "markdown",
   "metadata": {},
   "source": [
    "p-value меньше 0.05, а значит есть статистически значимая разница между группами. Для попарных сравнений будем использовать метод posthoc_ttest из библиотеки scikit_posthocs:"
   ]
  },
  {
   "cell_type": "code",
   "execution_count": 123,
   "metadata": {},
   "outputs": [
    {
     "data": {
      "text/html": [
       "<div>\n",
       "<style scoped>\n",
       "    .dataframe tbody tr th:only-of-type {\n",
       "        vertical-align: middle;\n",
       "    }\n",
       "\n",
       "    .dataframe tbody tr th {\n",
       "        vertical-align: top;\n",
       "    }\n",
       "\n",
       "    .dataframe thead th {\n",
       "        text-align: right;\n",
       "    }\n",
       "</style>\n",
       "<table border=\"1\" class=\"dataframe\">\n",
       "  <thead>\n",
       "    <tr style=\"text-align: right;\">\n",
       "      <th></th>\n",
       "      <th>1</th>\n",
       "      <th>2</th>\n",
       "      <th>3</th>\n",
       "    </tr>\n",
       "  </thead>\n",
       "  <tbody>\n",
       "    <tr>\n",
       "      <th>1</th>\n",
       "      <td>1.0</td>\n",
       "      <td>0.0</td>\n",
       "      <td>0.0</td>\n",
       "    </tr>\n",
       "    <tr>\n",
       "      <th>2</th>\n",
       "      <td>0.0</td>\n",
       "      <td>1.0</td>\n",
       "      <td>0.0</td>\n",
       "    </tr>\n",
       "    <tr>\n",
       "      <th>3</th>\n",
       "      <td>0.0</td>\n",
       "      <td>0.0</td>\n",
       "      <td>1.0</td>\n",
       "    </tr>\n",
       "  </tbody>\n",
       "</table>\n",
       "</div>"
      ],
      "text/plain": [
       "     1    2    3\n",
       "1  1.0  0.0  0.0\n",
       "2  0.0  1.0  0.0\n",
       "3  0.0  0.0  1.0"
      ]
     },
     "execution_count": 123,
     "metadata": {},
     "output_type": "execute_result"
    }
   ],
   "source": [
    "sp.posthoc_ttest([dealer1, dealer2, dealer3], p_adjust='holm').round(3)"
   ]
  },
  {
   "attachments": {},
   "cell_type": "markdown",
   "metadata": {},
   "source": [
    "Так как все попарные p-value меньше 0.05, то мы можем считать, что все выборки имеют разное распределение относительно друг друга."
   ]
  }
 ],
 "metadata": {
  "kernelspec": {
   "display_name": "Python 3",
   "language": "python",
   "name": "python3"
  },
  "language_info": {
   "codemirror_mode": {
    "name": "ipython",
    "version": 3
   },
   "file_extension": ".py",
   "mimetype": "text/x-python",
   "name": "python",
   "nbconvert_exporter": "python",
   "pygments_lexer": "ipython3",
   "version": "3.11.2"
  },
  "orig_nbformat": 4
 },
 "nbformat": 4,
 "nbformat_minor": 2
}

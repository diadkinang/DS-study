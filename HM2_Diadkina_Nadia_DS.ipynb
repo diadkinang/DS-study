{
  "nbformat": 4,
  "nbformat_minor": 0,
  "metadata": {
    "colab": {
      "provenance": [],
      "authorship_tag": "ABX9TyN/NZG31seijF8wHjdWAnvD",
      "include_colab_link": true
    },
    "kernelspec": {
      "name": "python3",
      "display_name": "Python 3"
    },
    "language_info": {
      "name": "python"
    }
  },
  "cells": [
    {
      "cell_type": "markdown",
      "metadata": {
        "id": "view-in-github",
        "colab_type": "text"
      },
      "source": [
        "<a href=\"https://colab.research.google.com/github/diadkinang/DS-study/blob/main/HM2_Diadkina_Nadia_DS.ipynb\" target=\"_parent\"><img src=\"https://colab.research.google.com/assets/colab-badge.svg\" alt=\"Open In Colab\"/></a>"
      ]
    },
    {
      "cell_type": "markdown",
      "source": [
        "#Reversed integer"
      ],
      "metadata": {
        "id": "nNNMnbwG9fXL"
      }
    },
    {
      "cell_type": "markdown",
      "source": [
        "Вам дано число целого типа ``a``. Вам необходимо написать функцию, которая принимает это число на вход, а на выход выдает целое число, цифры в котором записаны в обратном порядке.\n",
        "\n",
        "\n",
        "**Sample Input 1:**\n",
        "\n",
        "``\n",
        "a = 123\n",
        "``\n",
        "\n",
        "**Sample Output 1:**\n",
        "\n",
        "``321``\n",
        "\n",
        "**Sample Input 2:**\n",
        "\n",
        "``\n",
        "a = 120\n",
        "``\n",
        "\n",
        "**Sample Output 2:**\n",
        "\n",
        "``21``\n",
        "\n",
        "**Sample Input 3:**\n",
        "\n",
        "``\n",
        "-123\n",
        "``\n",
        "\n",
        "**Sample Output 3:**\n",
        "\n",
        "``321``"
      ],
      "metadata": {
        "id": "1up3D6RD9Dpd"
      }
    },
    {
      "cell_type": "code",
      "execution_count": null,
      "metadata": {
        "id": "HtOz_vSbcUQG"
      },
      "outputs": [],
      "source": [
        "#Данная функция выдает целое число обратное введенному.\n",
        "\n",
        "def reverse_number(a):\n",
        "  a_int = abs(int(a))\n",
        "  a_str = str(a_int)\n",
        "  a_list = list(a_str)\n",
        "  a_list.reverse()\n",
        "  a_reverse = ''.join(a_list)\n",
        "  return int(a_reverse)"
      ]
    },
    {
      "cell_type": "markdown",
      "source": [
        "#Выколотый квадрат"
      ],
      "metadata": {
        "id": "0LoxpHup9Wxn"
      }
    },
    {
      "cell_type": "markdown",
      "source": [
        "Напишите функцию, которая принимает единственное число ``n: int``. Это число определяет длину стороны квадрата. Функция должна нарисовать квадрат из звездочек, при этом звездочки должны быть только на ребрах квадрата, центр должен быть выколот.\n",
        "\n",
        "**Sample Input 1:**\n",
        "\n",
        "``\n",
        "n = 5\n",
        "``\n",
        "\n",
        "**Sample Output 1:**\n",
        "```\n",
        "* * * * *\n",
        "*       *\n",
        "*       *\n",
        "*       *\n",
        "* * * * *\n",
        "\n",
        "```"
      ],
      "metadata": {
        "id": "J57fiF0-9AXh"
      }
    },
    {
      "cell_type": "code",
      "source": [
        "#Данная программа рисует пустой квадрат из звездочек (*) заданного размера.\n",
        "\n",
        "def make_square(n):\n",
        "  n_int = int(n)\n",
        "  print ('*' * n_int)\n",
        "\n",
        "  for m in range(n_int-2):\n",
        "     print ('*' + ' ' * (n_int-2) + '*')\n",
        "\n",
        "  print ('*' * n_int)"
      ],
      "metadata": {
        "colab": {
          "base_uri": "https://localhost:8080/"
        },
        "id": "vSiz-N9bxAKX",
        "outputId": "0baa2f1e-3707-4c03-f765-c2a2890844bd"
      },
      "execution_count": null,
      "outputs": [
        {
          "output_type": "stream",
          "name": "stdout",
          "text": [
            "*****\n",
            "*   *\n",
            "*   *\n",
            "*   *\n",
            "*****\n"
          ]
        }
      ]
    },
    {
      "cell_type": "markdown",
      "source": [
        "#Пермутации"
      ],
      "metadata": {
        "id": "HFJqvRQ59iA1"
      }
    },
    {
      "cell_type": "markdown",
      "source": [
        "Вам дан массив с целыми числами ``nums``. Напишите функцию, которая принимает на вход данный массив и возвращает все возможные пермутации с данными числами. Возвращать массивы можно в любом порядке.\n",
        "\n",
        "**Sample Input 1:**\n",
        "\n",
        "``\n",
        "nums = [1,2,3]\n",
        "``\n",
        "\n",
        "**Sample Output 1:**\n",
        "\n",
        "``[[1,2,3],[1,3,2],[2,1,3],[2,3,1],[3,1,2],[3,2,1]]``\n",
        "\n",
        "**Sample Input 2:**\n",
        "\n",
        "``\n",
        "nums = [0,1]\n",
        "``\n",
        "\n",
        "**Sample Output 2:**\n",
        "\n",
        "``[[0,1],[1,0]]``\n",
        "\n",
        "**Sample Input 3:**\n",
        "\n",
        "``\n",
        "nums = [1]\n",
        "``\n",
        "\n",
        "**Sample Output 3:**\n",
        "\n",
        "``[[1]]``"
      ],
      "metadata": {
        "id": "eKkVtUzF9iZk"
      }
    },
    {
      "cell_type": "code",
      "source": [
        "#Данная программа возвращает все возможные пермутации с введенным массивом.\n",
        "\n",
        "def permutations(nums):\n",
        "  n = len(nums)\n",
        "  if n == 1:\n",
        "    return [[nums[0]]]\n",
        "\n",
        "  result = []\n",
        "  \n",
        "  for i in range(n):\n",
        "    a = nums.pop(0)\n",
        "    perms = permutations(nums)\n",
        "\n",
        "    for perm in perms:\n",
        "      perm.append(a)\n",
        "\n",
        "    result.extend(perms)\n",
        "    nums.append(a)\n",
        "\n",
        "  return result"
      ],
      "metadata": {
        "id": "mMHddcu19i8E"
      },
      "execution_count": 8,
      "outputs": []
    },
    {
      "cell_type": "markdown",
      "source": [
        "# Почти двойной факториал"
      ],
      "metadata": {
        "id": "UdaC06cAbKr6"
      }
    },
    {
      "cell_type": "markdown",
      "source": [
        "Дано натуральное $N \\leqslant 100$.  Выведите произведение всех чётных натуральных чисел, не превосходящих $N$."
      ],
      "metadata": {
        "id": "DQhyeoaGJ45a"
      }
    },
    {
      "cell_type": "code",
      "source": [
        "#Данная программа выводит произведение всех четных натуральных чисел до числа N.\n",
        "\n",
        "def almost_double_factorial(n):\n",
        "  factorial = 1\n",
        "  for i in range(2, n+1, 2):\n",
        "    factorial *= i\n",
        "  return factorial\n",
        "\n",
        "\n",
        "N = 25\n",
        "N_double_fact = almost_double_factorial(N)\n",
        "assert N_double_fact == 1961990553600, \"Something is wrong! Please try again\"\n",
        "\n",
        "N = 100\n",
        "N_double_fact = almost_double_factorial(N)\n",
        "assert N_double_fact == 34243224702511976248246432895208185975118675053719198827915654463488000000000000, \"Something is wrong! Please try again\""
      ],
      "metadata": {
        "colab": {
          "base_uri": "https://localhost:8080/"
        },
        "id": "lB-L3N0XJ-bL",
        "outputId": "641fa009-a91a-4656-f456-31f0607991a1"
      },
      "execution_count": 11,
      "outputs": [
        {
          "output_type": "execute_result",
          "data": {
            "text/plain": [
              "34243224702511976248246432895208185975118675053719198827915654463488000000000000"
            ]
          },
          "metadata": {},
          "execution_count": 11
        }
      ]
    },
    {
      "cell_type": "markdown",
      "source": [
        "# Хитрая сортировка"
      ],
      "metadata": {
        "id": "gg_hgVgSP6fZ"
      }
    },
    {
      "cell_type": "markdown",
      "source": [
        "\n",
        "Пусть у нас есть следующий список, в котором элементы -- tuple из строк:\n",
        "\n",
        "``items = [('one', 'two'), ('three', 'four'), ('five', 'six'), ('string', 'a')]``\n",
        "\n",
        "Мы хотим отсортировать этот список по последней букве второго элемента каждого ``tuple``, т.е. получить такой список:\n",
        "\n",
        "``sorted_items = [('string', 'a'), ('one', 'two'), ('three', 'four'), ('five', 'six')]``.\n",
        "Что нужно вставить вместо \"###\" в следующем выражении, чтобы получить сортировку?\n",
        "\n",
        "``sorted_items = sorted(items, key=lambda x: ###)``"
      ],
      "metadata": {
        "id": "JyWRUELdXWxD"
      }
    },
    {
      "cell_type": "code",
      "source": [
        "items = [('one', 'two'), ('three', 'four'), ('five', 'six'), ('string', 'a')]\n",
        "\n",
        "sorted_items = sorted(items, key=lambda x: x[1][-1])\n",
        "                      \n",
        "assert sorted_items == [('string', 'a'), ('one', 'two'), ('three', 'four'), ('five', 'six')], \\\n",
        "\"Something is wrong! Please try again\""
      ],
      "metadata": {
        "id": "nKJGts5zP8FQ"
      },
      "execution_count": null,
      "outputs": []
    },
    {
      "cell_type": "markdown",
      "source": [
        "# Ещё строки"
      ],
      "metadata": {
        "id": "YVL8-3TXbFQt"
      }
    },
    {
      "cell_type": "markdown",
      "source": [
        "Вашей программе на вход подаются три строки ``s, a, b``, состоящие из строчных латинских букв.\n",
        "За одну операцию вы можете заменить все вхождения строки ``a`` в строку ``s`` на строку ``b``.\n",
        "\n",
        "Например, ``s = \"abab\", a = \"ab\", b = \"ba\"``, тогда после выполнения одной операции строка ``s`` перейдет в строку ``\"baba\"``, после выполнения двух и операций – в строку ``\"bbaa\"``, и дальнейшие операции не будут изменять строку ``s``.\n",
        "\n",
        "Необходимо узнать, после какого минимального количества операций в строке ``s`` не останется вхождений строки ``a``. Если операций потребуется более 1000, выведите ``Impossible``.\n",
        "\n",
        "Выведите одно число – минимальное число операций, после применения которых в строке ``s`` не останется вхождений строки ``a``, или ``Impossible``, если операций потребуется более 1000.\n",
        "\n",
        "**Sample Input 1:**\n",
        "\n",
        "``\n",
        "ababa\n",
        "a\n",
        "b\n",
        "``\n",
        "\n",
        "**Sample Output 1:**\n",
        "\n",
        "``1``\n",
        "\n",
        "**Sample Input 2:**\n",
        "\n",
        "``ababa\n",
        "b\n",
        "a``\n",
        "\n",
        "**Sample Output 2:**\n",
        "\n",
        "``1``\n",
        "\n",
        "**Sample Input 3:**\n",
        "\n",
        "``ababa\n",
        "c\n",
        "c``\n",
        "\n",
        "**Sample Output 3:**\n",
        "\n",
        "``0``\n",
        "\n",
        "**Sample Input 4:**\n",
        "\n",
        "``ababac\n",
        "c\n",
        "c``\n",
        "\n",
        "**Sample Output 4:**\n",
        "\n",
        "``Impossible``\n"
      ],
      "metadata": {
        "id": "4CP4UWvIQBSi"
      }
    },
    {
      "cell_type": "code",
      "source": [
        "#Данна программа заменяет все вхождения строки a в строку s на строку b. \n",
        "#И выдает минимальное количество операций, которое потребуется, чтобы в строке s не осталось вхождений строки a.\n",
        "\n",
        "def get_replaces_count(s, a, b):\n",
        "  replaces = 0\n",
        "  max_count = 1000\n",
        "  current_string = s\n",
        "\n",
        "  while replaces <= max_count:\n",
        "    if a in current_string:\n",
        "      current_string = current_string.replace(a, b)\n",
        "    else:\n",
        "      return replaces\n",
        "    replaces += 1\n",
        "  return \"Impossible\"\n",
        "\n",
        "assert get_replaces_count(\"ababa\", \"a\", \"b\") == 1\n",
        "assert get_replaces_count(\"ababa\", \"b\", \"a\") == 1\n",
        "assert get_replaces_count(\"ababa\", \"c\", \"c\") == 0\n",
        "assert get_replaces_count(\"ababac\", \"c\", \"c\") == \"Impossible\"\n",
        "assert get_replaces_count(\"abab\", \"ab\", \"ba\") == 2"
      ],
      "metadata": {
        "id": "SjhSOms6QCDd"
      },
      "execution_count": 14,
      "outputs": []
    },
    {
      "cell_type": "markdown",
      "source": [
        "### Создание массивов\n",
        "Дан массив $A[0,\\ldots,N-1]$. Напишите функцию, принимающую один обязательный аргумент A и один опциональный аргумент ``erase``, по умолчанию равный 1. Возвратите массив $B[0,\\ldots, N-1]$, где $B_i = A_0 + \\ldots + A_{i}$ --- массив частичных сумм массива $A$, предварительно удалив из массива $B$ все элементы, равные erase. Постарайтесь сделать это за линейное время без использования Numpy."
      ],
      "metadata": {
        "id": "IB40O3qiVxUw"
      }
    },
    {
      "cell_type": "code",
      "source": [
        "def cumsum_and_erase(<YOUR CODE>):\n",
        "    #YOUR CODE\n",
        "    \n",
        "    B = #YOUR CODE\n",
        "    return B\n",
        "\n",
        "A = [5, 1, 4, 5, 14]\n",
        "B = cumsum_and_erase(A, erase=10)\n",
        "\n",
        "assert B == [5, 6, 15, 29], \"Something is wrong! Please try again\""
      ],
      "metadata": {
        "id": "Agj-fS4AVwZm"
      },
      "execution_count": null,
      "outputs": []
    },
    {
      "cell_type": "markdown",
      "source": [
        "### Обработка текста\n",
        "Дан список текстов, слова в которых разделены пробелами (можно считать, что знаков препинания нет). Часть слов является \"мусорными\": в них присутствуют цифры и спецсимволы. Отфильтруйте такие слова из каждого текста. Используйте функции ``str.split``, ``str.isalpha``, ``str.join``, а также [генератор filter](http://pythonicway.com/python-functinal-programming)."
      ],
      "metadata": {
        "id": "9_kV5D7FV7Oi"
      }
    },
    {
      "cell_type": "code",
      "source": [
        "sentences = ['1 thousand devils', 'My name is 9Pasha', 'Room #125 costs $100']\n",
        "\n",
        "def process(sentences):\n",
        "    #YOUR CODE\n",
        "    \n",
        "    result = #YOUR CODE\n",
        "    return result\n",
        "\n",
        "assert process(sentences) == ['thousand devils', 'My name is', 'Room costs'], \\\n",
        "\"Something is wrong! Please try again\""
      ],
      "metadata": {
        "id": "rWiGzIJpV76T"
      },
      "execution_count": null,
      "outputs": []
    },
    {
      "cell_type": "markdown",
      "source": [
        "#Расстояние Хэмминга"
      ],
      "metadata": {
        "id": "Q2_Q4YKBWCrW"
      }
    },
    {
      "cell_type": "markdown",
      "source": [
        "Вам даны две строки, ``a`` и ``b`` одинаковой длины. Необходимо посчитать расстояние Хэмминга между ними, которое определяется как количество символов, которые не совпадают между двумя строками в одинаковой позиции.\n",
        "\n",
        "**Sample Input 1:**\n",
        "\n",
        "```\n",
        "a = 'AGCT'\n",
        "b = 'ACGT'\n",
        "hamming(a, b)\n",
        "```\n",
        "\n",
        "**Sample Output 1:**\n",
        "\n",
        "``2``"
      ],
      "metadata": {
        "id": "wy5slGtzV_Vm"
      }
    },
    {
      "cell_type": "code",
      "source": [
        "#Данная программа рассчитывает расстояние Хэмминга.\n",
        "\n",
        "def hamming(string1: str, string2: str):\n",
        "    distance = 0\n",
        "    for i in range(len(string1)):\n",
        "      if string1[i] != string2[i]:\n",
        "        distance += 1\n",
        "    return distance\n",
        "\n",
        "assert hamming(\"AGCT\", \"ACGT\") == 2"
      ],
      "metadata": {
        "id": "BZhChumZWF1K"
      },
      "execution_count": null,
      "outputs": []
    },
    {
      "cell_type": "markdown",
      "source": [
        "# Numpy"
      ],
      "metadata": {
        "id": "LLcIIrmAWIfK"
      }
    },
    {
      "cell_type": "code",
      "source": [
        "import numpy as np\n",
        "import random\n",
        "import scipy.stats as sps"
      ],
      "metadata": {
        "id": "qaJsJEs9WRmK"
      },
      "execution_count": 10,
      "outputs": []
    },
    {
      "cell_type": "markdown",
      "source": [
        "### Задание 1\n",
        "В первой задаче вам предлагается перемножить две квадратные матрицы двумя способами -- без использования пакета ***numpy*** и с ним."
      ],
      "metadata": {
        "id": "hjyEGX88WVxn"
      }
    },
    {
      "cell_type": "code",
      "source": [
        "# Для генерации матриц используем фукнцию random -- она используется для генерации случайных объектов \n",
        "# функция sample создает случайную выборку. В качестве аргумента ей передается кортеж (i,j),  \n",
        "# здесь i -- число строк, j -- число столбцов.\n",
        "a = np.random.sample((100, 100))\n",
        "b = np.random.sample((100, 100))\n",
        "\n",
        "# Выведите размерность (ранг) каждой матрицы с помощью функции ndim.\n",
        "# Используйте функцию shape, что она вывела?\n",
        "\n",
        "print(\"Ранг матрицы А:\", np.ndim(a))\n",
        "print(\"Ранг матрицы B:\", np.ndim(b))\n",
        "\n",
        "print(\"Размер матрицы А:\", np.shape(a))\n",
        "print(\"Размер матрицы B:\", np.shape(b))"
      ],
      "metadata": {
        "colab": {
          "base_uri": "https://localhost:8080/"
        },
        "id": "TtrlVuCMWZ3C",
        "outputId": "a1af14c2-8b1b-4f7c-ae10-6b60848226d8"
      },
      "execution_count": 11,
      "outputs": [
        {
          "output_type": "stream",
          "name": "stdout",
          "text": [
            "Ранг матрицы А: 2\n",
            "Ранг матрицы B: 2\n",
            "Размер матрицы А: (100, 100)\n",
            "Размер матрицы B: (100, 100)\n"
          ]
        }
      ]
    },
    {
      "cell_type": "code",
      "source": [
        "def matrix_column(a, i):\n",
        "  return [a_row[i] for a_row in a]\n",
        "\n",
        "def mult(a, b):\n",
        "    \"\"\"  \n",
        "    a: list of \"size\" lists, each contains \"size\" floats --- первая матрица-аргумент\n",
        "    b: list of \"size\" lists, each contains \"size\" floats --- вторая матрица-аргумент\n",
        "    return c: list of \"size\" lists, each contains \"size\" floats --- матрица, являющаяся результатом умножения матриц a и b\n",
        "    \n",
        "    Функция принимает на вход две матрицы: a и b размерностью size x size\n",
        "    Возвращает матрицу их произведения a * b = c \n",
        "\n",
        "    Реализуйте умножение матриц без использования функций из пакета numpy (может помочь функция zip)\n",
        "    \"\"\"\n",
        "    def matrix_column(a, i):\n",
        "      return [a_row[i] for a_row in a]\n",
        "\n",
        "    size = len(a)\n",
        "    result = []\n",
        "    for i in range(size):\n",
        "      result.append([])\n",
        "      for j in range(size):\n",
        "        zipped = zip(a[i], matrix_column(b, j))\n",
        "        c = sum([x*y for x,y in zipped])\n",
        "        result[i].append(c)\n",
        "\n",
        "    return result"
      ],
      "metadata": {
        "id": "mZ7NkDlVWasw"
      },
      "execution_count": 13,
      "outputs": []
    },
    {
      "cell_type": "code",
      "source": [
        "def np_mult(a, b):\n",
        "    \"\"\"  \n",
        "    a: np.array[size, size]             --- первая матрица-аргумент\n",
        "    b: np.array[size, size] --- вторая матрица-аргумент\n",
        "    return c: np.array[size, size]       --- матрица, являющаяся результатом умножения матриц a и b\n",
        "    \n",
        "    Функция принимает на вход две матрицы: a и b размерностью size x size\n",
        "    Возвращает матрицу их произведения a * b = c \n",
        "\n",
        "    Реализуйте умножение матриц, используя функции из пакета numpy\n",
        "    \"\"\"\n",
        "    return np.matmul(a, b)"
      ],
      "metadata": {
        "id": "AJnSxAb3WgjQ"
      },
      "execution_count": 14,
      "outputs": []
    },
    {
      "cell_type": "code",
      "source": [
        "%%time\n",
        "# засечем время работы функции без NumPy\n",
        "M1 = mult(a, b)"
      ],
      "metadata": {
        "colab": {
          "base_uri": "https://localhost:8080/"
        },
        "id": "_iXK8oOWWiZC",
        "outputId": "c30025d2-3939-4bad-b8b3-c9b1ff94dcb0"
      },
      "execution_count": 15,
      "outputs": [
        {
          "output_type": "stream",
          "name": "stdout",
          "text": [
            "CPU times: user 515 ms, sys: 0 ns, total: 515 ms\n",
            "Wall time: 516 ms\n"
          ]
        }
      ]
    },
    {
      "cell_type": "code",
      "source": [
        "%%time\n",
        "# засечем время работы функции с NumPy\n",
        "M2 = np_mult(a, b)"
      ],
      "metadata": {
        "colab": {
          "base_uri": "https://localhost:8080/"
        },
        "id": "HAF3jcMjWk5x",
        "outputId": "245712aa-974c-4c30-d71c-1e3a74ac65c4"
      },
      "execution_count": 16,
      "outputs": [
        {
          "output_type": "stream",
          "name": "stdout",
          "text": [
            "CPU times: user 1.44 ms, sys: 193 µs, total: 1.63 ms\n",
            "Wall time: 4.97 ms\n"
          ]
        }
      ]
    },
    {
      "cell_type": "code",
      "source": [
        "# проверим корректность\n",
        "assert np.allclose(np.array(M1), M2)"
      ],
      "metadata": {
        "id": "8Jeb_L2uWnhs"
      },
      "execution_count": 17,
      "outputs": []
    }
  ]
}
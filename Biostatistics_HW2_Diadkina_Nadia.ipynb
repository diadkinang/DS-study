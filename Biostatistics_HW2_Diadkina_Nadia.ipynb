{
 "cells": [
  {
   "cell_type": "code",
   "execution_count": 131,
   "metadata": {},
   "outputs": [],
   "source": [
    "import math\n",
    "import numpy as np\n",
    "import pandas as pd\n",
    "from scipy import stats\n",
    "from scipy import integrate\n",
    "import scikit_posthocs as sp\n",
    "import statsmodels.api as sm"
   ]
  },
  {
   "attachments": {},
   "cell_type": "markdown",
   "metadata": {},
   "source": [
    "Задание №1. Рассчитайте p-value и статистику с помощью соответствующего теста для зависимых выборок на данных Task 1.csv:\n",
    "- Оба результата округлите до 3х знаков после запятой.\n",
    "- Какой вывод можно сделать из полученных результатов?"
   ]
  },
  {
   "attachments": {},
   "cell_type": "markdown",
   "metadata": {},
   "source": [
    "Так как рассматривые выборки зависимы и имеют нормальное распределение (судя по представленному графику), то будем использовать T-тест для зависимых выборок."
   ]
  },
  {
   "cell_type": "code",
   "execution_count": 132,
   "metadata": {},
   "outputs": [
    {
     "name": "stdout",
     "output_type": "stream",
     "text": [
      "p-value:  0.021\n",
      "statistic:  -2.328\n"
     ]
    }
   ],
   "source": [
    "task1 = pd.read_csv('data/Biostatistics_HW2_Task_1.csv')\n",
    "\n",
    "result = stats.ttest_rel(task1.Time_point_1, task1.Time_point_2)\n",
    "print('p-value: ', round(result.pvalue, 3))\n",
    "print('statistic: ', round(result.statistic, 3))"
   ]
  },
  {
   "attachments": {},
   "cell_type": "markdown",
   "metadata": {},
   "source": [
    "Так как p-value меньше 0.05, то мы можем считать, что две выборки имеют разное распределение."
   ]
  },
  {
   "attachments": {},
   "cell_type": "markdown",
   "metadata": {},
   "source": [
    "Задание №2. Рассчитайте p-value и статистику с помощью соответствующего теста для зависимых выборок на данных Task 2.csv:\n",
    "- Оба результата округлите до 3х знаков после запятой.\n",
    "- Какой вывод можно сделать из полученных результатов?"
   ]
  },
  {
   "attachments": {},
   "cell_type": "markdown",
   "metadata": {},
   "source": [
    "Так как рассматривые выборки зависимы и не имеют нормального распределения (судя по представленному графику), то будем использовать тест Вилкоксона."
   ]
  },
  {
   "cell_type": "code",
   "execution_count": 133,
   "metadata": {},
   "outputs": [
    {
     "name": "stdout",
     "output_type": "stream",
     "text": [
      "p-value:  0.413\n",
      "statistic:  14751.0\n"
     ]
    }
   ],
   "source": [
    "task2 = pd.read_csv('data/Biostatistics_HW2_Task_2.csv')\n",
    "\n",
    "result = stats.wilcoxon(task2.Time_point_1, task2.Time_point_2)\n",
    "print('p-value: ', round(result.pvalue, 3))\n",
    "print('statistic: ', round(result.statistic, 3))"
   ]
  },
  {
   "attachments": {},
   "cell_type": "markdown",
   "metadata": {},
   "source": [
    "Так как p-value больше 0.05, то мы можем считать, что две выборки имеют одинаковое распределение."
   ]
  },
  {
   "attachments": {},
   "cell_type": "markdown",
   "metadata": {},
   "source": [
    "Задание №3. Рассчитайте p-value и статистику с помощью соответствующего теста для данных Task 3.csv:\n",
    "- Оба результата округлите до 3х знаков после запятой.\n",
    "- Какой вывод можно сделать из полученных результатов?"
   ]
  },
  {
   "cell_type": "code",
   "execution_count": 134,
   "metadata": {},
   "outputs": [
    {
     "data": {
      "text/html": [
       "<div>\n",
       "<style scoped>\n",
       "    .dataframe tbody tr th:only-of-type {\n",
       "        vertical-align: middle;\n",
       "    }\n",
       "\n",
       "    .dataframe tbody tr th {\n",
       "        vertical-align: top;\n",
       "    }\n",
       "\n",
       "    .dataframe thead th {\n",
       "        text-align: right;\n",
       "    }\n",
       "</style>\n",
       "<table border=\"1\" class=\"dataframe\">\n",
       "  <thead>\n",
       "    <tr style=\"text-align: right;\">\n",
       "      <th></th>\n",
       "      <th>Group_1</th>\n",
       "      <th>Group_2</th>\n",
       "      <th>Group_3</th>\n",
       "      <th>Group_4</th>\n",
       "    </tr>\n",
       "  </thead>\n",
       "  <tbody>\n",
       "    <tr>\n",
       "      <th>0</th>\n",
       "      <td>-1.4944</td>\n",
       "      <td>7.0439</td>\n",
       "      <td>-7.4954</td>\n",
       "      <td>8.7465</td>\n",
       "    </tr>\n",
       "    <tr>\n",
       "      <th>1</th>\n",
       "      <td>0.3574</td>\n",
       "      <td>5.6963</td>\n",
       "      <td>-11.7362</td>\n",
       "      <td>10.1842</td>\n",
       "    </tr>\n",
       "    <tr>\n",
       "      <th>2</th>\n",
       "      <td>3.7011</td>\n",
       "      <td>6.7439</td>\n",
       "      <td>-14.1450</td>\n",
       "      <td>11.3717</td>\n",
       "    </tr>\n",
       "    <tr>\n",
       "      <th>3</th>\n",
       "      <td>1.0644</td>\n",
       "      <td>2.9705</td>\n",
       "      <td>-8.5661</td>\n",
       "      <td>11.0441</td>\n",
       "    </tr>\n",
       "    <tr>\n",
       "      <th>4</th>\n",
       "      <td>-6.4899</td>\n",
       "      <td>7.4093</td>\n",
       "      <td>-8.4214</td>\n",
       "      <td>12.8535</td>\n",
       "    </tr>\n",
       "  </tbody>\n",
       "</table>\n",
       "</div>"
      ],
      "text/plain": [
       "   Group_1  Group_2  Group_3  Group_4\n",
       "0  -1.4944   7.0439  -7.4954   8.7465\n",
       "1   0.3574   5.6963 -11.7362  10.1842\n",
       "2   3.7011   6.7439 -14.1450  11.3717\n",
       "3   1.0644   2.9705  -8.5661  11.0441\n",
       "4  -6.4899   7.4093  -8.4214  12.8535"
      ]
     },
     "execution_count": 134,
     "metadata": {},
     "output_type": "execute_result"
    }
   ],
   "source": [
    "task3 = pd.read_csv('data/Biostatistics_HW2_Task_3.csv')\n",
    "task3.head(5)"
   ]
  },
  {
   "attachments": {},
   "cell_type": "markdown",
   "metadata": {},
   "source": [
    "Для попарных сравнений будем использовать метод posthoc_ttest из библиотеки scikit_posthocs:"
   ]
  },
  {
   "cell_type": "code",
   "execution_count": 135,
   "metadata": {},
   "outputs": [
    {
     "data": {
      "text/html": [
       "<div>\n",
       "<style scoped>\n",
       "    .dataframe tbody tr th:only-of-type {\n",
       "        vertical-align: middle;\n",
       "    }\n",
       "\n",
       "    .dataframe tbody tr th {\n",
       "        vertical-align: top;\n",
       "    }\n",
       "\n",
       "    .dataframe thead th {\n",
       "        text-align: right;\n",
       "    }\n",
       "</style>\n",
       "<table border=\"1\" class=\"dataframe\">\n",
       "  <thead>\n",
       "    <tr style=\"text-align: right;\">\n",
       "      <th></th>\n",
       "      <th>1</th>\n",
       "      <th>2</th>\n",
       "      <th>3</th>\n",
       "      <th>4</th>\n",
       "    </tr>\n",
       "  </thead>\n",
       "  <tbody>\n",
       "    <tr>\n",
       "      <th>1</th>\n",
       "      <td>1.0</td>\n",
       "      <td>0.0</td>\n",
       "      <td>0.0</td>\n",
       "      <td>0.0</td>\n",
       "    </tr>\n",
       "    <tr>\n",
       "      <th>2</th>\n",
       "      <td>0.0</td>\n",
       "      <td>1.0</td>\n",
       "      <td>0.0</td>\n",
       "      <td>0.0</td>\n",
       "    </tr>\n",
       "    <tr>\n",
       "      <th>3</th>\n",
       "      <td>0.0</td>\n",
       "      <td>0.0</td>\n",
       "      <td>1.0</td>\n",
       "      <td>0.0</td>\n",
       "    </tr>\n",
       "    <tr>\n",
       "      <th>4</th>\n",
       "      <td>0.0</td>\n",
       "      <td>0.0</td>\n",
       "      <td>0.0</td>\n",
       "      <td>1.0</td>\n",
       "    </tr>\n",
       "  </tbody>\n",
       "</table>\n",
       "</div>"
      ],
      "text/plain": [
       "     1    2    3    4\n",
       "1  1.0  0.0  0.0  0.0\n",
       "2  0.0  1.0  0.0  0.0\n",
       "3  0.0  0.0  1.0  0.0\n",
       "4  0.0  0.0  0.0  1.0"
      ]
     },
     "execution_count": 135,
     "metadata": {},
     "output_type": "execute_result"
    }
   ],
   "source": [
    "sp.posthoc_ttest([task3.Group_1, task3.Group_2, task3.Group_3, task3.Group_4]).round(3)"
   ]
  },
  {
   "attachments": {},
   "cell_type": "markdown",
   "metadata": {},
   "source": [
    "Так как все попарные p-value меньше 0.05, то мы можем считать, что все выборки имеют разное распределение относительно друг друга."
   ]
  },
  {
   "attachments": {},
   "cell_type": "markdown",
   "metadata": {},
   "source": [
    "Задание №4. Если в предыдущем задании у вас получилось, что между группами есть различия, то проведите попарные сравнения, используя поправку Холма-Бонферрони.\n",
    "- Оба результата округлите до 3х знаков после запятой.\n",
    "- Какой вывод можно сделать из полученных результатов?\n",
    "\n",
    "Примечание: для попарных сравнений лучше использовать метод scikit_posthocs.posthoc_ttest."
   ]
  },
  {
   "cell_type": "code",
   "execution_count": 136,
   "metadata": {},
   "outputs": [
    {
     "data": {
      "text/html": [
       "<div>\n",
       "<style scoped>\n",
       "    .dataframe tbody tr th:only-of-type {\n",
       "        vertical-align: middle;\n",
       "    }\n",
       "\n",
       "    .dataframe tbody tr th {\n",
       "        vertical-align: top;\n",
       "    }\n",
       "\n",
       "    .dataframe thead th {\n",
       "        text-align: right;\n",
       "    }\n",
       "</style>\n",
       "<table border=\"1\" class=\"dataframe\">\n",
       "  <thead>\n",
       "    <tr style=\"text-align: right;\">\n",
       "      <th></th>\n",
       "      <th>1</th>\n",
       "      <th>2</th>\n",
       "      <th>3</th>\n",
       "      <th>4</th>\n",
       "    </tr>\n",
       "  </thead>\n",
       "  <tbody>\n",
       "    <tr>\n",
       "      <th>1</th>\n",
       "      <td>1.0</td>\n",
       "      <td>0.0</td>\n",
       "      <td>0.0</td>\n",
       "      <td>0.0</td>\n",
       "    </tr>\n",
       "    <tr>\n",
       "      <th>2</th>\n",
       "      <td>0.0</td>\n",
       "      <td>1.0</td>\n",
       "      <td>0.0</td>\n",
       "      <td>0.0</td>\n",
       "    </tr>\n",
       "    <tr>\n",
       "      <th>3</th>\n",
       "      <td>0.0</td>\n",
       "      <td>0.0</td>\n",
       "      <td>1.0</td>\n",
       "      <td>0.0</td>\n",
       "    </tr>\n",
       "    <tr>\n",
       "      <th>4</th>\n",
       "      <td>0.0</td>\n",
       "      <td>0.0</td>\n",
       "      <td>0.0</td>\n",
       "      <td>1.0</td>\n",
       "    </tr>\n",
       "  </tbody>\n",
       "</table>\n",
       "</div>"
      ],
      "text/plain": [
       "     1    2    3    4\n",
       "1  1.0  0.0  0.0  0.0\n",
       "2  0.0  1.0  0.0  0.0\n",
       "3  0.0  0.0  1.0  0.0\n",
       "4  0.0  0.0  0.0  1.0"
      ]
     },
     "execution_count": 136,
     "metadata": {},
     "output_type": "execute_result"
    }
   ],
   "source": [
    "sp.posthoc_ttest([task3.Group_1, task3.Group_2, task3.Group_3, task3.Group_4], p_adjust='holm').round(3)"
   ]
  },
  {
   "attachments": {},
   "cell_type": "markdown",
   "metadata": {},
   "source": [
    "Судя по всему, использование поправки Холма-Бонферрони никак не повлияло на результат. Так как все попарные p-value меньше 0.05, то мы можем считать, что все выборки действительно имеют разное распределение относительно друг друга."
   ]
  },
  {
   "attachments": {},
   "cell_type": "markdown",
   "metadata": {},
   "source": [
    "Задание №5. Составьте таблицу сопряженности для данных Task 5.csv:\n",
    "\n",
    "Примечание: в строках укажите город, а в столбцах — цвет машины."
   ]
  },
  {
   "cell_type": "code",
   "execution_count": 137,
   "metadata": {},
   "outputs": [
    {
     "data": {
      "text/html": [
       "<div>\n",
       "<style scoped>\n",
       "    .dataframe tbody tr th:only-of-type {\n",
       "        vertical-align: middle;\n",
       "    }\n",
       "\n",
       "    .dataframe tbody tr th {\n",
       "        vertical-align: top;\n",
       "    }\n",
       "\n",
       "    .dataframe thead th {\n",
       "        text-align: right;\n",
       "    }\n",
       "</style>\n",
       "<table border=\"1\" class=\"dataframe\">\n",
       "  <thead>\n",
       "    <tr style=\"text-align: right;\">\n",
       "      <th>Color</th>\n",
       "      <th>Белый</th>\n",
       "      <th>Жёлтый</th>\n",
       "      <th>Зелёный</th>\n",
       "      <th>Красный</th>\n",
       "      <th>Синий</th>\n",
       "      <th>Сиреневый</th>\n",
       "      <th>Чёрный</th>\n",
       "    </tr>\n",
       "    <tr>\n",
       "      <th>City</th>\n",
       "      <th></th>\n",
       "      <th></th>\n",
       "      <th></th>\n",
       "      <th></th>\n",
       "      <th></th>\n",
       "      <th></th>\n",
       "      <th></th>\n",
       "    </tr>\n",
       "  </thead>\n",
       "  <tbody>\n",
       "    <tr>\n",
       "      <th>Лондон</th>\n",
       "      <td>1183</td>\n",
       "      <td>1241</td>\n",
       "      <td>1114</td>\n",
       "      <td>1188</td>\n",
       "      <td>1182</td>\n",
       "      <td>1151</td>\n",
       "      <td>1156</td>\n",
       "    </tr>\n",
       "    <tr>\n",
       "      <th>Москва</th>\n",
       "      <td>1178</td>\n",
       "      <td>1180</td>\n",
       "      <td>1251</td>\n",
       "      <td>1233</td>\n",
       "      <td>1182</td>\n",
       "      <td>1200</td>\n",
       "      <td>1193</td>\n",
       "    </tr>\n",
       "    <tr>\n",
       "      <th>Токио</th>\n",
       "      <td>1224</td>\n",
       "      <td>1162</td>\n",
       "      <td>1223</td>\n",
       "      <td>1224</td>\n",
       "      <td>1185</td>\n",
       "      <td>1163</td>\n",
       "      <td>1187</td>\n",
       "    </tr>\n",
       "  </tbody>\n",
       "</table>\n",
       "</div>"
      ],
      "text/plain": [
       "Color   Белый  Жёлтый  Зелёный  Красный  Синий  Сиреневый  Чёрный\n",
       "City                                                             \n",
       "Лондон   1183    1241     1114     1188   1182       1151    1156\n",
       "Москва   1178    1180     1251     1233   1182       1200    1193\n",
       "Токио    1224    1162     1223     1224   1185       1163    1187"
      ]
     },
     "execution_count": 137,
     "metadata": {},
     "output_type": "execute_result"
    }
   ],
   "source": [
    "task5 = pd.read_csv('data/Biostatistics_HW2_Task_5.csv')\n",
    "crosstab = pd.crosstab(index=task5.City, columns=task5.Color)\n",
    "crosstab"
   ]
  },
  {
   "attachments": {},
   "cell_type": "markdown",
   "metadata": {},
   "source": [
    "Задание №6. Проверьте гипотезу об отсутствии зависимости между городом и цветом машины на данных Task 5.csv\n",
    "- Выберите подходящий тест, и в качестве ответа приведите статистику и p-value.\n",
    "- Какой вывод можно сделать из полученных результатов?\n",
    "\n",
    "Оба результата округлите до 3х знаков после запятой."
   ]
  },
  {
   "attachments": {},
   "cell_type": "markdown",
   "metadata": {},
   "source": [
    "Так как у нас в качестве нулевой гипотезы рассматривается независимость данных, то мы можем проверить критерий хи-квадрат:"
   ]
  },
  {
   "cell_type": "code",
   "execution_count": 72,
   "metadata": {},
   "outputs": [
    {
     "name": "stdout",
     "output_type": "stream",
     "text": [
      "p-value:  0.382\n",
      "statistic:  12.818\n"
     ]
    }
   ],
   "source": [
    "result = stats.chi2_contingency(crosstab)\n",
    "print('p-value: ', result.pvalue.round(3))\n",
    "print('statistic: ', result.statistic.round(3))"
   ]
  },
  {
   "attachments": {},
   "cell_type": "markdown",
   "metadata": {},
   "source": [
    "Так как p-value больше 0.05, то мы можем считать, что зависимости между цветом машины и городом нет."
   ]
  }
 ],
 "metadata": {
  "kernelspec": {
   "display_name": "Python 3",
   "language": "python",
   "name": "python3"
  },
  "language_info": {
   "codemirror_mode": {
    "name": "ipython",
    "version": 3
   },
   "file_extension": ".py",
   "mimetype": "text/x-python",
   "name": "python",
   "nbconvert_exporter": "python",
   "pygments_lexer": "ipython3",
   "version": "3.11.2"
  },
  "orig_nbformat": 4
 },
 "nbformat": 4,
 "nbformat_minor": 2
}

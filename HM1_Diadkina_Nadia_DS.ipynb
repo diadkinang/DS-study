{
  "nbformat": 4,
  "nbformat_minor": 0,
  "metadata": {
    "colab": {
      "provenance": [],
      "collapsed_sections": [],
      "authorship_tag": "ABX9TyOFMgdn35IlP6vlLKTwsA7W",
      "include_colab_link": true
    },
    "kernelspec": {
      "name": "python3",
      "display_name": "Python 3"
    },
    "language_info": {
      "name": "python"
    }
  },
  "cells": [
    {
      "cell_type": "markdown",
      "metadata": {
        "id": "view-in-github",
        "colab_type": "text"
      },
      "source": [
        "<a href=\"https://colab.research.google.com/github/diadkinang/DS-study/blob/main/HM1_Diadkina_Nadia_DS.ipynb\" target=\"_parent\"><img src=\"https://colab.research.google.com/assets/colab-badge.svg\" alt=\"Open In Colab\"/></a>"
      ]
    },
    {
      "cell_type": "code",
      "execution_count": 1,
      "metadata": {
        "colab": {
          "base_uri": "https://localhost:8080/"
        },
        "id": "_MykEtFHVzAz",
        "outputId": "6c3674bb-5af3-45ce-f783-6d6c3e749133"
      },
      "outputs": [
        {
          "output_type": "stream",
          "name": "stdout",
          "text": [
            "Python 3.7.14\n"
          ]
        }
      ],
      "source": [
        "!python3 -V"
      ]
    },
    {
      "cell_type": "markdown",
      "source": [
        "****\n",
        "**Задание 1.**\n",
        "\n",
        "Студент магистратуры обычно спит ночью XX часов и устраивает себе днем тихий час на YY минут. Определите, сколько всего студент спит в сутки (если вообще спит). Программа должна принимать значения XX и YY из стандартного потока ввода (функция input), результат надо выводить в стандартный поток вывода (функция print).\n",
        "\n",
        "\n",
        "```\n",
        "Sample Input 1:\n",
        "7\n",
        "30\n",
        "Sample Output 1:\n",
        "450\n",
        "\n",
        "Sample Input 2:\n",
        "0\n",
        "42\n",
        "Sample Output 2:\n",
        "42\n",
        "```\n"
      ],
      "metadata": {
        "id": "-4NUOmuYWENd"
      }
    },
    {
      "cell_type": "code",
      "source": [
        "#Решение задания 1\n",
        "#Данная программа выводит количество времени в сутки, которое спит студент.\n",
        "\n",
        "hours = input('Please, enter the number of hours you sleep: ')\n",
        "minutes = input('Please, enter the number of minutes you sleep: ')\n",
        "\n",
        "hours_int = int(hours)\n",
        "minutes_int = int(minutes)\n",
        "\n",
        "sum_minutes = hours_int*60 + minutes_int\n",
        "\n",
        "print(sum_minutes)"
      ],
      "metadata": {
        "colab": {
          "base_uri": "https://localhost:8080/"
        },
        "id": "tLoEtI0pWCee",
        "outputId": "b272dd4f-e2f4-4a2e-83c0-7794748b82c2"
      },
      "execution_count": 40,
      "outputs": [
        {
          "output_type": "stream",
          "name": "stdout",
          "text": [
            "Please, enter the number of hours you sleep: 7\n",
            "Please, enter the number of minutes you sleep: 30\n",
            "450\n"
          ]
        }
      ]
    },
    {
      "cell_type": "markdown",
      "source": [
        "****\n",
        "**Задание 2**\n",
        "\n",
        "Студент МФТИ каждый день ложится спать ровно в полночь и недавно узнал, что оптимальное время для его сна составляет XX минут. Он хочет поставить себе будильник так, чтобы он прозвенел ровно через XX минут после полуночи, однако для этого необходимо указать время сигнала в формате часы, минуты. Помогите студенту определить, на какое время завести будильник.\n",
        "Часы и минуты в выводе программы должны располагаться на разных строках\n",
        "\n",
        "```\n",
        "Sample Input 1:\n",
        "480\n",
        "Sample Output 1:\n",
        "8\n",
        "0\n",
        "\n",
        "Sample Input 2:\n",
        "512\n",
        "Sample Output 2:\n",
        "8\n",
        "32\n",
        "```\n"
      ],
      "metadata": {
        "id": "w20H5SuNWLOk"
      }
    },
    {
      "cell_type": "code",
      "source": [
        "#Решение задания 2\n",
        "#Данная программа определяет на какое время необходимо завести будильник.\n",
        "\n",
        "minutes_sum = input('Please, enter the number of minutes you would like to sleep: ')\n",
        "minutes_sum_int = int(minutes_sum)\n",
        "\n",
        "hours = minutes_sum_int // 60\n",
        "minutes = minutes_sum_int % 60\n",
        "\n",
        "print(hours)\n",
        "print(minutes)"
      ],
      "metadata": {
        "colab": {
          "base_uri": "https://localhost:8080/"
        },
        "id": "H1JAvAvwWOlW",
        "outputId": "9070e074-660b-402e-d789-f02bdee2b993"
      },
      "execution_count": 38,
      "outputs": [
        {
          "output_type": "stream",
          "name": "stdout",
          "text": [
            "Please, enter the number of minutes you would like to sleep: 512\n",
            "8\n",
            "32\n"
          ]
        }
      ]
    },
    {
      "cell_type": "markdown",
      "source": [
        "****\n",
        "**Задание 3**\n",
        "\n",
        "Студент программы “Анализ данных в медицине” узнал, что ему для сна надо XX минут. В отличие от студента МФТИ, наш студент ложится спать после полуночи в HH часов и MM минут. Помогите определить, на какое время ему поставить будильник, чтобы он прозвенел ровно через XX минут после того, как он ляжет спать.\n",
        "На стандартный ввод, каждое в своей строке, подаются значения XX, HH и MM. Гарантируется, что студент программы “Анализ данных в медицине” должен проснуться в тот же день, что и заснуть. Программа должна выводить время, на которое нужно поставить будильник: в первой строке часы, во второй — минуты.\n",
        "\n",
        "```\n",
        "Sample Input 1:\n",
        "480\n",
        "1\n",
        "2\n",
        "Sample Output 1:\n",
        "9\n",
        "2\n",
        "Sample Input 2:\n",
        "475\n",
        "1\n",
        "55\n",
        "Sample Output 2:\n",
        "9\n",
        "50\n",
        "\n",
        "```\n"
      ],
      "metadata": {
        "id": "JSiasp1iWUiY"
      }
    },
    {
      "cell_type": "code",
      "source": [
        "#Решение задания 3\n",
        "#Данная программа определяет на какое время необходимо завести будильник для студента, который ложиться в указанное время. \n",
        "\n",
        "minutes_sum = input('Please, enter the number of minutes you would like to sleep: ')\n",
        "sleep_hour = input('Please enter the hour you go to bed: ')\n",
        "sleep_minutes = input('Please enter the minutes you go to bed: ')\n",
        "\n",
        "minutes_sum_int = int(minutes_sum)\n",
        "sleep_hour_int = int(sleep_hour)\n",
        "sleep_minutes_int = int(sleep_minutes)\n",
        "\n",
        "result_sum_minutes = minutes_sum_int + sleep_hour_int*60 + sleep_minutes_int\n",
        "\n",
        "result_hour = result_sum_minutes // 60\n",
        "result_minutes = result_sum_minutes % 60\n",
        "\n",
        "print(result_hour)\n",
        "print(result_minutes)"
      ],
      "metadata": {
        "colab": {
          "base_uri": "https://localhost:8080/"
        },
        "id": "yDpuiPnHWLnd",
        "outputId": "84c1a792-2acc-40be-d8bf-05e97ff5e5cc"
      },
      "execution_count": 42,
      "outputs": [
        {
          "output_type": "stream",
          "name": "stdout",
          "text": [
            "Please, enter the number of minutes you would like to sleep: 475\n",
            "Please enter the hour you go to bed: 1\n",
            "Please enter the minutes you go to bed: 55\n",
            "9\n",
            "50\n"
          ]
        }
      ]
    },
    {
      "cell_type": "markdown",
      "source": [
        "****\n",
        "**Задание 4**\n",
        "\n",
        "Напишите программу, на вход которой подается список чисел одной строкой. Программа должна для каждого элемента этого списка вывести сумму двух его соседей. Для элементов списка, являющихся крайними, одним из соседей считается элемент, находящийся на противоположном конце этого списка. Например, если на вход подаётся список \"1 3 5 6 10\", то на выход ожидается список \"13 6 9 15 7\" (без кавычек).\n",
        "\n",
        "Если на вход пришло только одно число, надо вывести его же.\n",
        "Вывод должен содержать одну строку с числами нового списка, разделенными пробелом.\n",
        "\n",
        "\n",
        "```\n",
        "Sample Input 1:\n",
        "1 3 5 6 10\n",
        "Sample Output 1:\n",
        "13 6 9 15 7\n",
        "Sample Input 2:\n",
        "10\n",
        "Sample Output 2:\n",
        "10\n",
        "```\n"
      ],
      "metadata": {
        "id": "VPh10KtWWcYb"
      }
    },
    {
      "cell_type": "code",
      "source": [
        "#Решение задания 4\n",
        "#Данная программа выводит для каждого элемента заданного списка сумму двух его соседей.\n",
        "\n",
        "numbers = input('Please, enter a list of numbers separated by spaces: ')\n",
        "numbers_list = [int(item) for item in numbers.split()]\n",
        "numbers_len = len(numbers_list)\n",
        "\n",
        "results = []\n",
        "\n",
        "if numbers_len <= 1:\n",
        "  results = numbers_list\n",
        "else:\n",
        "  for index, item in enumerate(numbers_list):\n",
        "      index_of_left = index - 1\n",
        "      index_of_right = index + 1\n",
        "\n",
        "      if index_of_right >= numbers_len:\n",
        "        index_of_right = 0\n",
        "\n",
        "      results.append(numbers_list[index_of_left] + numbers_list[index_of_right])\n",
        "\n",
        "print(results)"
      ],
      "metadata": {
        "colab": {
          "base_uri": "https://localhost:8080/"
        },
        "id": "a32tvwtiWifs",
        "outputId": "4c2d82e7-b662-4d90-effb-55113c94b44d"
      },
      "execution_count": 43,
      "outputs": [
        {
          "output_type": "stream",
          "name": "stdout",
          "text": [
            "Пожалуйста, введите числа через пробел: 1 3 5 6 10\n",
            "[13, 6, 9, 15, 7]\n"
          ]
        }
      ]
    },
    {
      "cell_type": "markdown",
      "source": [
        "****\n",
        "**Задание 5**\n",
        "\n",
        "Напишите программу, которая принимает на вход список чисел в одной строке и выводит на экран в одну строку значения, которые встречаются в нём более одного раза.\n",
        "\n",
        "Для решения задачи может пригодиться метод sort списка (а может и не пригодиться).\n",
        "\n",
        "Выводимые числа не должны повторяться, порядок их вывода может быть произвольным. Разделитель чисел - пробел\n"
      ],
      "metadata": {
        "id": "ZOK4I9j5Wl70"
      }
    },
    {
      "cell_type": "code",
      "source": [
        "#Решение задания 5\n",
        "#Данная программа выводит повторяющиеся значения списка.\n",
        "\n",
        "numbers = input('Please, enter a list of numbers separated by spaces: ')\n",
        "numbers_list = [int(item) for item in numbers.split()]\n",
        "numbers_list.sort()\n",
        "\n",
        "previous_number = None\n",
        "last_printed_number = None\n",
        "\n",
        "for number in numbers_list:\n",
        "  if previous_number != number:\n",
        "    previous_number = number\n",
        "  elif last_printed_number != number:\n",
        "    last_printed_number = number\n",
        "    print(number, end = ' ')"
      ],
      "metadata": {
        "colab": {
          "base_uri": "https://localhost:8080/"
        },
        "id": "mARQ8STfWqX6",
        "outputId": "46255348-e21e-4361-ca11-e7589ea9d113"
      },
      "execution_count": 73,
      "outputs": [
        {
          "output_type": "stream",
          "name": "stdout",
          "text": [
            "Please, enter a list of numbers separated by spaces: 1 1 1 1 2 2 2\n",
            "1 2 "
          ]
        }
      ]
    },
    {
      "cell_type": "markdown",
      "source": [
        "****\n",
        "**Задание 6**\n",
        "\n",
        "GC-состав является важной характеристикой геномных последовательностей и определяется как процентное соотношение суммы всех гуанинов и цитозинов к общему числу нуклеиновых оснований в геномной последовательности.\n",
        "\n",
        "Напишите программу, которая вычисляет процентное содержание символов G (гуанин) и C (цитозин) в введенной строке (программа не должна зависеть от регистра вводимых символов).\n",
        "Например, в строке \"acggtgttat\" процентное содержание символов G и C равно 4*0.1 * 100 = 40.0, где 4 - это количество символов G и C, а 10 - это длина строки.\n",
        "\n",
        "```\n",
        "Sample Input:\n",
        "acggtgttat\n",
        "Sample Output:\n",
        "40.0\n",
        "```\n"
      ],
      "metadata": {
        "id": "UzVChxjgWsp7"
      }
    },
    {
      "cell_type": "code",
      "source": [
        "#Решение задания 6\n",
        "#Данная программа вычисляет процентное содержиние цитозина и гуанина в генетической последовательности.\n",
        "\n",
        "gene_sequence = input('Please, enter a gene sequence: ').lower()\n",
        "\n",
        "gene_len = len(gene_sequence)\n",
        "g_cont = 0\n",
        "c_count = 0\n",
        "\n",
        "for gene in gene_sequence:\n",
        "  if gene == 'g':\n",
        "    g_cont += 1\n",
        "  if gene == 'c':\n",
        "    c_count += 1\n",
        "\n",
        "percent = ((g_cont + c_count) / gene_len) * 100\n",
        "print(percent)"
      ],
      "metadata": {
        "colab": {
          "base_uri": "https://localhost:8080/"
        },
        "id": "elFkR7DrWyJL",
        "outputId": "cddbe250-ed62-4d19-e859-dac987b326ed"
      },
      "execution_count": 80,
      "outputs": [
        {
          "output_type": "stream",
          "name": "stdout",
          "text": [
            "Please, enter a gene sequence: acggtgttat\n",
            "40.0\n"
          ]
        }
      ]
    },
    {
      "cell_type": "markdown",
      "source": [
        "****\n",
        "**Задание 7**\n",
        "\n",
        "Узнав, что ДНК не является случайной строкой, только что поступившие в МФТИ студенты группы аналитиков данных предложили использовать алгоритм сжатия, который сжимает повторяющиеся символы в строке.\n",
        "Кодирование осуществляется следующим образом:\n",
        "s = 'aaaabbсaa' преобразуется в 'a4b2с1a2', то есть группы одинаковых символов исходной строки заменяются на этот символ и количество его повторений в этой позиции строки.\n",
        "\n",
        "Напишите программу, которая считывает строку, кодирует её предложенным алгоритмом и выводит закодированную последовательность на стандартный вывод. Кодирование должно учитывать регистр символов.\n",
        "\n",
        "\n",
        "```\n",
        "Sample Input 1:\n",
        "aaaabbcaa\n",
        "Sample Output 1:\n",
        "a4b2c1a2\n",
        "Sample Input 2:\n",
        "abc\n",
        "Sample Output 2:\n",
        "a1b1c1\n",
        "Sample Input 3:\n",
        "AaAaBBBbbbCCc\n",
        "Sample Output 3:\n",
        "A1a1A1a1B3b3C2c1\n",
        "```"
      ],
      "metadata": {
        "id": "_SiKLeMoW06Q"
      }
    },
    {
      "cell_type": "code",
      "source": [
        "#Решение задания 7\n",
        "#Данная программа осуществляет сжатие генетической последовательности.\n",
        "\n",
        "gene_sequence = input('Please, enter a gene sequence: ')\n",
        "\n",
        "previous_gene = None\n",
        "previous_gene_count = 0\n",
        "\n",
        "for gene in gene_sequence:\n",
        "  if previous_gene == gene:\n",
        "    previous_gene_count += 1\n",
        "  else:\n",
        "    if previous_gene != None:\n",
        "      print(previous_gene, previous_gene_count, sep ='', end = '')\n",
        "    previous_gene = gene\n",
        "    previous_gene_count = 1\n",
        "\n",
        "if previous_gene != None:\n",
        "  print(previous_gene, previous_gene_count, sep ='', end = '')"
      ],
      "metadata": {
        "colab": {
          "base_uri": "https://localhost:8080/"
        },
        "id": "AGTER77vW8Kt",
        "outputId": "2bb41e95-5296-41d0-97bd-a127dbf8099b"
      },
      "execution_count": 91,
      "outputs": [
        {
          "output_type": "stream",
          "name": "stdout",
          "text": [
            "Please, enter a gene sequence: AaAaBBBbbbCCc\n",
            "A1a1A1a1B3b3C2c1"
          ]
        }
      ]
    },
    {
      "cell_type": "markdown",
      "source": [
        "****\n",
        "**Задание 8**\n",
        "\n",
        "Напишите программу, которая считывает с консоли числа (по одному в строке) до тех пор, пока сумма введённых чисел не будет равна 0 и сразу после этого выводит сумму квадратов всех считанных чисел.\n",
        "Гарантируется, что в какой-то момент сумма введённых чисел окажется равной 0, после этого считывание продолжать не нужно.\n",
        "В примере мы считываем числа 1, -3, 5, -6, -10, 13; в этот момент замечаем, что сумма этих чисел равна нулю и выводим сумму их квадратов, не обращая внимания на то, что остались ещё не прочитанные значения.\n",
        "\n",
        "\n",
        "```\n",
        "Sample Input:\n",
        "1\n",
        "-3\n",
        "5\n",
        "-6\n",
        "-10\n",
        "13\n",
        "4\n",
        "-8\n",
        "Sample Output:\n",
        "340\n",
        "```"
      ],
      "metadata": {
        "id": "SBI9HhgHW_bO"
      }
    },
    {
      "cell_type": "code",
      "source": [
        "#Решение задания 8\n",
        "#Данная программа вычисляет сумму квадратов чисел, сумма которых равна нулю.\n",
        "\n",
        "sum = 0\n",
        "square_sum = 0\n",
        "while True:\n",
        "  number = int(input())\n",
        "  sum += number\n",
        "  square_sum += number**2\n",
        "  if sum == 0:\n",
        "    break\n",
        "\n",
        "print(square_sum)"
      ],
      "metadata": {
        "colab": {
          "base_uri": "https://localhost:8080/"
        },
        "id": "LajOfELUXFu2",
        "outputId": "06a88b20-1550-4841-8b0d-06457973b253"
      },
      "execution_count": 95,
      "outputs": [
        {
          "output_type": "stream",
          "name": "stdout",
          "text": [
            "1\n",
            "-3\n",
            "5\n",
            "-6\n",
            "-10\n",
            "13\n",
            "340\n"
          ]
        }
      ]
    },
    {
      "cell_type": "markdown",
      "source": [
        "****\n",
        "**Задание 9**\n",
        "\n",
        "Самое время использовать математику. Вы поднимаетесь по лестнице. Количество ступенек в ней = n.\n",
        "\n",
        "На каждом этапе вы можете переступить либо одну, либо две ступеньки. Как много уникальных способов добраться до верха существует?\n",
        "\n",
        "*1<=n<=45*\n",
        "\n",
        "\n",
        "\n",
        "```\n",
        "Input: n = 2\n",
        "Output: 2\n",
        "Explanation: There are two ways to climb to the top.\n",
        "1. 1 step + 1 step\n",
        "2. 2 steps\n",
        "\n",
        "Input: n = 3\n",
        "Output: 3\n",
        "Explanation: There are three ways to climb to the top.\n",
        "1. 1 step + 1 step + 1 step\n",
        "2. 1 step + 2 steps\n",
        ".l;/3. 2 steps + 1 step\n",
        "```\n",
        "\n"
      ],
      "metadata": {
        "id": "WAmoh-fEXJLh"
      }
    },
    {
      "cell_type": "code",
      "source": [
        "#Решение задания 9\n",
        "#Данная программа расчитывает количество уникальных способов подняться по лестнице в n ступенек.\n",
        "\n",
        "n = int(input('Please, enter number of steps (1<=n<=45):'))\n",
        "\n",
        "def fibonacci(n):\n",
        "    if n in (1, 2):\n",
        "        return 1\n",
        "    return fibonacci(n - 1) + fibonacci(n - 2)\n",
        " \n",
        "print(fibonacci(n + 1))"
      ],
      "metadata": {
        "colab": {
          "base_uri": "https://localhost:8080/"
        },
        "id": "6_VtP3EQXMh6",
        "outputId": "f12937cd-bf0c-4599-8f2b-de3bda6e4b2b"
      },
      "execution_count": 14,
      "outputs": [
        {
          "output_type": "stream",
          "name": "stdout",
          "text": [
            "Please, enter number of steps (1<=n<=45):3\n",
            "3\n"
          ]
        }
      ]
    },
    {
      "cell_type": "markdown",
      "source": [
        "****\n",
        "**Задание 10**\n",
        "\n",
        "Напишите функцию, чтобы найти самый длинный префикс в листе, составленном из строк.\n",
        "\n",
        "Если общего префикса нет - верните пустую строку.\n",
        "\n",
        "\n",
        "\n",
        "```\n",
        "Input 1: strs = [\"flower\",\"flow\",\"flight\"]\n",
        "Output 1: \"fl\"\n",
        "\n",
        "Input 2: strs = [\"dog\",\"racecar\",\"car\"]\n",
        "Output 2: \"\"\n",
        "Explanation: There is no common prefix among the input strings.\n",
        "```\n"
      ],
      "metadata": {
        "id": "6JXxqhoHXPbU"
      }
    },
    {
      "cell_type": "code",
      "source": [
        "#Решение задания 10\n",
        "#Данная программа находит самый длинный префикс в листе.\n",
        "\n",
        "strs = input('Please, enter a list of words separated by spaces:').split(' ')\n",
        "strs_len = len(strs)\n",
        "\n",
        "prefixes = set()\n",
        "\n",
        "def getPrefixFromStrings(str1, str2):\n",
        "  prefix = ''\n",
        "  stra1_len = len(str1)\n",
        "  stra2_len = len(str2)\n",
        "  for i in range(stra1_len):\n",
        "    if i >= stra2_len:\n",
        "      return prefix\n",
        "    if str1[i] == str2[i]:\n",
        "      prefix += str1[i]\n",
        "    else:\n",
        "      break\n",
        "  return prefix\n",
        "\n",
        "def getPrefix(strings):\n",
        "  subList = []\n",
        "  for i in range(0, len(strings), 2):\n",
        "    if i+1 >= len(strings):\n",
        "      subList.append(strings[i])\n",
        "    else:\n",
        "      subList.append(getPrefixFromStrings(strings[i], strings[i + 1]))\n",
        "  if len(subList) > 1:\n",
        "    return getPrefix(subList)\n",
        "  else:\n",
        "    return subList[0]\n",
        "\n",
        "print(getPrefix(strs))"
      ],
      "metadata": {
        "colab": {
          "base_uri": "https://localhost:8080/"
        },
        "id": "ZMWE-KN6X3P2",
        "outputId": "ee1f87ca-a338-4365-9b5d-86913335231c"
      },
      "execution_count": 16,
      "outputs": [
        {
          "output_type": "stream",
          "name": "stdout",
          "text": [
            "Please, enter a list of words separated by spaces:flower flow flight\n",
            "fl\n"
          ]
        }
      ]
    }
  ]
}
{
 "cells": [
  {
   "cell_type": "code",
   "execution_count": 42,
   "metadata": {},
   "outputs": [],
   "source": [
    "import math\n",
    "from scipy.stats import norm"
   ]
  },
  {
   "attachments": {},
   "cell_type": "markdown",
   "metadata": {},
   "source": [
    "---\n",
    "## Задание №1\n",
    "\n",
    "__Рассчитайте выборку (с учётом dropout rate)__ для следующей конечной точки:\n",
    "> Доля пациентов, которые достигли клинического ответа на терапию на визите 6 (уменьшение интенсивности боли минимум на 3 балла)\n",
    "\n",
    "__Также у вас есть дополнительные ограничения на расчёт выборки:__\n",
    "1. Вы хотите сравнить препарат \"TheNew\" (новый препарат) с препаратом \"TheGold\" (уже на рынке)\n",
    "2. Тестировать будете гипотезу превосходства\n",
    "3. Собираетесь в тестовую группу включить столько же людей, сколько и в группу сравнения\n",
    "4. Ошибки первого и второго рода для одной точки следующие:\n",
    "    $$\\alpha=0.05, \\beta=0.2 $$\n",
    "5. Ожидаемая доля ответчиков в группе \"TheNew\" - 0.65, а в группе \"TheGold\" - 0.53\n",
    "6. Вы собираетесь проанализировать данные при помощи критерия хи-квадрат\n",
    "7. Предполагаемый dropout rate - 10%\n",
    "---\n",
    "__Примечание__. Возможно, стоит посмотреть следующую (скорректированную) формулу для расчёта выборки: https://stats.stackexchange.com/questions/340291/estimate-sample-size-for-chi-squared-test\n",
    "\n",
    "Более подробно о ней можно прочитать здесь (раздел 4.1): https://books.google.com/books?id=9VefO7a8GeAC&pg=PT1&hl=ru&source=gbs_selected_pages&cad=3#v=onepage&q&f=false"
   ]
  },
  {
   "attachments": {},
   "cell_type": "markdown",
   "metadata": {},
   "source": [
    "Зададим функцию для расчёта выборки (без учёта dropout rate). Функция нам пригодится в задании №3."
   ]
  },
  {
   "cell_type": "code",
   "execution_count": 43,
   "metadata": {},
   "outputs": [],
   "source": [
    "def firstEndPoint(alpha, beta):\n",
    "    # Доля ответчиков\n",
    "    p1 = 0.65\n",
    "    p2 = 0.53\n",
    "    effect_size = abs(p2 - p1)\n",
    "\n",
    "    # Рассчитываем необходимые параметры Z\n",
    "    z_alpha = abs(norm.ppf(alpha / 2))\n",
    "    z_beta = abs(norm.ppf(beta))\n",
    "\n",
    "    # Рассчитываем выборку\n",
    "    q1 = 1 - p1\n",
    "    q2 = 1 - p2\n",
    "    Q = (q1 + q2) / 2\n",
    "    P = (p1 + p2) / 2\n",
    "    ns = ((z_alpha * math.sqrt(2*P*Q) + z_beta * math.sqrt(p1*q1 + p2*q2)) ** 2) / (effect_size ** 2)\n",
    "    return math.ceil((ns / 4) * (1 + math.sqrt(1 + (4 / (ns * effect_size)))))"
   ]
  },
  {
   "cell_type": "code",
   "execution_count": 44,
   "metadata": {},
   "outputs": [
    {
     "name": "stdout",
     "output_type": "stream",
     "text": [
      "Необходимое количество субъектов для исследования: 304\n"
     ]
    }
   ],
   "source": [
    "# Задаем необходимые параметры alpha и beta\n",
    "alpha1 = 0.05\n",
    "beta1 = 0.2\n",
    "\n",
    "# Вычислим размер выборки\n",
    "n = firstEndPoint(alpha1, beta1)\n",
    "\n",
    "# Расчитаем размер выборки с учётом dropout rate\n",
    "dropout_rate = 0.1\n",
    "n_drop_out = math.ceil(n/(1-dropout_rate))\n",
    "\n",
    "# Выводим результат\n",
    "print(f\"Необходимое количество субъектов для исследования: {2*n_drop_out}\")"
   ]
  },
  {
   "attachments": {},
   "cell_type": "markdown",
   "metadata": {},
   "source": [
    "---\n",
    "## Задание №2\n",
    "\n",
    "__Рассчитайте выборку (с учётом dropout rate)__ для следующей конечной точки:\n",
    "> Разница во времени возвращения боли между группами лечения, измеренная в соотнотношении уровней опасностей в каждой из групп\n",
    "\n",
    "__Также у вас есть дополнительные ограничения на расчёт выборки:__\n",
    "1. Вы хотите сравнить препарат \"TheNew\" (новый препарат) с препаратом \"TheGold\" (уже на рынке)\n",
    "2. Тестировать будете гипотезу превосходства, причём вы хотите протестировать гипотезу **superiority by margin**, где margin = 0.1\n",
    "3. Собираетесь в тестовую группу включить столько же людей, сколько и в группу сравнения\n",
    "4. Ошибки первого и второго рода для одной точки следующие:\n",
    "    $$\\alpha=0.05, \\beta=0.2 $$\n",
    "5. Вы собираетесь проанализировать данные при помощи регресии Кокса, так как знаете, что на время возвращения боли влияет пол пациента и тип региона проживания (большой город и маленький) \n",
    "\n",
    "6. Вы предполагаете, что соотношение уровней опасности (Hazard Ratio, HR) следующее:\n",
    "$$ HR = \\frac{Hazard_1}{Hazard_2} = \\frac{0.91}{0.7} = 1.3, $$ где Hazard_1 - уровень риска в группе TheGold, а Hazard_2 - уровень риска в группе TheNew\n",
    "\n",
    "Вы изучили литературу, и поняли, что для расчёта хорошо подойдёт следующая формула:\n",
    "$$\n",
    "n = \\frac{(Z_{\\alpha/2}+Z_{\\beta})^2}{(ln(HR)-\\delta)^2p_1p_2}\n",
    "$$\n",
    "\n",
    "Здесь $$ \\delta - это\\ margin \\newline p_1\\ и\\ p_2 — доля\\ пациентов, рандомизированных\\ для\\ лечения\\ TheGold\\ и\\ TheNew\\ соответственно.$$\n",
    "8. Предполагаемый dropout rate - 10%\n",
    "\n",
    "\n",
    "---\n",
    "Примечание: формула расчёта выборки для этого случая неплохо изложена в этом источнике на страницах 177-178: https://mobt3ath.com/uplode/book/book-43792.pdf"
   ]
  },
  {
   "attachments": {},
   "cell_type": "markdown",
   "metadata": {},
   "source": [
    "Зададим функцию для расчёта выборки (без учёта dropout rate). Функция нам пригодится в задании №3."
   ]
  },
  {
   "cell_type": "code",
   "execution_count": 45,
   "metadata": {},
   "outputs": [],
   "source": [
    "def secondEndPoint(alpha, beta):\n",
    "    # Доля ответчиков\n",
    "    p1 = 0.65\n",
    "    p2 = 0.53\n",
    "\n",
    "    # Зададим соотношение уроыней опасности\n",
    "    Hazard_1 = 0.91\n",
    "    Hazard_2 = 0.7\n",
    "    HR = Hazard_1/Hazard_2\n",
    "\n",
    "    # Мы хотим протестировать гипотезу superiority by margin\n",
    "    margin = 0.1\n",
    "\n",
    "    z_alpha = abs(norm.ppf(alpha / 2))\n",
    "    z_beta = abs(norm.ppf(beta))\n",
    "\n",
    "    return math.ceil(((z_alpha + z_beta) ** 2) / (((math.log(HR) - margin) ** 2) * p1 * p2))"
   ]
  },
  {
   "cell_type": "code",
   "execution_count": 46,
   "metadata": {},
   "outputs": [
    {
     "name": "stdout",
     "output_type": "stream",
     "text": [
      "Необходимое количество субъектов для исследования: 1924\n"
     ]
    }
   ],
   "source": [
    "# Задаем необходимые параметры alpha и beta\n",
    "alpha2 = 0.05\n",
    "beta2 = 0.2\n",
    "\n",
    "# Вычислим размер выборки\n",
    "n = secondEndPoint(alpha2, beta2)\n",
    "\n",
    "# Расчитаем размер выборки с учётом dropout rate\n",
    "dropout_rate = 0.1\n",
    "n_drop_out = math.ceil(n/(1-dropout_rate))\n",
    "\n",
    "# Выводим результат\n",
    "print(f\"Необходимое количество субъектов для исследования: {2*n_drop_out}\")"
   ]
  },
  {
   "attachments": {},
   "cell_type": "markdown",
   "metadata": {},
   "source": [
    "---\n",
    "## Задание №3\n",
    "\n",
    "Теперь обе конечные точки - первичные конечные точки исследования, исходя из чего необходимо рассчитать выборку.\n",
    "\n",
    "__Рассчитайте выборку (с учётом drop-out rate)__ для обеих конечных точек выше по следующим сценариям:\n",
    "1. Успех исследования - обе конечные точки успешны\n",
    "2. Успех исследования - хотя бы одна конечная точка успешна\n",
    "\n",
    "Dropout rate = 10%"
   ]
  },
  {
   "attachments": {},
   "cell_type": "markdown",
   "metadata": {},
   "source": [
    "Рассчитаем размер выборки для сценария, где успехом исследования считается успех обоих конечных точек:"
   ]
  },
  {
   "cell_type": "code",
   "execution_count": 47,
   "metadata": {},
   "outputs": [
    {
     "name": "stdout",
     "output_type": "stream",
     "text": [
      "Необходимое количество субъектов для исследования: 962\n"
     ]
    }
   ],
   "source": [
    "# Вычислим параметры alpha и beta\n",
    "alpha_success_all = (alpha1 + alpha2)/2\n",
    "beta_success_all = beta1\n",
    "\n",
    "# Вычислим размер выборок для каждой конечной точки\n",
    "n_success_all_1 = firstEndPoint(alpha_success_all, beta_success_all)\n",
    "n_success_all_2 = secondEndPoint(alpha_success_all, beta_success_all)\n",
    "\n",
    "# Найдем необходимый размер выборки:\n",
    "qty1 = max(n_success_all_1, n_success_all_2)\n",
    "\n",
    "# Рассчитаем выборку с учетом drop-out-rate\n",
    "dropout_rate = 0.1\n",
    "qty1_dropout_rate = math.ceil(qty1/(1-dropout_rate))\n",
    "\n",
    "# Выводим результат\n",
    "print('Необходимое количество субъектов для исследования:', qty1_dropout_rate)"
   ]
  },
  {
   "attachments": {},
   "cell_type": "markdown",
   "metadata": {},
   "source": [
    "Рассчитаем размер выборки для сценария, где успехом исследования считается успех хотя бы одной конечной точки:"
   ]
  },
  {
   "cell_type": "code",
   "execution_count": 48,
   "metadata": {},
   "outputs": [
    {
     "name": "stdout",
     "output_type": "stream",
     "text": [
      "Необходимое количество субъектов для исследования: 658\n"
     ]
    }
   ],
   "source": [
    "# Вычислим параметры alpha и beta\n",
    "alpha_success_any = alpha1\n",
    "beta_success_any = (1 - beta1)*(1 - beta2)\n",
    "\n",
    "# Вычислим размер выборок для каждой конечной точки\n",
    "n_success_any_1 = firstEndPoint(alpha_success_any, beta_success_any)\n",
    "n_success_any_2 = secondEndPoint(alpha_success_any, beta_success_any)\n",
    "\n",
    "# Найдем необходимый размер выборки:\n",
    "qty2 = max(n_success_any_1, n_success_any_2)\n",
    "\n",
    "# Рассчитаем выборку с учетом drop-out-rate\n",
    "dropout_rate = 0.1\n",
    "qty2_dropout_rate = math.ceil(qty2/(1-dropout_rate))\n",
    "\n",
    "# Выводим результат\n",
    "print('Необходимое количество субъектов для исследования:', qty2_dropout_rate)"
   ]
  }
 ],
 "metadata": {
  "kernelspec": {
   "display_name": "Python 3",
   "language": "python",
   "name": "python3"
  },
  "language_info": {
   "codemirror_mode": {
    "name": "ipython",
    "version": 3
   },
   "file_extension": ".py",
   "mimetype": "text/x-python",
   "name": "python",
   "nbconvert_exporter": "python",
   "pygments_lexer": "ipython3",
   "version": "3.11.2"
  },
  "orig_nbformat": 4
 },
 "nbformat": 4,
 "nbformat_minor": 2
}

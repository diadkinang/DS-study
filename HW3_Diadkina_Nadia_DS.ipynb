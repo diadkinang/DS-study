{
  "nbformat": 4,
  "nbformat_minor": 0,
  "metadata": {
    "colab": {
      "provenance": [],
      "collapsed_sections": [],
      "authorship_tag": "ABX9TyOOzKit3BYy5AfTmutPU6iI",
      "include_colab_link": true
    },
    "kernelspec": {
      "name": "python3",
      "display_name": "Python 3"
    },
    "language_info": {
      "name": "python"
    }
  },
  "cells": [
    {
      "cell_type": "markdown",
      "metadata": {
        "id": "view-in-github",
        "colab_type": "text"
      },
      "source": [
        "<a href=\"https://colab.research.google.com/github/diadkinang/DS-study/blob/main/HW3_Diadkina_Nadia_DS.ipynb\" target=\"_parent\"><img src=\"https://colab.research.google.com/assets/colab-badge.svg\" alt=\"Open In Colab\"/></a>"
      ]
    },
    {
      "cell_type": "markdown",
      "metadata": {
        "id": "40e0ed0d-50b8-4e8d-9609-b73dab4172e5"
      },
      "source": [
        "# Разогрев"
      ]
    },
    {
      "cell_type": "markdown",
      "metadata": {
        "id": "74094422-038c-48f2-ae6e-96897c473b4c"
      },
      "source": [
        "## Задание 1"
      ]
    },
    {
      "cell_type": "markdown",
      "metadata": {
        "id": "4d598c4c-9fa7-4cce-a972-352008b78691"
      },
      "source": [
        "Иногда, когда нужно создавать много однотипных лямбда функций, еще удобнее будет создать функцию, которая будет их генерировать.\n",
        "\n",
        "Реализуйте функцию ``mod_checker(x, mod=0)``, которая будет **возвращать лямбда функцию** от одного аргумента ``y``, которая будет возвращать ``True``, если остаток от деления ``y`` на ``x`` равен ``mod``, и ``False`` иначе.\n",
        "\n",
        "Если в ``return`` вашей функции написано выражение, отличное от лямбда функции - задание считается проваленным\n",
        "\n",
        "**Sample:**\n",
        "\n",
        "```python\n",
        "mod_3 = mod_checker(3)\n",
        "\n",
        "print(mod_3(3)) # True\n",
        "print(mod_3(4)) # False\n",
        "\n",
        "mod_3_1 = mod_checker(3, 1)\n",
        "print(mod_3_1(4)) # True\n",
        "```"
      ]
    },
    {
      "cell_type": "code",
      "execution_count": 112,
      "metadata": {
        "id": "113b22cc-5ce8-42b5-a733-89a7411c780f",
        "colab": {
          "base_uri": "https://localhost:8080/"
        },
        "outputId": "1302d9f8-6b44-40fa-e573-dc129968e175"
      },
      "outputs": [
        {
          "output_type": "stream",
          "name": "stdout",
          "text": [
            "True\n",
            "False\n",
            "True\n"
          ]
        }
      ],
      "source": [
        "def mod_checker(x, mod = 0):\n",
        "  \"\"\"\n",
        "  Функция возвращает лямбда функцию от одного аргумента y, \n",
        "  которая возвращает True, если остаток от деления y на x равен mod, \n",
        "  и False иначе.\n",
        "  \"\"\"\n",
        "  return lambda y: y % x == mod\n",
        "\n",
        "mod_3 = mod_checker(3)\n",
        "\n",
        "print(mod_3(3))\n",
        "print(mod_3(4))\n",
        "\n",
        "mod_3_1 = mod_checker(3, 1)\n",
        "print(mod_3_1(4))"
      ]
    },
    {
      "cell_type": "markdown",
      "metadata": {
        "id": "d46cfa4e-1517-4444-a31b-b39f96beca3e"
      },
      "source": [
        "# Numpy"
      ]
    },
    {
      "cell_type": "code",
      "execution_count": 113,
      "metadata": {
        "id": "bec93b3e-f079-4e70-914f-6b19862fc68b"
      },
      "outputs": [],
      "source": [
        "import numpy as np"
      ]
    },
    {
      "cell_type": "markdown",
      "metadata": {
        "id": "e065e248-1900-4a4a-8c52-590ef71980b2"
      },
      "source": [
        "## Задание 2\n",
        "Напишите функцию, которая принимает один аргумент - ``n``. Функция должна создать нампаевскую матрицу размером ``(n, n)`` и залить ее шахматным узором. Порядок узора не имеет значения, важен общий паттерн.\n",
        "\n",
        "**Sample:**\n",
        "```python\n",
        "chess_maze(8)\n",
        "\n",
        "[[0 1 0 1 0 1 0 1]\n",
        " [1 0 1 0 1 0 1 0]\n",
        " [0 1 0 1 0 1 0 1]\n",
        " [1 0 1 0 1 0 1 0]\n",
        " [0 1 0 1 0 1 0 1]\n",
        " [1 0 1 0 1 0 1 0]\n",
        " [0 1 0 1 0 1 0 1]\n",
        " [1 0 1 0 1 0 1 0]]\n",
        "```\n",
        "\n"
      ]
    },
    {
      "cell_type": "code",
      "execution_count": 114,
      "metadata": {
        "id": "12de4c2f-9de4-4a57-8e68-27f8125ca7e9",
        "colab": {
          "base_uri": "https://localhost:8080/"
        },
        "outputId": "e6923e02-791b-474d-df0b-b08fcffb6567"
      },
      "outputs": [
        {
          "output_type": "execute_result",
          "data": {
            "text/plain": [
              "[[0, 1, 0, 1, 0, 1, 0, 1],\n",
              " [1, 0, 1, 0, 1, 0, 1, 0],\n",
              " [0, 1, 0, 1, 0, 1, 0, 1],\n",
              " [1, 0, 1, 0, 1, 0, 1, 0],\n",
              " [0, 1, 0, 1, 0, 1, 0, 1],\n",
              " [1, 0, 1, 0, 1, 0, 1, 0],\n",
              " [0, 1, 0, 1, 0, 1, 0, 1],\n",
              " [1, 0, 1, 0, 1, 0, 1, 0]]"
            ]
          },
          "metadata": {},
          "execution_count": 114
        }
      ],
      "source": [
        "def chess_maze(n):\n",
        "  \"\"\"\n",
        "  Функция возвращает нампаевскую матрицу размером (n, n), \n",
        "  залитую шахматным узором из 0 и 1.\n",
        "  \"\"\"\n",
        "  zeros = np.zeros((n, n), dtype = np.int32)\n",
        "  zeros[1::2,::2] = 1\n",
        "  zeros[::2,1::2] = 1\n",
        "  return zeros.tolist()\n",
        "\n",
        "chess_maze(8)"
      ]
    },
    {
      "cell_type": "markdown",
      "metadata": {
        "id": "ff71edfc-ecba-48b9-ab5e-db17021e7b30"
      },
      "source": [
        "## Задание 3\n",
        "Напишите функцию, которая принимает 2 аргумента ``arr`` и ``exclude_values``. ``arr`` - это одномерный нампаевский массив, в котором необходимо поменять знак всем числам (инвертировать), которые есть в массиве ``exclude_values``. Действия необходимо делать прямо в исходном массиве, не создавая копий.\n",
        "\n",
        "**Sample:**\n",
        "```python\n",
        "#Исходный вектор \n",
        "arr = np.arange(10+1)\n",
        "exclude_values = np.arange(4, 8)\n",
        " \n",
        "my_func(arr, exclude_values)\n",
        "array([ 0  1  2  3 -4 -5 -6 -7  8  9 10])\n",
        "```"
      ]
    },
    {
      "cell_type": "code",
      "execution_count": 115,
      "metadata": {
        "id": "28e738e2-a873-4e3d-bdd0-222506090674",
        "colab": {
          "base_uri": "https://localhost:8080/"
        },
        "outputId": "06c6f770-b9f9-4bde-c8fc-9add6a18ccf0"
      },
      "outputs": [
        {
          "output_type": "execute_result",
          "data": {
            "text/plain": [
              "array([ 0,  1,  2,  3, -4, -5, -6, -7,  8,  9, 10])"
            ]
          },
          "metadata": {},
          "execution_count": 115
        }
      ],
      "source": [
        "def negative(arr, exclude_values):\n",
        "  \"\"\"\n",
        "  Функция инвертирует в массиве arr значения, заданные в массиве exclude_values.\n",
        "  \"\"\"\n",
        "  arr[np.isin(arr, exclude_values)] *= -1\n",
        "  return arr\n",
        "\n",
        "arr = np.arange(10+1)\n",
        "exclude_values = np.arange(4, 8)\n",
        "negative(arr, exclude_values)"
      ]
    },
    {
      "cell_type": "markdown",
      "metadata": {
        "id": "50fd92a7-30b5-42a1-aed4-a222132496cd"
      },
      "source": [
        "## Задание 4\n",
        "Напишите функцию, которая принимает одномерный положительный нампаевский массив и минимум 4 раза выводит на экран (функция ``print``) этот же массив, в котором у элементов оставлена только целая часть. Все >= 4 раза функция должна использовать разные методы для извлечения целой части.\n",
        "\n",
        "**Sample:**\n",
        "```python\n",
        "#Исходный вектор \n",
        "arr = np.random.uniform(low=10, high=100,size=20)\n",
        "#Исходный вектор arr:\n",
        "arr\n",
        "[99.54707368 49.26237526 80.50565073 10.10998238 16.39378916 60.64633657\n",
        " 25.49637622 31.06574268 94.48636127 73.41204506 75.70638137 70.43830146\n",
        " 72.28607422 40.59319738 57.85802554 35.39428061 55.25707514 48.00020145\n",
        " 38.39449991 26.19085017]\n",
        " \n",
        "my_func(arr)\n",
        "\n",
        "[99. 49. 80. 10. 16. 60. 25. 31. 94. 73. 75. 70. 72. 40. 57. 35. 55. 48.\n",
        " 38. 26.]\n",
        "[99. 49. 80. 10. 16. 60. 25. 31. 94. 73. 75. 70. 72. 40. 57. 35. 55. 48.\n",
        " 38. 26.]\n",
        "[99. 49. 80. 10. 16. 60. 25. 31. 94. 73. 75. 70. 72. 40. 57. 35. 55. 48.\n",
        " 38. 26.]\n",
        "[99 49 80 10 16 60 25 31 94 73 75 70 72 40 57 35 55 48 38 26]\n",
        "[99. 49. 80. 10. 16. 60. 25. 31. 94. 73. 75. 70. 72. 40. 57. 35. 55. 48.\n",
        " 38. 26.]\n",
        "```\n",
        "\n",
        "В примере 5 выводов print из функции, просто чтобы были :)"
      ]
    },
    {
      "cell_type": "code",
      "execution_count": 117,
      "metadata": {
        "id": "d988e6d5-1e23-411c-a2d0-f5b9f5960b47",
        "colab": {
          "base_uri": "https://localhost:8080/"
        },
        "outputId": "138d20f0-cdbe-424d-e94d-86b935bb6832"
      },
      "outputs": [
        {
          "output_type": "stream",
          "name": "stdout",
          "text": [
            "[73.71885301 58.55943599 28.9845071  83.00914733 96.77575042 28.34625403\n",
            " 44.55801536 62.73449814 81.31791439 76.77061523 90.41402823 71.58273642\n",
            " 56.8920995  12.75918121 80.33462773 30.88199841 54.55401629 44.75233262\n",
            " 22.30151964 61.88425421]\n",
            "[73 58 28 83 96 28 44 62 81 76 90 71 56 12 80 30 54 44 22 61]\n",
            "[73. 58. 28. 83. 96. 28. 44. 62. 81. 76. 90. 71. 56. 12. 80. 30. 54. 44.\n",
            " 22. 61.]\n",
            "[73. 58. 28. 83. 96. 28. 44. 62. 81. 76. 90. 71. 56. 12. 80. 30. 54. 44.\n",
            " 22. 61.]\n",
            "[73. 58. 28. 83. 96. 28. 44. 62. 81. 76. 90. 71. 56. 12. 80. 30. 54. 44.\n",
            " 22. 61.]\n",
            "[73. 58. 28. 83. 96. 28. 44. 62. 81. 76. 90. 71. 56. 12. 80. 30. 54. 44.\n",
            " 22. 61.]\n"
          ]
        }
      ],
      "source": [
        "def my_func(arr):\n",
        "  \"\"\"\n",
        "  Функция выводит различные способы извлечения целой части.\n",
        "  \"\"\"\n",
        "  print(arr)\n",
        "\n",
        "  int_arr = arr.astype(np.int32)\n",
        "  print(int_arr)\n",
        "\n",
        "  print(np.trunc(arr))\n",
        "\n",
        "  print(np.floor(arr))\n",
        "\n",
        "  division = arr // 1\n",
        "  print(division)\n",
        "  \n",
        "  print(np.fix(arr))\n",
        "  return\n",
        "\n",
        "arr = np.random.uniform(low = 10, high = 100, size = 20)\n",
        "my_func(arr)"
      ]
    },
    {
      "cell_type": "markdown",
      "metadata": {
        "id": "e19786ad-aede-4f06-96b8-fb6f60e7bcf7"
      },
      "source": [
        "## Задание 5\n",
        "Напишите функцию, которая принимает два числа - ``N`` и ``p``. ``N`` - это размер стороны квадратной матрицы np.zeros, ``p`` - это количество индексов в матрице (p не превышает N*N), которые нужно заменить на случайные числа. Индексы и числа нужно выбирать случайно. Функция должна возвращать квадратную матрицу со стороной ``N``, в которой ровно ``p`` чисел заменены на случайные.\n",
        "\n",
        "```python\n",
        "my_func(N=6, p=4)\n",
        "\n",
        "[[56.   0.   0.   0.   0.   0.]\n",
        " [  0.   0.   0.   0.   0.   0.]\n",
        " [99.   0.   0.   0.   0.   0.]\n",
        " [  0.   0.   0. 83.   0.   0.]\n",
        " [  0.   0.   0.   0.   0.   0.]\n",
        " [  0.   0.   0.   0.   1.   0.]]\n",
        "```"
      ]
    },
    {
      "cell_type": "code",
      "source": [
        "def randomMatrix(N, p):\n",
        "  \"\"\"\n",
        "  Функция возвращает квадратную матрицу размера N, в которой p чисел \n",
        "  заменены на рандомные.\n",
        "  \"\"\"\n",
        "  size = N*N\n",
        "  if (p > size):\n",
        "    print(\"P must be less then N*N!\")\n",
        "    return\n",
        "  arr = np.zeros((N, N), dtype = np.int32)\n",
        "  indices = np.random.choice(range(size), p, replace = False)\n",
        "  values = np.random.randint(1, 100, p)\n",
        "  np.put(arr, indices, values)\n",
        "\n",
        "  return arr.tolist()\n",
        "\n",
        "randomMatrix(N = 6, p = 4)"
      ],
      "metadata": {
        "colab": {
          "base_uri": "https://localhost:8080/"
        },
        "id": "0bbChBlbo-Zr",
        "outputId": "689144b1-10c0-4fdf-b960-40e151555f35"
      },
      "execution_count": 116,
      "outputs": [
        {
          "output_type": "execute_result",
          "data": {
            "text/plain": [
              "[[0, 0, 0, 0, 0, 0],\n",
              " [0, 0, 30, 0, 0, 0],\n",
              " [0, 0, 0, 0, 0, 0],\n",
              " [0, 33, 0, 86, 0, 0],\n",
              " [0, 0, 26, 0, 0, 0],\n",
              " [0, 0, 0, 0, 0, 0]]"
            ]
          },
          "metadata": {},
          "execution_count": 116
        }
      ]
    },
    {
      "cell_type": "markdown",
      "metadata": {
        "id": "ea6147b4-ea16-48e8-86f9-20bc90849b68"
      },
      "source": [
        "# Pandas"
      ]
    },
    {
      "cell_type": "code",
      "execution_count": 48,
      "metadata": {
        "id": "036794bd-1340-4341-93f2-4c7eda7e011c"
      },
      "outputs": [],
      "source": [
        "import pandas as pd"
      ]
    },
    {
      "cell_type": "markdown",
      "metadata": {
        "id": "feed93bf-9c0e-443e-9812-f3d88f526be4"
      },
      "source": [
        "# Задание 6\n",
        "\n",
        "Любым удобным для вас способом создайте ``dataframe`` c именем ``my_data``, в котором две колонки c именами (``type`` - строки, ``value`` - числа с плавающей точкой) и четыре наблюдения в каждой колонке:\n",
        "\n",
        "```\n",
        "type value\n",
        "B    18.\n",
        "\n",
        "B    20.\n",
        "\n",
        "C    10.\n",
        "\n",
        "C    -10.\n",
        "```\n",
        "\n",
        "Какой размер созданного вами датафрейма? (Подумайте, что лучше использовать - информацию из метода df.info() или информацию из метода df.memory_usage()?)\n",
        "1) Измените тип данных колонки type на category. Как изменился размер датафрейма?\n",
        "2) Измените тип данных колонки value на менее жадный. Как изменился размер датафрейма?"
      ]
    },
    {
      "cell_type": "code",
      "execution_count": 124,
      "metadata": {
        "id": "55453b06-c034-4ad4-9350-c9bfdeb5acef",
        "colab": {
          "base_uri": "https://localhost:8080/"
        },
        "outputId": "b720e6b4-4e91-4704-f4b4-4a7914d75bf3"
      },
      "outputs": [
        {
          "output_type": "stream",
          "name": "stdout",
          "text": [
            "  type      value\n",
            "0    H  45.057664\n",
            "1    F  42.928242\n",
            "2    E   6.665229\n",
            "3    F  53.328336\n",
            "<class 'pandas.core.frame.DataFrame'>\n",
            "RangeIndex: 4 entries, 0 to 3\n",
            "Data columns (total 2 columns):\n",
            " #   Column  Non-Null Count  Dtype  \n",
            "---  ------  --------------  -----  \n",
            " 0   type    4 non-null      object \n",
            " 1   value   4 non-null      float64\n",
            "dtypes: float64(1), object(1)\n",
            "memory usage: 192.0+ bytes\n",
            "None\n",
            "  type  value\n",
            "0    H     45\n",
            "1    F     42\n",
            "2    E      6\n",
            "3    F     53\n",
            "<class 'pandas.core.frame.DataFrame'>\n",
            "RangeIndex: 4 entries, 0 to 3\n",
            "Data columns (total 2 columns):\n",
            " #   Column  Non-Null Count  Dtype   \n",
            "---  ------  --------------  -----   \n",
            " 0   type    4 non-null      category\n",
            " 1   value   4 non-null      int64   \n",
            "dtypes: category(1), int64(1)\n",
            "memory usage: 296.0 bytes\n",
            "None\n"
          ]
        }
      ],
      "source": [
        "my_data = pd.DataFrame(\n",
        "    {\n",
        "      'type': np.random.choice(['A', 'B', 'C', 'D', 'E', 'F', 'G', 'H', 'I', 'J'], size=4),\n",
        "      'value': np.random.random_sample(size=4)*100\n",
        "    }\n",
        ")\n",
        "print(my_data)\n",
        "print(my_data.info())\n",
        "\n",
        "my_data['type'] = my_data['type'].astype('category')\n",
        "my_data['value'] = my_data['value'].astype(int)\n",
        "print(my_data)\n",
        "print(my_data.info())\n",
        "\n",
        "# Размер вырос в 1.5 раза"
      ]
    },
    {
      "cell_type": "markdown",
      "metadata": {
        "id": "b5c49f07-2954-43af-89e4-2df23e216af8"
      },
      "source": [
        "# Задание 7\n",
        "Любым удобным для вас способом создайте ``dataframe`` c именем ``my_data``, в котором две колонки c именами (``type`` - строки, ``value`` - числа с плавающей точкой) и десять тысяч (10 000) наблюдений в каждой колонке. В колонке ``type`` должно быть 10 уникальных значений.\n",
        "\n",
        "```python\n",
        "my_data.shape\n",
        "____________\n",
        "(10000, 2)\n",
        "```\n",
        "\n",
        "Какой размер созданного вами датафрейма? (Подумайте, что лучше использовать - информацию из метода df.info() или информацию из метода df.memory_usage()?)\n",
        "1) Измените тип данных колонки type на category. Как изменился размер датафрейма?\n",
        "2) Измените тип данных колонки value на менее жадный. Как изменился размер датафрейма?\n",
        "\n",
        "Во сколько раз уменьшился размер исходного датафрейма после выполнения этих двух операций?"
      ]
    },
    {
      "cell_type": "code",
      "execution_count": 125,
      "metadata": {
        "id": "7ce31b7d-7367-4c4a-b7ca-e7b837fda604",
        "colab": {
          "base_uri": "https://localhost:8080/"
        },
        "outputId": "67ef7ab0-2276-4720-8e45-52bab3cfe188"
      },
      "outputs": [
        {
          "output_type": "stream",
          "name": "stdout",
          "text": [
            "     type      value\n",
            "0       F  70.554696\n",
            "1       H  12.401016\n",
            "2       G  92.980649\n",
            "3       C  70.873613\n",
            "4       G  39.037064\n",
            "...   ...        ...\n",
            "9995    A  33.757809\n",
            "9996    G  21.132881\n",
            "9997    E  16.450328\n",
            "9998    C  49.032870\n",
            "9999    H  91.406004\n",
            "\n",
            "[10000 rows x 2 columns]\n",
            "<class 'pandas.core.frame.DataFrame'>\n",
            "RangeIndex: 10000 entries, 0 to 9999\n",
            "Data columns (total 2 columns):\n",
            " #   Column  Non-Null Count  Dtype  \n",
            "---  ------  --------------  -----  \n",
            " 0   type    10000 non-null  object \n",
            " 1   value   10000 non-null  float64\n",
            "dtypes: float64(1), object(1)\n",
            "memory usage: 156.4+ KB\n",
            "None\n",
            "     type  value\n",
            "0       F     70\n",
            "1       H     12\n",
            "2       G     92\n",
            "3       C     70\n",
            "4       G     39\n",
            "...   ...    ...\n",
            "9995    A     33\n",
            "9996    G     21\n",
            "9997    E     16\n",
            "9998    C     49\n",
            "9999    H     91\n",
            "\n",
            "[10000 rows x 2 columns]\n",
            "<class 'pandas.core.frame.DataFrame'>\n",
            "RangeIndex: 10000 entries, 0 to 9999\n",
            "Data columns (total 2 columns):\n",
            " #   Column  Non-Null Count  Dtype   \n",
            "---  ------  --------------  -----   \n",
            " 0   type    10000 non-null  category\n",
            " 1   value   10000 non-null  int64   \n",
            "dtypes: category(1), int64(1)\n",
            "memory usage: 88.4 KB\n",
            "None\n"
          ]
        }
      ],
      "source": [
        "my_data = pd.DataFrame(\n",
        "    {\n",
        "      'type': np.random.choice(['A', 'B', 'C', 'D', 'E', 'F', 'G', 'H', 'I', 'J'], size = 10000),\n",
        "      'value': np.random.random_sample(size = 10000)*100\n",
        "    }\n",
        ")\n",
        "print(my_data)\n",
        "print(my_data.info())\n",
        "\n",
        "my_data['type'] = my_data['type'].astype('category')\n",
        "my_data['value'] = my_data['value'].astype(int)\n",
        "print(my_data)\n",
        "print(my_data.info())\n",
        "\n",
        "# Размер уменьшился в 1.76 раз"
      ]
    },
    {
      "cell_type": "markdown",
      "metadata": {
        "id": "d1614009-c31c-494c-9b7e-010b3fca3adc"
      },
      "source": [
        "#### Для решения дальнейших задач мы будем использовать следующий датасет, загрузите его с помощью команды:"
      ]
    },
    {
      "cell_type": "code",
      "execution_count": 126,
      "metadata": {
        "id": "9de2ceb8-28bf-4f4f-a67c-5c3cf17d09e9"
      },
      "outputs": [],
      "source": [
        "df = pd.read_csv('https://stepik.org/media/attachments/course/4852/my_stat.csv')"
      ]
    },
    {
      "cell_type": "code",
      "execution_count": null,
      "metadata": {
        "id": "bcf8eca6-4c68-43a9-a250-7b2b0aba6a92",
        "outputId": "cf8271ba-1ee0-4e60-d958-22236b1eecc2"
      },
      "outputs": [
        {
          "data": {
            "text/html": [
              "<div>\n",
              "<style scoped>\n",
              "    .dataframe tbody tr th:only-of-type {\n",
              "        vertical-align: middle;\n",
              "    }\n",
              "\n",
              "    .dataframe tbody tr th {\n",
              "        vertical-align: top;\n",
              "    }\n",
              "\n",
              "    .dataframe thead th {\n",
              "        text-align: right;\n",
              "    }\n",
              "</style>\n",
              "<table border=\"1\" class=\"dataframe\">\n",
              "  <thead>\n",
              "    <tr style=\"text-align: right;\">\n",
              "      <th></th>\n",
              "      <th>V1</th>\n",
              "      <th>V2</th>\n",
              "      <th>V3</th>\n",
              "      <th>V4</th>\n",
              "    </tr>\n",
              "  </thead>\n",
              "  <tbody>\n",
              "    <tr>\n",
              "      <th>0</th>\n",
              "      <td>2</td>\n",
              "      <td>13.0</td>\n",
              "      <td>B</td>\n",
              "      <td>1.0</td>\n",
              "    </tr>\n",
              "    <tr>\n",
              "      <th>1</th>\n",
              "      <td>-1</td>\n",
              "      <td>7.0</td>\n",
              "      <td>B</td>\n",
              "      <td>1.0</td>\n",
              "    </tr>\n",
              "    <tr>\n",
              "      <th>2</th>\n",
              "      <td>0</td>\n",
              "      <td>11.0</td>\n",
              "      <td>A</td>\n",
              "      <td>0.0</td>\n",
              "    </tr>\n",
              "    <tr>\n",
              "      <th>3</th>\n",
              "      <td>2</td>\n",
              "      <td>11.0</td>\n",
              "      <td>A</td>\n",
              "      <td>2.0</td>\n",
              "    </tr>\n",
              "    <tr>\n",
              "      <th>4</th>\n",
              "      <td>0</td>\n",
              "      <td>10.0</td>\n",
              "      <td>B</td>\n",
              "      <td>-1.0</td>\n",
              "    </tr>\n",
              "    <tr>\n",
              "      <th>...</th>\n",
              "      <td>...</td>\n",
              "      <td>...</td>\n",
              "      <td>...</td>\n",
              "      <td>...</td>\n",
              "    </tr>\n",
              "    <tr>\n",
              "      <th>495</th>\n",
              "      <td>1</td>\n",
              "      <td>8.0</td>\n",
              "      <td>A</td>\n",
              "      <td>-1.0</td>\n",
              "    </tr>\n",
              "    <tr>\n",
              "      <th>496</th>\n",
              "      <td>3</td>\n",
              "      <td>8.0</td>\n",
              "      <td>A</td>\n",
              "      <td>1.0</td>\n",
              "    </tr>\n",
              "    <tr>\n",
              "      <th>497</th>\n",
              "      <td>-1</td>\n",
              "      <td>11.0</td>\n",
              "      <td>B</td>\n",
              "      <td>2.0</td>\n",
              "    </tr>\n",
              "    <tr>\n",
              "      <th>498</th>\n",
              "      <td>1</td>\n",
              "      <td>11.0</td>\n",
              "      <td>A</td>\n",
              "      <td>2.0</td>\n",
              "    </tr>\n",
              "    <tr>\n",
              "      <th>499</th>\n",
              "      <td>0</td>\n",
              "      <td>8.0</td>\n",
              "      <td>B</td>\n",
              "      <td>1.0</td>\n",
              "    </tr>\n",
              "  </tbody>\n",
              "</table>\n",
              "<p>500 rows × 4 columns</p>\n",
              "</div>"
            ],
            "text/plain": [
              "     V1    V2 V3   V4\n",
              "0     2  13.0  B  1.0\n",
              "1    -1   7.0  B  1.0\n",
              "2     0  11.0  A  0.0\n",
              "3     2  11.0  A  2.0\n",
              "4     0  10.0  B -1.0\n",
              "..   ..   ... ..  ...\n",
              "495   1   8.0  A -1.0\n",
              "496   3   8.0  A  1.0\n",
              "497  -1  11.0  B  2.0\n",
              "498   1  11.0  A  2.0\n",
              "499   0   8.0  B  1.0\n",
              "\n",
              "[500 rows x 4 columns]"
            ]
          },
          "execution_count": 53,
          "metadata": {},
          "output_type": "execute_result"
        }
      ],
      "source": [
        "df"
      ]
    },
    {
      "cell_type": "markdown",
      "metadata": {
        "id": "02e37431-e600-4bf5-bfcf-5641bfcaccd8"
      },
      "source": [
        "Примечание: все операции с исходным датафреймом должны быть ``inplace``. То есть исходный датафрейм в переменной ``df`` **должен** измениться"
      ]
    },
    {
      "cell_type": "markdown",
      "metadata": {
        "id": "25499d55-3c26-4f2e-b642-e05f94341d69"
      },
      "source": [
        "# Задание 8\n",
        "\n",
        "В переменную с именем subset_1 сохраните только первые 19 строк и только 1 и 3 колонку.\n",
        "\n",
        "В переменную с именем subset_2 сохраните все строки кроме 2, 3 и 18 и только 2 и 4 колонку."
      ]
    },
    {
      "cell_type": "code",
      "execution_count": 127,
      "metadata": {
        "id": "0e4b85c0-946b-4d65-a2f4-9940f5149cc7"
      },
      "outputs": [],
      "source": [
        "subset_1 = df.head(19).iloc[:, [0, 2]]\n",
        "\n",
        "subset_2_rows = np.delete(np.arange(df.shape[0]), [1, 2, 17])\n",
        "subset_2 = df.iloc[subset_2_rows, [1, 3]]"
      ]
    },
    {
      "cell_type": "markdown",
      "metadata": {
        "id": "57db07ab-f016-4340-880b-cd640e789407"
      },
      "source": [
        "# Задание 9\n",
        "\n",
        "В переменную subset_3 сохраните только те наблюдения, у которых значения переменной V1 строго больше 0, и значение переменной V3  равняется 'A'.\n",
        "\n",
        "В переменную  subset_4  сохраните только те наблюдения, у которых значения переменной V2  не равняются 10, или значения переменной V4 больше или равно 1."
      ]
    },
    {
      "cell_type": "code",
      "execution_count": 128,
      "metadata": {
        "id": "a9a7558d-14f9-4a64-9b1f-9a77ab52304c"
      },
      "outputs": [],
      "source": [
        "subset_3 = df.loc[(df['V1'] > 0) & (df['V3'] == 'A')]\n",
        "subset_4 = df.loc[(df['V2'] != 10) & (df['V4'] >= 1)]"
      ]
    },
    {
      "cell_type": "markdown",
      "metadata": {
        "id": "002c85bb-122e-47c0-8016-64afd80ce988"
      },
      "source": [
        "# Задание 10\n",
        "Добавьте следующие колонки в df:\n",
        "\n",
        "1) V5 = V1 + V4\n",
        "2) V6 = **натуральный** логарифм переменной V2"
      ]
    },
    {
      "cell_type": "code",
      "execution_count": 129,
      "metadata": {
        "id": "d99e49b2-3213-4a6b-9eb8-97118175d9b1"
      },
      "outputs": [],
      "source": [
        "df = df.assign(V5=lambda x: x['V1'] * x['V4'])\n",
        "df = df.assign(V6=lambda x: np.log(x['V2']))"
      ]
    },
    {
      "cell_type": "markdown",
      "metadata": {
        "id": "68231357-e61c-4cd8-aa11-81cde18b856c"
      },
      "source": [
        "# Задание 11\n",
        "\n",
        "Переименуйте колонки в df.\n",
        "\n",
        "1) V1 -> session_value\n",
        "\n",
        "2) V2 -> group\n",
        "\n",
        "3) V3 -> time\n",
        "\n",
        "4) V4 -> n_users"
      ]
    },
    {
      "cell_type": "code",
      "execution_count": 130,
      "metadata": {
        "id": "d92e15a0-8cf7-4f99-bb84-3b45b36d6c8d"
      },
      "outputs": [],
      "source": [
        "renaming = {\n",
        "  'V1': 'session_value', \n",
        "  'V2': 'group',\n",
        "  'V3': 'time',\n",
        "  'V4': 'n_users'\n",
        "}\n",
        "df.rename(columns = renaming, inplace = True)"
      ]
    },
    {
      "cell_type": "markdown",
      "metadata": {
        "id": "855d8eb1-d7b2-4908-a404-cfeac1dcf3c0"
      },
      "source": [
        "# Задание 12\n",
        "В датафрейме ``my_stat`` в колонке ``session_value`` замените все пропущенные значения на нули.\n",
        "\n",
        "В колонке ``n_users`` замените все отрицательные значения на медианное значение переменной ``n_users`` (без учета отрицательных значений, разумеется)."
      ]
    },
    {
      "cell_type": "code",
      "execution_count": 131,
      "metadata": {
        "id": "aa82b450-9804-44f0-8c37-7d1247850132"
      },
      "outputs": [],
      "source": [
        "my_stat = pd.read_csv('https://stepik.org/media/attachments/course/4852/my_stat_1.csv')"
      ]
    },
    {
      "cell_type": "code",
      "execution_count": 110,
      "metadata": {
        "id": "0ce858ba-5a46-4355-8e02-4051d1c7bf92",
        "outputId": "05afd567-09e8-42c3-a0ce-cfb068f8f963",
        "colab": {
          "base_uri": "https://localhost:8080/",
          "height": 363
        }
      },
      "outputs": [
        {
          "output_type": "execute_result",
          "data": {
            "text/plain": [
              "   session_value  time group  n_users\n",
              "0            0.0    12     B        9\n",
              "1            NaN    11     A       -1\n",
              "2            1.0     8     A        1\n",
              "3            2.0     9     B        3\n",
              "4            2.0    10     B        9\n",
              "5            3.0     8     A        8\n",
              "6            NaN    11     B        5\n",
              "7            0.0     9     A        4\n",
              "8            0.0     8     B      -11\n",
              "9            0.0     9     A      -20"
            ],
            "text/html": [
              "\n",
              "  <div id=\"df-8d2bdae2-16c8-4ed2-b7ea-d1dcfbaad9a8\">\n",
              "    <div class=\"colab-df-container\">\n",
              "      <div>\n",
              "<style scoped>\n",
              "    .dataframe tbody tr th:only-of-type {\n",
              "        vertical-align: middle;\n",
              "    }\n",
              "\n",
              "    .dataframe tbody tr th {\n",
              "        vertical-align: top;\n",
              "    }\n",
              "\n",
              "    .dataframe thead th {\n",
              "        text-align: right;\n",
              "    }\n",
              "</style>\n",
              "<table border=\"1\" class=\"dataframe\">\n",
              "  <thead>\n",
              "    <tr style=\"text-align: right;\">\n",
              "      <th></th>\n",
              "      <th>session_value</th>\n",
              "      <th>time</th>\n",
              "      <th>group</th>\n",
              "      <th>n_users</th>\n",
              "    </tr>\n",
              "  </thead>\n",
              "  <tbody>\n",
              "    <tr>\n",
              "      <th>0</th>\n",
              "      <td>0.0</td>\n",
              "      <td>12</td>\n",
              "      <td>B</td>\n",
              "      <td>9</td>\n",
              "    </tr>\n",
              "    <tr>\n",
              "      <th>1</th>\n",
              "      <td>NaN</td>\n",
              "      <td>11</td>\n",
              "      <td>A</td>\n",
              "      <td>-1</td>\n",
              "    </tr>\n",
              "    <tr>\n",
              "      <th>2</th>\n",
              "      <td>1.0</td>\n",
              "      <td>8</td>\n",
              "      <td>A</td>\n",
              "      <td>1</td>\n",
              "    </tr>\n",
              "    <tr>\n",
              "      <th>3</th>\n",
              "      <td>2.0</td>\n",
              "      <td>9</td>\n",
              "      <td>B</td>\n",
              "      <td>3</td>\n",
              "    </tr>\n",
              "    <tr>\n",
              "      <th>4</th>\n",
              "      <td>2.0</td>\n",
              "      <td>10</td>\n",
              "      <td>B</td>\n",
              "      <td>9</td>\n",
              "    </tr>\n",
              "    <tr>\n",
              "      <th>5</th>\n",
              "      <td>3.0</td>\n",
              "      <td>8</td>\n",
              "      <td>A</td>\n",
              "      <td>8</td>\n",
              "    </tr>\n",
              "    <tr>\n",
              "      <th>6</th>\n",
              "      <td>NaN</td>\n",
              "      <td>11</td>\n",
              "      <td>B</td>\n",
              "      <td>5</td>\n",
              "    </tr>\n",
              "    <tr>\n",
              "      <th>7</th>\n",
              "      <td>0.0</td>\n",
              "      <td>9</td>\n",
              "      <td>A</td>\n",
              "      <td>4</td>\n",
              "    </tr>\n",
              "    <tr>\n",
              "      <th>8</th>\n",
              "      <td>0.0</td>\n",
              "      <td>8</td>\n",
              "      <td>B</td>\n",
              "      <td>-11</td>\n",
              "    </tr>\n",
              "    <tr>\n",
              "      <th>9</th>\n",
              "      <td>0.0</td>\n",
              "      <td>9</td>\n",
              "      <td>A</td>\n",
              "      <td>-20</td>\n",
              "    </tr>\n",
              "  </tbody>\n",
              "</table>\n",
              "</div>\n",
              "      <button class=\"colab-df-convert\" onclick=\"convertToInteractive('df-8d2bdae2-16c8-4ed2-b7ea-d1dcfbaad9a8')\"\n",
              "              title=\"Convert this dataframe to an interactive table.\"\n",
              "              style=\"display:none;\">\n",
              "        \n",
              "  <svg xmlns=\"http://www.w3.org/2000/svg\" height=\"24px\"viewBox=\"0 0 24 24\"\n",
              "       width=\"24px\">\n",
              "    <path d=\"M0 0h24v24H0V0z\" fill=\"none\"/>\n",
              "    <path d=\"M18.56 5.44l.94 2.06.94-2.06 2.06-.94-2.06-.94-.94-2.06-.94 2.06-2.06.94zm-11 1L8.5 8.5l.94-2.06 2.06-.94-2.06-.94L8.5 2.5l-.94 2.06-2.06.94zm10 10l.94 2.06.94-2.06 2.06-.94-2.06-.94-.94-2.06-.94 2.06-2.06.94z\"/><path d=\"M17.41 7.96l-1.37-1.37c-.4-.4-.92-.59-1.43-.59-.52 0-1.04.2-1.43.59L10.3 9.45l-7.72 7.72c-.78.78-.78 2.05 0 2.83L4 21.41c.39.39.9.59 1.41.59.51 0 1.02-.2 1.41-.59l7.78-7.78 2.81-2.81c.8-.78.8-2.07 0-2.86zM5.41 20L4 18.59l7.72-7.72 1.47 1.35L5.41 20z\"/>\n",
              "  </svg>\n",
              "      </button>\n",
              "      \n",
              "  <style>\n",
              "    .colab-df-container {\n",
              "      display:flex;\n",
              "      flex-wrap:wrap;\n",
              "      gap: 12px;\n",
              "    }\n",
              "\n",
              "    .colab-df-convert {\n",
              "      background-color: #E8F0FE;\n",
              "      border: none;\n",
              "      border-radius: 50%;\n",
              "      cursor: pointer;\n",
              "      display: none;\n",
              "      fill: #1967D2;\n",
              "      height: 32px;\n",
              "      padding: 0 0 0 0;\n",
              "      width: 32px;\n",
              "    }\n",
              "\n",
              "    .colab-df-convert:hover {\n",
              "      background-color: #E2EBFA;\n",
              "      box-shadow: 0px 1px 2px rgba(60, 64, 67, 0.3), 0px 1px 3px 1px rgba(60, 64, 67, 0.15);\n",
              "      fill: #174EA6;\n",
              "    }\n",
              "\n",
              "    [theme=dark] .colab-df-convert {\n",
              "      background-color: #3B4455;\n",
              "      fill: #D2E3FC;\n",
              "    }\n",
              "\n",
              "    [theme=dark] .colab-df-convert:hover {\n",
              "      background-color: #434B5C;\n",
              "      box-shadow: 0px 1px 3px 1px rgba(0, 0, 0, 0.15);\n",
              "      filter: drop-shadow(0px 1px 2px rgba(0, 0, 0, 0.3));\n",
              "      fill: #FFFFFF;\n",
              "    }\n",
              "  </style>\n",
              "\n",
              "      <script>\n",
              "        const buttonEl =\n",
              "          document.querySelector('#df-8d2bdae2-16c8-4ed2-b7ea-d1dcfbaad9a8 button.colab-df-convert');\n",
              "        buttonEl.style.display =\n",
              "          google.colab.kernel.accessAllowed ? 'block' : 'none';\n",
              "\n",
              "        async function convertToInteractive(key) {\n",
              "          const element = document.querySelector('#df-8d2bdae2-16c8-4ed2-b7ea-d1dcfbaad9a8');\n",
              "          const dataTable =\n",
              "            await google.colab.kernel.invokeFunction('convertToInteractive',\n",
              "                                                     [key], {});\n",
              "          if (!dataTable) return;\n",
              "\n",
              "          const docLinkHtml = 'Like what you see? Visit the ' +\n",
              "            '<a target=\"_blank\" href=https://colab.research.google.com/notebooks/data_table.ipynb>data table notebook</a>'\n",
              "            + ' to learn more about interactive tables.';\n",
              "          element.innerHTML = '';\n",
              "          dataTable['output_type'] = 'display_data';\n",
              "          await google.colab.output.renderOutput(dataTable, element);\n",
              "          const docLink = document.createElement('div');\n",
              "          docLink.innerHTML = docLinkHtml;\n",
              "          element.appendChild(docLink);\n",
              "        }\n",
              "      </script>\n",
              "    </div>\n",
              "  </div>\n",
              "  "
            ]
          },
          "metadata": {},
          "execution_count": 110
        }
      ],
      "source": [
        "my_stat"
      ]
    },
    {
      "cell_type": "code",
      "source": [
        "my_stat['session_value'] = my_stat['session_value'].fillna(0)\n",
        "\n",
        "n_users_mean = int(my_stat['n_users'].loc[my_stat['n_users'] >= 0].mean())\n",
        "my_stat.loc[my_stat['n_users'] < 0, 'n_users'] = n_users_mean\n",
        "my_stat"
      ],
      "metadata": {
        "colab": {
          "base_uri": "https://localhost:8080/",
          "height": 363
        },
        "id": "lDw1y-E2K7wA",
        "outputId": "8ec5deb7-1337-483a-a0b0-51a1512a240c"
      },
      "execution_count": 132,
      "outputs": [
        {
          "output_type": "execute_result",
          "data": {
            "text/plain": [
              "   session_value  time group  n_users\n",
              "0            0.0    12     B        9\n",
              "1            0.0    11     A        5\n",
              "2            1.0     8     A        1\n",
              "3            2.0     9     B        3\n",
              "4            2.0    10     B        9\n",
              "5            3.0     8     A        8\n",
              "6            0.0    11     B        5\n",
              "7            0.0     9     A        4\n",
              "8            0.0     8     B        5\n",
              "9            0.0     9     A        5"
            ],
            "text/html": [
              "\n",
              "  <div id=\"df-dcbb9c8e-9a97-4708-b57a-47106a619113\">\n",
              "    <div class=\"colab-df-container\">\n",
              "      <div>\n",
              "<style scoped>\n",
              "    .dataframe tbody tr th:only-of-type {\n",
              "        vertical-align: middle;\n",
              "    }\n",
              "\n",
              "    .dataframe tbody tr th {\n",
              "        vertical-align: top;\n",
              "    }\n",
              "\n",
              "    .dataframe thead th {\n",
              "        text-align: right;\n",
              "    }\n",
              "</style>\n",
              "<table border=\"1\" class=\"dataframe\">\n",
              "  <thead>\n",
              "    <tr style=\"text-align: right;\">\n",
              "      <th></th>\n",
              "      <th>session_value</th>\n",
              "      <th>time</th>\n",
              "      <th>group</th>\n",
              "      <th>n_users</th>\n",
              "    </tr>\n",
              "  </thead>\n",
              "  <tbody>\n",
              "    <tr>\n",
              "      <th>0</th>\n",
              "      <td>0.0</td>\n",
              "      <td>12</td>\n",
              "      <td>B</td>\n",
              "      <td>9</td>\n",
              "    </tr>\n",
              "    <tr>\n",
              "      <th>1</th>\n",
              "      <td>0.0</td>\n",
              "      <td>11</td>\n",
              "      <td>A</td>\n",
              "      <td>5</td>\n",
              "    </tr>\n",
              "    <tr>\n",
              "      <th>2</th>\n",
              "      <td>1.0</td>\n",
              "      <td>8</td>\n",
              "      <td>A</td>\n",
              "      <td>1</td>\n",
              "    </tr>\n",
              "    <tr>\n",
              "      <th>3</th>\n",
              "      <td>2.0</td>\n",
              "      <td>9</td>\n",
              "      <td>B</td>\n",
              "      <td>3</td>\n",
              "    </tr>\n",
              "    <tr>\n",
              "      <th>4</th>\n",
              "      <td>2.0</td>\n",
              "      <td>10</td>\n",
              "      <td>B</td>\n",
              "      <td>9</td>\n",
              "    </tr>\n",
              "    <tr>\n",
              "      <th>5</th>\n",
              "      <td>3.0</td>\n",
              "      <td>8</td>\n",
              "      <td>A</td>\n",
              "      <td>8</td>\n",
              "    </tr>\n",
              "    <tr>\n",
              "      <th>6</th>\n",
              "      <td>0.0</td>\n",
              "      <td>11</td>\n",
              "      <td>B</td>\n",
              "      <td>5</td>\n",
              "    </tr>\n",
              "    <tr>\n",
              "      <th>7</th>\n",
              "      <td>0.0</td>\n",
              "      <td>9</td>\n",
              "      <td>A</td>\n",
              "      <td>4</td>\n",
              "    </tr>\n",
              "    <tr>\n",
              "      <th>8</th>\n",
              "      <td>0.0</td>\n",
              "      <td>8</td>\n",
              "      <td>B</td>\n",
              "      <td>5</td>\n",
              "    </tr>\n",
              "    <tr>\n",
              "      <th>9</th>\n",
              "      <td>0.0</td>\n",
              "      <td>9</td>\n",
              "      <td>A</td>\n",
              "      <td>5</td>\n",
              "    </tr>\n",
              "  </tbody>\n",
              "</table>\n",
              "</div>\n",
              "      <button class=\"colab-df-convert\" onclick=\"convertToInteractive('df-dcbb9c8e-9a97-4708-b57a-47106a619113')\"\n",
              "              title=\"Convert this dataframe to an interactive table.\"\n",
              "              style=\"display:none;\">\n",
              "        \n",
              "  <svg xmlns=\"http://www.w3.org/2000/svg\" height=\"24px\"viewBox=\"0 0 24 24\"\n",
              "       width=\"24px\">\n",
              "    <path d=\"M0 0h24v24H0V0z\" fill=\"none\"/>\n",
              "    <path d=\"M18.56 5.44l.94 2.06.94-2.06 2.06-.94-2.06-.94-.94-2.06-.94 2.06-2.06.94zm-11 1L8.5 8.5l.94-2.06 2.06-.94-2.06-.94L8.5 2.5l-.94 2.06-2.06.94zm10 10l.94 2.06.94-2.06 2.06-.94-2.06-.94-.94-2.06-.94 2.06-2.06.94z\"/><path d=\"M17.41 7.96l-1.37-1.37c-.4-.4-.92-.59-1.43-.59-.52 0-1.04.2-1.43.59L10.3 9.45l-7.72 7.72c-.78.78-.78 2.05 0 2.83L4 21.41c.39.39.9.59 1.41.59.51 0 1.02-.2 1.41-.59l7.78-7.78 2.81-2.81c.8-.78.8-2.07 0-2.86zM5.41 20L4 18.59l7.72-7.72 1.47 1.35L5.41 20z\"/>\n",
              "  </svg>\n",
              "      </button>\n",
              "      \n",
              "  <style>\n",
              "    .colab-df-container {\n",
              "      display:flex;\n",
              "      flex-wrap:wrap;\n",
              "      gap: 12px;\n",
              "    }\n",
              "\n",
              "    .colab-df-convert {\n",
              "      background-color: #E8F0FE;\n",
              "      border: none;\n",
              "      border-radius: 50%;\n",
              "      cursor: pointer;\n",
              "      display: none;\n",
              "      fill: #1967D2;\n",
              "      height: 32px;\n",
              "      padding: 0 0 0 0;\n",
              "      width: 32px;\n",
              "    }\n",
              "\n",
              "    .colab-df-convert:hover {\n",
              "      background-color: #E2EBFA;\n",
              "      box-shadow: 0px 1px 2px rgba(60, 64, 67, 0.3), 0px 1px 3px 1px rgba(60, 64, 67, 0.15);\n",
              "      fill: #174EA6;\n",
              "    }\n",
              "\n",
              "    [theme=dark] .colab-df-convert {\n",
              "      background-color: #3B4455;\n",
              "      fill: #D2E3FC;\n",
              "    }\n",
              "\n",
              "    [theme=dark] .colab-df-convert:hover {\n",
              "      background-color: #434B5C;\n",
              "      box-shadow: 0px 1px 3px 1px rgba(0, 0, 0, 0.15);\n",
              "      filter: drop-shadow(0px 1px 2px rgba(0, 0, 0, 0.3));\n",
              "      fill: #FFFFFF;\n",
              "    }\n",
              "  </style>\n",
              "\n",
              "      <script>\n",
              "        const buttonEl =\n",
              "          document.querySelector('#df-dcbb9c8e-9a97-4708-b57a-47106a619113 button.colab-df-convert');\n",
              "        buttonEl.style.display =\n",
              "          google.colab.kernel.accessAllowed ? 'block' : 'none';\n",
              "\n",
              "        async function convertToInteractive(key) {\n",
              "          const element = document.querySelector('#df-dcbb9c8e-9a97-4708-b57a-47106a619113');\n",
              "          const dataTable =\n",
              "            await google.colab.kernel.invokeFunction('convertToInteractive',\n",
              "                                                     [key], {});\n",
              "          if (!dataTable) return;\n",
              "\n",
              "          const docLinkHtml = 'Like what you see? Visit the ' +\n",
              "            '<a target=\"_blank\" href=https://colab.research.google.com/notebooks/data_table.ipynb>data table notebook</a>'\n",
              "            + ' to learn more about interactive tables.';\n",
              "          element.innerHTML = '';\n",
              "          dataTable['output_type'] = 'display_data';\n",
              "          await google.colab.output.renderOutput(dataTable, element);\n",
              "          const docLink = document.createElement('div');\n",
              "          docLink.innerHTML = docLinkHtml;\n",
              "          element.appendChild(docLink);\n",
              "        }\n",
              "      </script>\n",
              "    </div>\n",
              "  </div>\n",
              "  "
            ]
          },
          "metadata": {},
          "execution_count": 132
        }
      ]
    }
  ]
}
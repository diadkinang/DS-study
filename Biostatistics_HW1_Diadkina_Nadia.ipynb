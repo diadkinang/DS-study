{
 "cells": [
  {
   "cell_type": "code",
   "execution_count": 67,
   "metadata": {},
   "outputs": [],
   "source": [
    "import math\n",
    "import numpy as np\n",
    "import pandas as pd\n",
    "from scipy import stats\n",
    "from scipy import integrate"
   ]
  },
  {
   "attachments": {},
   "cell_type": "markdown",
   "metadata": {},
   "source": [
    "Задание №1. Рассчитайте следующие статистики для данных Task 1.csv (округлите до 2х знаков после запятой):\n",
    "\n",
    "- Среднее;\n",
    "- Стандартное отклонение;\n",
    "- Дисперсию;\n",
    "- Квартили (1-й, 2-й, 3-й, 4-й);\n",
    "- Моду;\n",
    "- 2-й перцентиль;\n",
    "- Интерквартильный размах.\n",
    "\n",
    "Примените те формулы, которые наиболее хорошо подходят для конкретного случая."
   ]
  },
  {
   "cell_type": "code",
   "execution_count": 87,
   "metadata": {},
   "outputs": [
    {
     "name": "stdout",
     "output_type": "stream",
     "text": [
      "Среднее: 177.34\n",
      "Стандартное отклонение% 115.26\n",
      "Дисперсия: 13285.81\n",
      "Квартили (1-й, 2-й, 3-й, 4-й):\n",
      "       Values\n",
      "0.25   99.23\n",
      "0.50  151.07\n",
      "0.75  220.37\n",
      "1.00  928.66\n",
      "Мода: 81.38\n",
      "2-й перцентиль: 38.94\n",
      "Интерквартильный размах: 777.59\n"
     ]
    },
    {
     "name": "stderr",
     "output_type": "stream",
     "text": [
      "/var/folders/10/w53fwtfx0136pc3wg8gmr_qh0000gn/T/ipykernel_18414/1941009269.py:10: FutureWarning: Unlike other reduction functions (e.g. `skew`, `kurtosis`), the default behavior of `mode` typically preserves the axis it acts along. In SciPy 1.11.0, this behavior will change: the default value of `keepdims` will become False, the `axis` over which the statistic is taken will be eliminated, and the value None will no longer be accepted. Set `keepdims` to True or False to avoid this warning.\n",
      "  print('Мода:', round(stats.mode(task1).mode[0][0], 2))\n"
     ]
    }
   ],
   "source": [
    "task1 = pd.read_csv('data/Biostatistics_HW1_Task_1.csv')\n",
    "\n",
    "print('Среднее:', round(task1.mean()[0], 2))\n",
    "print('Стандартное отклонение%', round(task1.std()[0], 2))\n",
    "print('Дисперсия:', round(task1.var()[0], 2))\n",
    "\n",
    "quantiles = task1.quantile([1/4, 1/2, 3/4, 1])\n",
    "\n",
    "print('Квартили (1-й, 2-й, 3-й, 4-й):\\n', round(quantiles, 2))\n",
    "print('Мода:', round(stats.mode(task1).mode[0][0], 2))\n",
    "print('2-й перцентиль:', round(np.percentile(task1, 2), 2))\n",
    "\n",
    "interquartile_range = quantiles.iloc[3, 0] - quantiles.iloc[1, 0]\n",
    "print('Интерквартильный размах:', round(interquartile_range, 2))\n",
    "\n"
   ]
  },
  {
   "attachments": {},
   "cell_type": "markdown",
   "metadata": {},
   "source": [
    "Задание № 2.1. Рассчитайте следующие статистики для данных Task 2_1.csv (округлите до 2х знаков после запятой):\n",
    "\n",
    "- Среднее;\n",
    "- Стандартное отклонение;\n",
    "- Дисперсию;\n",
    "- Квартили (1-й, 3-й).\n",
    "\n",
    "Примените те формулы, которые наиболее хорошо подходят для конкретного случая."
   ]
  },
  {
   "cell_type": "code",
   "execution_count": 89,
   "metadata": {},
   "outputs": [
    {
     "name": "stdout",
     "output_type": "stream",
     "text": [
      "Среднее: 177.34\n",
      "Стандартное отклонение: 115.26\n",
      "Дисперсия: 13285.81\n",
      "Квартили (1-й, 3-й):\n",
      "       Values\n",
      "0.25   99.23\n",
      "0.75  220.37\n"
     ]
    }
   ],
   "source": [
    "task2_1 = pd.read_csv('data/Biostatistics_HW1_Task_2_1.csv')\n",
    "\n",
    "print('Среднее:', round(task1.mean()[0], 2))\n",
    "print('Стандартное отклонение:', round(task1.std()[0], 2))\n",
    "print('Дисперсия:', round(task1.var()[0], 2))\n",
    "\n",
    "quantiles = task1.quantile([1/4, 3/4])\n",
    "print('Квартили (1-й, 3-й):\\n', round(quantiles, 2))"
   ]
  },
  {
   "attachments": {},
   "cell_type": "markdown",
   "metadata": {},
   "source": [
    "Задание №2.2. Рассчитайте следующие статистики для данных Task 2_2.csv (округлите до 2х знаков после запятой):\n",
    "\n",
    "- Абсолютную частоту встречаемости каждого признака;\n",
    "- Относительную частоту встречаемости каждого признака;\n",
    "- Какой из признаков самый редко встречающийся."
   ]
  },
  {
   "cell_type": "code",
   "execution_count": 91,
   "metadata": {},
   "outputs": [
    {
     "name": "stdout",
     "output_type": "stream",
     "text": [
      "Абсолютная частота встречаемости каждого признака:\n",
      " Value        \n",
      "Purple Audi      30\n",
      "Red Mercedes     27\n",
      "Blue BMW         23\n",
      "Jellow Toyota    22\n",
      "dtype: int64\n",
      "Относительная частота встречаемости каждого признака:\n",
      " Value        \n",
      "Purple Audi      0.29\n",
      "Red Mercedes     0.26\n",
      "Blue BMW         0.23\n",
      "Jellow Toyota    0.22\n",
      "dtype: float64\n",
      "Самый редко встречающийся признак: Jellow Toyota\n"
     ]
    }
   ],
   "source": [
    "task2_2 = pd.read_csv('data/Biostatistics_HW1_Task_2_2.csv')\n",
    "\n",
    "counts = task2_2.value_counts()\n",
    "print('Абсолютная частота встречаемости каждого признака:\\n', counts)\n",
    "counts_normalized = task2_2.value_counts(normalize = True)\n",
    "print('Относительная частота встречаемости каждого признака:\\n', round(counts_normalized, 2))\n",
    "\n",
    "counts = counts.reset_index(name='Counts')\n",
    "rare_car = counts[counts.Counts == counts.Counts.min()].Value.values[0]\n",
    "print('Самый редко встречающийся признак:', rare_car)"
   ]
  },
  {
   "attachments": {},
   "cell_type": "markdown",
   "metadata": {},
   "source": [
    "Задание №3. Постройте доверительный 90% доверительный интервал для данных Task 2_1.csv.\n",
    "\n",
    "Примечание: данные имеют распределение, отличное от нормального."
   ]
  },
  {
   "cell_type": "code",
   "execution_count": 76,
   "metadata": {},
   "outputs": [
    {
     "name": "stdout",
     "output_type": "stream",
     "text": [
      "Доверительный 90% интервал: (750.5649300131288, 1004.7886699868714)\n"
     ]
    },
    {
     "name": "stderr",
     "output_type": "stream",
     "text": [
      "/Library/Frameworks/Python.framework/Versions/3.11/lib/python3.11/site-packages/numpy/core/fromnumeric.py:3462: FutureWarning: In a future version, DataFrame.mean(axis=None) will return a scalar mean over the entire DataFrame. To retain the old behavior, use 'frame.mean(axis=0)' or just 'frame.mean()'\n",
      "  return mean(axis=axis, dtype=dtype, out=out, **kwargs)\n",
      "/var/folders/10/w53fwtfx0136pc3wg8gmr_qh0000gn/T/ipykernel_18414/718464657.py:1: DeprecationWarning: Use of keyword argument 'alpha' for method 'interval' is deprecated and wil be removed in SciPy 1.11.0. Use first positional argument or keyword argument 'confidence' instead.\n",
      "  stats.t.interval(alpha=0.90, df=len(task2_1)-1, loc=np.mean(task2_1), scale=stats.sem(task2_1))\n",
      "/var/folders/10/w53fwtfx0136pc3wg8gmr_qh0000gn/T/ipykernel_18414/718464657.py:5: DeprecationWarning: Use of keyword argument 'alpha' for method 'interval' is deprecated and wil be removed in SciPy 1.11.0. Use first positional argument or keyword argument 'confidence' instead.\n",
      "  interval = stats.t.interval(alpha=0.9, df=len(task2_1)-1, loc=m, scale=s/np.sqrt(len(task2_1)-1))\n"
     ]
    }
   ],
   "source": [
    "stats.t.interval(alpha=0.90, df=len(task2_1)-1, loc=np.mean(task2_1), scale=stats.sem(task2_1)) \n",
    "\n",
    "m = np.mean(task2_1.Values)\n",
    "s = np.std(task2_1.Values)\n",
    "interval = stats.t.interval(alpha=0.9, df=len(task2_1)-1, loc=m, scale=s/np.sqrt(len(task2_1)-1))\n",
    "\n",
    "print('Доверительный 90% интервал:', interval)"
   ]
  },
  {
   "attachments": {},
   "cell_type": "markdown",
   "metadata": {},
   "source": [
    "Задание №4. В задаче № 3 Вы построили 90% доверительный интервал. Скажите, принадлежит ли эта выборка генеральной совокупности со средним = 783.21? Почему? Ответьте развернуто."
   ]
  },
  {
   "attachments": {},
   "cell_type": "markdown",
   "metadata": {},
   "source": [
    "Да, эта выборка принаждлежит генеральной совокупности, так как среднее входит в доверительный интервал (751, 1005)."
   ]
  },
  {
   "attachments": {},
   "cell_type": "markdown",
   "metadata": {},
   "source": [
    "Задание №5. Рассчитайте площадь под кривой на отрезке от -40 до +35 следующей функции:\n",
    "\n",
    "\n",
    "В нашем случае среднее = 32, а стандартное отклонение = 7.5. Ответ округлите до 3 знаков после запятой.\n",
    "\n",
    "Примечания:\n",
    "\n",
    "Эта функция написана вручную, скорее всего Вы не найдёте её ни в одном из пакетов.\n",
    "\n",
    "C интегрированием отлично справляется библиотека scipy;"
   ]
  },
  {
   "cell_type": "code",
   "execution_count": 74,
   "metadata": {},
   "outputs": [
    {
     "name": "stdout",
     "output_type": "stream",
     "text": [
      "Площадь под кривой на отрезке от -40 до 35: 0.254\n"
     ]
    }
   ],
   "source": [
    "def function(x):\n",
    "    sigma = 7.5\n",
    "    mu = 32\n",
    "    return (1 / (sigma * math.sqrt(2 * math.pi))) * (math.e ** ((x - mu)**2 / (-2 * sigma**2))) * ((x - mu)**2 / (2 * sigma**2))\n",
    "\n",
    "result = integrate.quad(function, -40, 35)\n",
    "\n",
    "print('Площадь под кривой на отрезке от -40 до 35:', round(result[0], 3))"
   ]
  }
 ],
 "metadata": {
  "kernelspec": {
   "display_name": "Python 3",
   "language": "python",
   "name": "python3"
  },
  "language_info": {
   "codemirror_mode": {
    "name": "ipython",
    "version": 3
   },
   "file_extension": ".py",
   "mimetype": "text/x-python",
   "name": "python",
   "nbconvert_exporter": "python",
   "pygments_lexer": "ipython3",
   "version": "3.11.2"
  },
  "orig_nbformat": 4
 },
 "nbformat": 4,
 "nbformat_minor": 2
}

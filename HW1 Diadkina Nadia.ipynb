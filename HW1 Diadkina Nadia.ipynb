{
 "cells": [
  {
   "cell_type": "code",
   "execution_count": 90,
   "metadata": {},
   "outputs": [
    {
     "name": "stdout",
     "output_type": "stream",
     "text": [
      "Requirement already satisfied: pandasql in c:\\users\\allin\\appdata\\local\\programs\\python\\python39\\lib\\site-packages (0.7.3)\n",
      "Requirement already satisfied: numpy in c:\\users\\allin\\appdata\\local\\programs\\python\\python39\\lib\\site-packages (from pandasql) (1.23.3)\n",
      "Requirement already satisfied: pandas in c:\\users\\allin\\appdata\\local\\programs\\python\\python39\\lib\\site-packages (from pandasql) (1.5.2)\n",
      "Requirement already satisfied: sqlalchemy in c:\\users\\allin\\appdata\\local\\programs\\python\\python39\\lib\\site-packages (from pandasql) (1.4.45)\n",
      "Requirement already satisfied: pytz>=2020.1 in c:\\users\\allin\\appdata\\local\\programs\\python\\python39\\lib\\site-packages (from pandas->pandasql) (2022.6)\n",
      "Requirement already satisfied: python-dateutil>=2.8.1 in c:\\users\\allin\\appdata\\roaming\\python\\python39\\site-packages (from pandas->pandasql) (2.8.2)\n",
      "Requirement already satisfied: six>=1.5 in c:\\users\\allin\\appdata\\roaming\\python\\python39\\site-packages (from python-dateutil>=2.8.1->pandas->pandasql) (1.16.0)\n",
      "Requirement already satisfied: greenlet!=0.4.17 in c:\\users\\allin\\appdata\\local\\programs\\python\\python39\\lib\\site-packages (from sqlalchemy->pandasql) (2.0.1)\n"
     ]
    },
    {
     "name": "stderr",
     "output_type": "stream",
     "text": [
      "WARNING: You are using pip version 21.2.4; however, version 22.3.1 is available.\n",
      "You should consider upgrading via the 'C:\\Users\\allin\\AppData\\Local\\Programs\\Python\\Python39\\python.exe -m pip install --upgrade pip' command.\n"
     ]
    }
   ],
   "source": [
    "!pip install pandasql"
   ]
  },
  {
   "cell_type": "code",
   "execution_count": 91,
   "metadata": {},
   "outputs": [],
   "source": [
    "import pandas as pd\n",
    "import pandasql as ps"
   ]
  },
  {
   "cell_type": "code",
   "execution_count": 92,
   "metadata": {},
   "outputs": [
    {
     "data": {
      "text/html": [
       "<div>\n",
       "<style scoped>\n",
       "    .dataframe tbody tr th:only-of-type {\n",
       "        vertical-align: middle;\n",
       "    }\n",
       "\n",
       "    .dataframe tbody tr th {\n",
       "        vertical-align: top;\n",
       "    }\n",
       "\n",
       "    .dataframe thead th {\n",
       "        text-align: right;\n",
       "    }\n",
       "</style>\n",
       "<table border=\"1\" class=\"dataframe\">\n",
       "  <thead>\n",
       "    <tr style=\"text-align: right;\">\n",
       "      <th></th>\n",
       "      <th>Cust_ID</th>\n",
       "      <th>Purchase</th>\n",
       "      <th>Cheq_Bal</th>\n",
       "      <th>Sav_Bal</th>\n",
       "      <th>Debt_Bal</th>\n",
       "      <th>Joint_Acct</th>\n",
       "      <th>Age</th>\n",
       "      <th>Date</th>\n",
       "    </tr>\n",
       "  </thead>\n",
       "  <tbody>\n",
       "    <tr>\n",
       "      <th>0</th>\n",
       "      <td>1</td>\n",
       "      <td>0</td>\n",
       "      <td>1739.48</td>\n",
       "      <td>26918.18</td>\n",
       "      <td>12563.93</td>\n",
       "      <td>0</td>\n",
       "      <td>49</td>\n",
       "      <td>NaT</td>\n",
       "    </tr>\n",
       "    <tr>\n",
       "      <th>1</th>\n",
       "      <td>2</td>\n",
       "      <td>0</td>\n",
       "      <td>2862.35</td>\n",
       "      <td>23093.67</td>\n",
       "      <td>15457.88</td>\n",
       "      <td>0</td>\n",
       "      <td>39</td>\n",
       "      <td>NaT</td>\n",
       "    </tr>\n",
       "    <tr>\n",
       "      <th>2</th>\n",
       "      <td>3</td>\n",
       "      <td>0</td>\n",
       "      <td>2296.66</td>\n",
       "      <td>18037.33</td>\n",
       "      <td>12721.89</td>\n",
       "      <td>0</td>\n",
       "      <td>52</td>\n",
       "      <td>NaT</td>\n",
       "    </tr>\n",
       "    <tr>\n",
       "      <th>3</th>\n",
       "      <td>4</td>\n",
       "      <td>1</td>\n",
       "      <td>2880.28</td>\n",
       "      <td>32317.63</td>\n",
       "      <td>7075.03</td>\n",
       "      <td>0</td>\n",
       "      <td>28</td>\n",
       "      <td>2017-04-30</td>\n",
       "    </tr>\n",
       "    <tr>\n",
       "      <th>4</th>\n",
       "      <td>5</td>\n",
       "      <td>0</td>\n",
       "      <td>998.27</td>\n",
       "      <td>15110.04</td>\n",
       "      <td>11356.13</td>\n",
       "      <td>0</td>\n",
       "      <td>43</td>\n",
       "      <td>NaT</td>\n",
       "    </tr>\n",
       "    <tr>\n",
       "      <th>...</th>\n",
       "      <td>...</td>\n",
       "      <td>...</td>\n",
       "      <td>...</td>\n",
       "      <td>...</td>\n",
       "      <td>...</td>\n",
       "      <td>...</td>\n",
       "      <td>...</td>\n",
       "      <td>...</td>\n",
       "    </tr>\n",
       "    <tr>\n",
       "      <th>195</th>\n",
       "      <td>196</td>\n",
       "      <td>0</td>\n",
       "      <td>2215.39</td>\n",
       "      <td>20050.87</td>\n",
       "      <td>11307.01</td>\n",
       "      <td>0</td>\n",
       "      <td>32</td>\n",
       "      <td>NaT</td>\n",
       "    </tr>\n",
       "    <tr>\n",
       "      <th>196</th>\n",
       "      <td>197</td>\n",
       "      <td>0</td>\n",
       "      <td>2074.33</td>\n",
       "      <td>22808.68</td>\n",
       "      <td>7880.16</td>\n",
       "      <td>0</td>\n",
       "      <td>27</td>\n",
       "      <td>NaT</td>\n",
       "    </tr>\n",
       "    <tr>\n",
       "      <th>197</th>\n",
       "      <td>198</td>\n",
       "      <td>0</td>\n",
       "      <td>1224.07</td>\n",
       "      <td>29926.97</td>\n",
       "      <td>5637.92</td>\n",
       "      <td>0</td>\n",
       "      <td>44</td>\n",
       "      <td>NaT</td>\n",
       "    </tr>\n",
       "    <tr>\n",
       "      <th>198</th>\n",
       "      <td>199</td>\n",
       "      <td>0</td>\n",
       "      <td>2617.27</td>\n",
       "      <td>14316.61</td>\n",
       "      <td>9445.28</td>\n",
       "      <td>0</td>\n",
       "      <td>38</td>\n",
       "      <td>NaT</td>\n",
       "    </tr>\n",
       "    <tr>\n",
       "      <th>199</th>\n",
       "      <td>200</td>\n",
       "      <td>0</td>\n",
       "      <td>2125.45</td>\n",
       "      <td>25687.52</td>\n",
       "      <td>4559.63</td>\n",
       "      <td>0</td>\n",
       "      <td>56</td>\n",
       "      <td>NaT</td>\n",
       "    </tr>\n",
       "  </tbody>\n",
       "</table>\n",
       "<p>200 rows × 8 columns</p>\n",
       "</div>"
      ],
      "text/plain": [
       "     Cust_ID  Purchase  Cheq_Bal   Sav_Bal  Debt_Bal  Joint_Acct  Age  \\\n",
       "0          1         0   1739.48  26918.18  12563.93           0   49   \n",
       "1          2         0   2862.35  23093.67  15457.88           0   39   \n",
       "2          3         0   2296.66  18037.33  12721.89           0   52   \n",
       "3          4         1   2880.28  32317.63   7075.03           0   28   \n",
       "4          5         0    998.27  15110.04  11356.13           0   43   \n",
       "..       ...       ...       ...       ...       ...         ...  ...   \n",
       "195      196         0   2215.39  20050.87  11307.01           0   32   \n",
       "196      197         0   2074.33  22808.68   7880.16           0   27   \n",
       "197      198         0   1224.07  29926.97   5637.92           0   44   \n",
       "198      199         0   2617.27  14316.61   9445.28           0   38   \n",
       "199      200         0   2125.45  25687.52   4559.63           0   56   \n",
       "\n",
       "          Date  \n",
       "0          NaT  \n",
       "1          NaT  \n",
       "2          NaT  \n",
       "3   2017-04-30  \n",
       "4          NaT  \n",
       "..         ...  \n",
       "195        NaT  \n",
       "196        NaT  \n",
       "197        NaT  \n",
       "198        NaT  \n",
       "199        NaT  \n",
       "\n",
       "[200 rows x 8 columns]"
      ]
     },
     "execution_count": 92,
     "metadata": {},
     "output_type": "execute_result"
    }
   ],
   "source": [
    "data = pd.read_excel('bank_account_data.xlsx')\n",
    "data"
   ]
  },
  {
   "attachments": {},
   "cell_type": "markdown",
   "metadata": {},
   "source": [
    "Задание 1. Опишите имеющиеся колонки в данных - сделайте аналог describe в pandas для колонок"
   ]
  },
  {
   "cell_type": "code",
   "execution_count": 74,
   "metadata": {},
   "outputs": [],
   "source": [
    "# Pandas-like column descriptions\n",
    "sql_query_cust_ID = '''SELECT SUM(Cust_ID), AVG(Cust_ID), COUNT(Cust_ID), MIN(Cust_ID), MAX(Cust_ID) FROM data'''\n",
    "sql_query_purchase = '''SELECT SUM(Purchase), AVG(Purchase), COUNT(Purchase), MIN(Purchase), MAX(Purchase) FROM data'''\n",
    "sql_query_cheq_bal = '''SELECT SUM(Cheq_Bal), AVG(Cheq_Bal), COUNT(Cheq_Bal), MIN(Cheq_Bal), MAX(Cheq_Bal) FROM data'''\n",
    "sql_query_sav_bal = '''SELECT SUM(Cheq_Bal), AVG(Cheq_Bal), COUNT(Cheq_Bal), MIN(Cheq_Bal), MAX(Cheq_Bal) FROM data'''\n",
    "sql_query_debt_bal = '''SELECT SUM(Debt_Bal), AVG(Debt_Bal), COUNT(Debt_Bal), MIN(Debt_Bal), MAX(Debt_Bal) FROM data'''\n",
    "sql_query_joint_acct = '''SELECT SUM(Joint_Acct), AVG(Joint_Acct), COUNT(Joint_Acct), MIN(Joint_Acct), MAX(Joint_Acct) FROM data'''\n",
    "sql_query_age = '''SELECT SUM(Age), AVG(Age), COUNT(Age), MIN(Age), MAX(Age) FROM data'''\n",
    "sql_query_date = '''SELECT SUM(Date), AVG(Date), COUNT(Date), MIN(Date), MAX(Date) FROM data'''"
   ]
  },
  {
   "cell_type": "code",
   "execution_count": 75,
   "metadata": {},
   "outputs": [
    {
     "data": {
      "text/html": [
       "<div>\n",
       "<style scoped>\n",
       "    .dataframe tbody tr th:only-of-type {\n",
       "        vertical-align: middle;\n",
       "    }\n",
       "\n",
       "    .dataframe tbody tr th {\n",
       "        vertical-align: top;\n",
       "    }\n",
       "\n",
       "    .dataframe thead th {\n",
       "        text-align: right;\n",
       "    }\n",
       "</style>\n",
       "<table border=\"1\" class=\"dataframe\">\n",
       "  <thead>\n",
       "    <tr style=\"text-align: right;\">\n",
       "      <th></th>\n",
       "      <th>SUM(Cust_ID)</th>\n",
       "      <th>AVG(Cust_ID)</th>\n",
       "      <th>COUNT(Cust_ID)</th>\n",
       "      <th>MIN(Cust_ID)</th>\n",
       "      <th>MAX(Cust_ID)</th>\n",
       "    </tr>\n",
       "  </thead>\n",
       "  <tbody>\n",
       "    <tr>\n",
       "      <th>0</th>\n",
       "      <td>20100</td>\n",
       "      <td>100.5</td>\n",
       "      <td>200</td>\n",
       "      <td>1</td>\n",
       "      <td>200</td>\n",
       "    </tr>\n",
       "  </tbody>\n",
       "</table>\n",
       "</div>"
      ],
      "text/plain": [
       "   SUM(Cust_ID)  AVG(Cust_ID)  COUNT(Cust_ID)  MIN(Cust_ID)  MAX(Cust_ID)\n",
       "0         20100         100.5             200             1           200"
      ]
     },
     "execution_count": 75,
     "metadata": {},
     "output_type": "execute_result"
    }
   ],
   "source": [
    "describe_cust_ID = ps.sqldf(sql_query_cust_ID)\n",
    "describe_cust_ID"
   ]
  },
  {
   "cell_type": "code",
   "execution_count": 76,
   "metadata": {},
   "outputs": [
    {
     "data": {
      "text/html": [
       "<div>\n",
       "<style scoped>\n",
       "    .dataframe tbody tr th:only-of-type {\n",
       "        vertical-align: middle;\n",
       "    }\n",
       "\n",
       "    .dataframe tbody tr th {\n",
       "        vertical-align: top;\n",
       "    }\n",
       "\n",
       "    .dataframe thead th {\n",
       "        text-align: right;\n",
       "    }\n",
       "</style>\n",
       "<table border=\"1\" class=\"dataframe\">\n",
       "  <thead>\n",
       "    <tr style=\"text-align: right;\">\n",
       "      <th></th>\n",
       "      <th>SUM(Purchase)</th>\n",
       "      <th>AVG(Purchase)</th>\n",
       "      <th>COUNT(Purchase)</th>\n",
       "      <th>MIN(Purchase)</th>\n",
       "      <th>MAX(Purchase)</th>\n",
       "    </tr>\n",
       "  </thead>\n",
       "  <tbody>\n",
       "    <tr>\n",
       "      <th>0</th>\n",
       "      <td>39</td>\n",
       "      <td>0.195</td>\n",
       "      <td>200</td>\n",
       "      <td>0</td>\n",
       "      <td>1</td>\n",
       "    </tr>\n",
       "  </tbody>\n",
       "</table>\n",
       "</div>"
      ],
      "text/plain": [
       "   SUM(Purchase)  AVG(Purchase)  COUNT(Purchase)  MIN(Purchase)  MAX(Purchase)\n",
       "0             39          0.195              200              0              1"
      ]
     },
     "execution_count": 76,
     "metadata": {},
     "output_type": "execute_result"
    }
   ],
   "source": [
    "describe_purchase = ps.sqldf(sql_query_purchase)\n",
    "describe_purchase"
   ]
  },
  {
   "cell_type": "code",
   "execution_count": 77,
   "metadata": {},
   "outputs": [
    {
     "data": {
      "text/html": [
       "<div>\n",
       "<style scoped>\n",
       "    .dataframe tbody tr th:only-of-type {\n",
       "        vertical-align: middle;\n",
       "    }\n",
       "\n",
       "    .dataframe tbody tr th {\n",
       "        vertical-align: top;\n",
       "    }\n",
       "\n",
       "    .dataframe thead th {\n",
       "        text-align: right;\n",
       "    }\n",
       "</style>\n",
       "<table border=\"1\" class=\"dataframe\">\n",
       "  <thead>\n",
       "    <tr style=\"text-align: right;\">\n",
       "      <th></th>\n",
       "      <th>SUM(Cheq_Bal)</th>\n",
       "      <th>AVG(Cheq_Bal)</th>\n",
       "      <th>COUNT(Cheq_Bal)</th>\n",
       "      <th>MIN(Cheq_Bal)</th>\n",
       "      <th>MAX(Cheq_Bal)</th>\n",
       "    </tr>\n",
       "  </thead>\n",
       "  <tbody>\n",
       "    <tr>\n",
       "      <th>0</th>\n",
       "      <td>429018.7</td>\n",
       "      <td>2145.0935</td>\n",
       "      <td>200</td>\n",
       "      <td>644.31</td>\n",
       "      <td>4437.44</td>\n",
       "    </tr>\n",
       "  </tbody>\n",
       "</table>\n",
       "</div>"
      ],
      "text/plain": [
       "   SUM(Cheq_Bal)  AVG(Cheq_Bal)  COUNT(Cheq_Bal)  MIN(Cheq_Bal)  MAX(Cheq_Bal)\n",
       "0       429018.7      2145.0935              200         644.31        4437.44"
      ]
     },
     "execution_count": 77,
     "metadata": {},
     "output_type": "execute_result"
    }
   ],
   "source": [
    "describe_cheq_bal = ps.sqldf(sql_query_cheq_bal)\n",
    "describe_cheq_bal"
   ]
  },
  {
   "cell_type": "code",
   "execution_count": 78,
   "metadata": {},
   "outputs": [
    {
     "data": {
      "text/html": [
       "<div>\n",
       "<style scoped>\n",
       "    .dataframe tbody tr th:only-of-type {\n",
       "        vertical-align: middle;\n",
       "    }\n",
       "\n",
       "    .dataframe tbody tr th {\n",
       "        vertical-align: top;\n",
       "    }\n",
       "\n",
       "    .dataframe thead th {\n",
       "        text-align: right;\n",
       "    }\n",
       "</style>\n",
       "<table border=\"1\" class=\"dataframe\">\n",
       "  <thead>\n",
       "    <tr style=\"text-align: right;\">\n",
       "      <th></th>\n",
       "      <th>SUM(Cheq_Bal)</th>\n",
       "      <th>AVG(Cheq_Bal)</th>\n",
       "      <th>COUNT(Cheq_Bal)</th>\n",
       "      <th>MIN(Cheq_Bal)</th>\n",
       "      <th>MAX(Cheq_Bal)</th>\n",
       "    </tr>\n",
       "  </thead>\n",
       "  <tbody>\n",
       "    <tr>\n",
       "      <th>0</th>\n",
       "      <td>429018.7</td>\n",
       "      <td>2145.0935</td>\n",
       "      <td>200</td>\n",
       "      <td>644.31</td>\n",
       "      <td>4437.44</td>\n",
       "    </tr>\n",
       "  </tbody>\n",
       "</table>\n",
       "</div>"
      ],
      "text/plain": [
       "   SUM(Cheq_Bal)  AVG(Cheq_Bal)  COUNT(Cheq_Bal)  MIN(Cheq_Bal)  MAX(Cheq_Bal)\n",
       "0       429018.7      2145.0935              200         644.31        4437.44"
      ]
     },
     "execution_count": 78,
     "metadata": {},
     "output_type": "execute_result"
    }
   ],
   "source": [
    "describe_sav_bal = ps.sqldf(sql_query_sav_bal)\n",
    "describe_sav_bal"
   ]
  },
  {
   "cell_type": "code",
   "execution_count": 79,
   "metadata": {},
   "outputs": [
    {
     "data": {
      "text/html": [
       "<div>\n",
       "<style scoped>\n",
       "    .dataframe tbody tr th:only-of-type {\n",
       "        vertical-align: middle;\n",
       "    }\n",
       "\n",
       "    .dataframe tbody tr th {\n",
       "        vertical-align: top;\n",
       "    }\n",
       "\n",
       "    .dataframe thead th {\n",
       "        text-align: right;\n",
       "    }\n",
       "</style>\n",
       "<table border=\"1\" class=\"dataframe\">\n",
       "  <thead>\n",
       "    <tr style=\"text-align: right;\">\n",
       "      <th></th>\n",
       "      <th>SUM(Debt_Bal)</th>\n",
       "      <th>AVG(Debt_Bal)</th>\n",
       "      <th>COUNT(Debt_Bal)</th>\n",
       "      <th>MIN(Debt_Bal)</th>\n",
       "      <th>MAX(Debt_Bal)</th>\n",
       "    </tr>\n",
       "  </thead>\n",
       "  <tbody>\n",
       "    <tr>\n",
       "      <th>0</th>\n",
       "      <td>1727673.92</td>\n",
       "      <td>8638.3696</td>\n",
       "      <td>200</td>\n",
       "      <td>0.0</td>\n",
       "      <td>20559.7</td>\n",
       "    </tr>\n",
       "  </tbody>\n",
       "</table>\n",
       "</div>"
      ],
      "text/plain": [
       "   SUM(Debt_Bal)  AVG(Debt_Bal)  COUNT(Debt_Bal)  MIN(Debt_Bal)  MAX(Debt_Bal)\n",
       "0     1727673.92      8638.3696              200            0.0        20559.7"
      ]
     },
     "execution_count": 79,
     "metadata": {},
     "output_type": "execute_result"
    }
   ],
   "source": [
    "describe_debt_bal = ps.sqldf(sql_query_debt_bal)\n",
    "describe_debt_bal"
   ]
  },
  {
   "cell_type": "code",
   "execution_count": 80,
   "metadata": {},
   "outputs": [
    {
     "data": {
      "text/html": [
       "<div>\n",
       "<style scoped>\n",
       "    .dataframe tbody tr th:only-of-type {\n",
       "        vertical-align: middle;\n",
       "    }\n",
       "\n",
       "    .dataframe tbody tr th {\n",
       "        vertical-align: top;\n",
       "    }\n",
       "\n",
       "    .dataframe thead th {\n",
       "        text-align: right;\n",
       "    }\n",
       "</style>\n",
       "<table border=\"1\" class=\"dataframe\">\n",
       "  <thead>\n",
       "    <tr style=\"text-align: right;\">\n",
       "      <th></th>\n",
       "      <th>SUM(Joint_Acct)</th>\n",
       "      <th>AVG(Joint_Acct)</th>\n",
       "      <th>COUNT(Joint_Acct)</th>\n",
       "      <th>MIN(Joint_Acct)</th>\n",
       "      <th>MAX(Joint_Acct)</th>\n",
       "    </tr>\n",
       "  </thead>\n",
       "  <tbody>\n",
       "    <tr>\n",
       "      <th>0</th>\n",
       "      <td>59</td>\n",
       "      <td>0.295</td>\n",
       "      <td>200</td>\n",
       "      <td>0</td>\n",
       "      <td>1</td>\n",
       "    </tr>\n",
       "  </tbody>\n",
       "</table>\n",
       "</div>"
      ],
      "text/plain": [
       "   SUM(Joint_Acct)  AVG(Joint_Acct)  COUNT(Joint_Acct)  MIN(Joint_Acct)  \\\n",
       "0               59            0.295                200                0   \n",
       "\n",
       "   MAX(Joint_Acct)  \n",
       "0                1  "
      ]
     },
     "execution_count": 80,
     "metadata": {},
     "output_type": "execute_result"
    }
   ],
   "source": [
    "describe_joint_acct = ps.sqldf(sql_query_joint_acct)\n",
    "describe_joint_acct"
   ]
  },
  {
   "cell_type": "code",
   "execution_count": 81,
   "metadata": {},
   "outputs": [
    {
     "data": {
      "text/html": [
       "<div>\n",
       "<style scoped>\n",
       "    .dataframe tbody tr th:only-of-type {\n",
       "        vertical-align: middle;\n",
       "    }\n",
       "\n",
       "    .dataframe tbody tr th {\n",
       "        vertical-align: top;\n",
       "    }\n",
       "\n",
       "    .dataframe thead th {\n",
       "        text-align: right;\n",
       "    }\n",
       "</style>\n",
       "<table border=\"1\" class=\"dataframe\">\n",
       "  <thead>\n",
       "    <tr style=\"text-align: right;\">\n",
       "      <th></th>\n",
       "      <th>SUM(Age)</th>\n",
       "      <th>AVG(Age)</th>\n",
       "      <th>COUNT(Age)</th>\n",
       "      <th>MIN(Age)</th>\n",
       "      <th>MAX(Age)</th>\n",
       "    </tr>\n",
       "  </thead>\n",
       "  <tbody>\n",
       "    <tr>\n",
       "      <th>0</th>\n",
       "      <td>7707</td>\n",
       "      <td>38.535</td>\n",
       "      <td>200</td>\n",
       "      <td>18</td>\n",
       "      <td>60</td>\n",
       "    </tr>\n",
       "  </tbody>\n",
       "</table>\n",
       "</div>"
      ],
      "text/plain": [
       "   SUM(Age)  AVG(Age)  COUNT(Age)  MIN(Age)  MAX(Age)\n",
       "0      7707    38.535         200        18        60"
      ]
     },
     "execution_count": 81,
     "metadata": {},
     "output_type": "execute_result"
    }
   ],
   "source": [
    "describe_age = ps.sqldf(sql_query_age)\n",
    "describe_age"
   ]
  },
  {
   "cell_type": "code",
   "execution_count": 82,
   "metadata": {},
   "outputs": [
    {
     "data": {
      "text/html": [
       "<div>\n",
       "<style scoped>\n",
       "    .dataframe tbody tr th:only-of-type {\n",
       "        vertical-align: middle;\n",
       "    }\n",
       "\n",
       "    .dataframe tbody tr th {\n",
       "        vertical-align: top;\n",
       "    }\n",
       "\n",
       "    .dataframe thead th {\n",
       "        text-align: right;\n",
       "    }\n",
       "</style>\n",
       "<table border=\"1\" class=\"dataframe\">\n",
       "  <thead>\n",
       "    <tr style=\"text-align: right;\">\n",
       "      <th></th>\n",
       "      <th>SUM(Date)</th>\n",
       "      <th>AVG(Date)</th>\n",
       "      <th>COUNT(Date)</th>\n",
       "      <th>MIN(Date)</th>\n",
       "      <th>MAX(Date)</th>\n",
       "    </tr>\n",
       "  </thead>\n",
       "  <tbody>\n",
       "    <tr>\n",
       "      <th>0</th>\n",
       "      <td>78663.0</td>\n",
       "      <td>2017.0</td>\n",
       "      <td>39</td>\n",
       "      <td>2017-04-01 00:00:00.000000</td>\n",
       "      <td>2017-08-29 00:00:00.000000</td>\n",
       "    </tr>\n",
       "  </tbody>\n",
       "</table>\n",
       "</div>"
      ],
      "text/plain": [
       "   SUM(Date)  AVG(Date)  COUNT(Date)                   MIN(Date)  \\\n",
       "0    78663.0     2017.0           39  2017-04-01 00:00:00.000000   \n",
       "\n",
       "                    MAX(Date)  \n",
       "0  2017-08-29 00:00:00.000000  "
      ]
     },
     "execution_count": 82,
     "metadata": {},
     "output_type": "execute_result"
    }
   ],
   "source": [
    "describe_date = ps.sqldf(sql_query_date)\n",
    "describe_date"
   ]
  },
  {
   "attachments": {},
   "cell_type": "markdown",
   "metadata": {},
   "source": [
    "Задание 2. Посчитайте совокупный объем средств у клиентов в банке - сумма по всем балансам."
   ]
  },
  {
   "cell_type": "code",
   "execution_count": 118,
   "metadata": {},
   "outputs": [
    {
     "data": {
      "text/html": [
       "<div>\n",
       "<style scoped>\n",
       "    .dataframe tbody tr th:only-of-type {\n",
       "        vertical-align: middle;\n",
       "    }\n",
       "\n",
       "    .dataframe tbody tr th {\n",
       "        vertical-align: top;\n",
       "    }\n",
       "\n",
       "    .dataframe thead th {\n",
       "        text-align: right;\n",
       "    }\n",
       "</style>\n",
       "<table border=\"1\" class=\"dataframe\">\n",
       "  <thead>\n",
       "    <tr style=\"text-align: right;\">\n",
       "      <th></th>\n",
       "      <th>Cust_ID</th>\n",
       "      <th>Sum_Bal</th>\n",
       "    </tr>\n",
       "  </thead>\n",
       "  <tbody>\n",
       "    <tr>\n",
       "      <th>0</th>\n",
       "      <td>1</td>\n",
       "      <td>41221.59</td>\n",
       "    </tr>\n",
       "    <tr>\n",
       "      <th>1</th>\n",
       "      <td>2</td>\n",
       "      <td>41413.90</td>\n",
       "    </tr>\n",
       "    <tr>\n",
       "      <th>2</th>\n",
       "      <td>3</td>\n",
       "      <td>33055.88</td>\n",
       "    </tr>\n",
       "    <tr>\n",
       "      <th>3</th>\n",
       "      <td>4</td>\n",
       "      <td>42272.94</td>\n",
       "    </tr>\n",
       "    <tr>\n",
       "      <th>4</th>\n",
       "      <td>5</td>\n",
       "      <td>27464.44</td>\n",
       "    </tr>\n",
       "    <tr>\n",
       "      <th>...</th>\n",
       "      <td>...</td>\n",
       "      <td>...</td>\n",
       "    </tr>\n",
       "    <tr>\n",
       "      <th>195</th>\n",
       "      <td>196</td>\n",
       "      <td>33573.27</td>\n",
       "    </tr>\n",
       "    <tr>\n",
       "      <th>196</th>\n",
       "      <td>197</td>\n",
       "      <td>32763.17</td>\n",
       "    </tr>\n",
       "    <tr>\n",
       "      <th>197</th>\n",
       "      <td>198</td>\n",
       "      <td>36788.96</td>\n",
       "    </tr>\n",
       "    <tr>\n",
       "      <th>198</th>\n",
       "      <td>199</td>\n",
       "      <td>26379.16</td>\n",
       "    </tr>\n",
       "    <tr>\n",
       "      <th>199</th>\n",
       "      <td>200</td>\n",
       "      <td>32372.60</td>\n",
       "    </tr>\n",
       "  </tbody>\n",
       "</table>\n",
       "<p>200 rows × 2 columns</p>\n",
       "</div>"
      ],
      "text/plain": [
       "     Cust_ID   Sum_Bal\n",
       "0          1  41221.59\n",
       "1          2  41413.90\n",
       "2          3  33055.88\n",
       "3          4  42272.94\n",
       "4          5  27464.44\n",
       "..       ...       ...\n",
       "195      196  33573.27\n",
       "196      197  32763.17\n",
       "197      198  36788.96\n",
       "198      199  26379.16\n",
       "199      200  32372.60\n",
       "\n",
       "[200 rows x 2 columns]"
      ]
     },
     "execution_count": 118,
     "metadata": {},
     "output_type": "execute_result"
    }
   ],
   "source": [
    "# The total amount of customer funds in the bank\n",
    "sql_query_sum_bal = ps.sqldf('SELECT Cust_ID, Cheq_Bal + Sav_Bal + Debt_Bal AS Sum_Bal FROM data GROUP BY Cust_ID;')\n",
    "sql_query_sum_bal"
   ]
  },
  {
   "attachments": {},
   "cell_type": "markdown",
   "metadata": {},
   "source": [
    "Задание 3. Выведите только тех клиентов, которые приобрели ипотеку (колонка mortgage)."
   ]
  },
  {
   "cell_type": "code",
   "execution_count": 119,
   "metadata": {},
   "outputs": [
    {
     "data": {
      "text/html": [
       "<div>\n",
       "<style scoped>\n",
       "    .dataframe tbody tr th:only-of-type {\n",
       "        vertical-align: middle;\n",
       "    }\n",
       "\n",
       "    .dataframe tbody tr th {\n",
       "        vertical-align: top;\n",
       "    }\n",
       "\n",
       "    .dataframe thead th {\n",
       "        text-align: right;\n",
       "    }\n",
       "</style>\n",
       "<table border=\"1\" class=\"dataframe\">\n",
       "  <thead>\n",
       "    <tr style=\"text-align: right;\">\n",
       "      <th></th>\n",
       "      <th>Cust_ID</th>\n",
       "    </tr>\n",
       "  </thead>\n",
       "  <tbody>\n",
       "    <tr>\n",
       "      <th>0</th>\n",
       "      <td>4</td>\n",
       "    </tr>\n",
       "    <tr>\n",
       "      <th>1</th>\n",
       "      <td>6</td>\n",
       "    </tr>\n",
       "    <tr>\n",
       "      <th>2</th>\n",
       "      <td>7</td>\n",
       "    </tr>\n",
       "    <tr>\n",
       "      <th>3</th>\n",
       "      <td>11</td>\n",
       "    </tr>\n",
       "    <tr>\n",
       "      <th>4</th>\n",
       "      <td>13</td>\n",
       "    </tr>\n",
       "    <tr>\n",
       "      <th>5</th>\n",
       "      <td>17</td>\n",
       "    </tr>\n",
       "    <tr>\n",
       "      <th>6</th>\n",
       "      <td>18</td>\n",
       "    </tr>\n",
       "    <tr>\n",
       "      <th>7</th>\n",
       "      <td>20</td>\n",
       "    </tr>\n",
       "    <tr>\n",
       "      <th>8</th>\n",
       "      <td>22</td>\n",
       "    </tr>\n",
       "    <tr>\n",
       "      <th>9</th>\n",
       "      <td>31</td>\n",
       "    </tr>\n",
       "    <tr>\n",
       "      <th>10</th>\n",
       "      <td>36</td>\n",
       "    </tr>\n",
       "    <tr>\n",
       "      <th>11</th>\n",
       "      <td>38</td>\n",
       "    </tr>\n",
       "    <tr>\n",
       "      <th>12</th>\n",
       "      <td>40</td>\n",
       "    </tr>\n",
       "    <tr>\n",
       "      <th>13</th>\n",
       "      <td>41</td>\n",
       "    </tr>\n",
       "    <tr>\n",
       "      <th>14</th>\n",
       "      <td>54</td>\n",
       "    </tr>\n",
       "    <tr>\n",
       "      <th>15</th>\n",
       "      <td>56</td>\n",
       "    </tr>\n",
       "    <tr>\n",
       "      <th>16</th>\n",
       "      <td>59</td>\n",
       "    </tr>\n",
       "    <tr>\n",
       "      <th>17</th>\n",
       "      <td>60</td>\n",
       "    </tr>\n",
       "    <tr>\n",
       "      <th>18</th>\n",
       "      <td>74</td>\n",
       "    </tr>\n",
       "    <tr>\n",
       "      <th>19</th>\n",
       "      <td>76</td>\n",
       "    </tr>\n",
       "    <tr>\n",
       "      <th>20</th>\n",
       "      <td>80</td>\n",
       "    </tr>\n",
       "    <tr>\n",
       "      <th>21</th>\n",
       "      <td>87</td>\n",
       "    </tr>\n",
       "    <tr>\n",
       "      <th>22</th>\n",
       "      <td>91</td>\n",
       "    </tr>\n",
       "    <tr>\n",
       "      <th>23</th>\n",
       "      <td>93</td>\n",
       "    </tr>\n",
       "    <tr>\n",
       "      <th>24</th>\n",
       "      <td>94</td>\n",
       "    </tr>\n",
       "    <tr>\n",
       "      <th>25</th>\n",
       "      <td>97</td>\n",
       "    </tr>\n",
       "    <tr>\n",
       "      <th>26</th>\n",
       "      <td>100</td>\n",
       "    </tr>\n",
       "    <tr>\n",
       "      <th>27</th>\n",
       "      <td>107</td>\n",
       "    </tr>\n",
       "    <tr>\n",
       "      <th>28</th>\n",
       "      <td>111</td>\n",
       "    </tr>\n",
       "    <tr>\n",
       "      <th>29</th>\n",
       "      <td>113</td>\n",
       "    </tr>\n",
       "    <tr>\n",
       "      <th>30</th>\n",
       "      <td>132</td>\n",
       "    </tr>\n",
       "    <tr>\n",
       "      <th>31</th>\n",
       "      <td>146</td>\n",
       "    </tr>\n",
       "    <tr>\n",
       "      <th>32</th>\n",
       "      <td>154</td>\n",
       "    </tr>\n",
       "    <tr>\n",
       "      <th>33</th>\n",
       "      <td>166</td>\n",
       "    </tr>\n",
       "    <tr>\n",
       "      <th>34</th>\n",
       "      <td>169</td>\n",
       "    </tr>\n",
       "    <tr>\n",
       "      <th>35</th>\n",
       "      <td>182</td>\n",
       "    </tr>\n",
       "    <tr>\n",
       "      <th>36</th>\n",
       "      <td>184</td>\n",
       "    </tr>\n",
       "    <tr>\n",
       "      <th>37</th>\n",
       "      <td>185</td>\n",
       "    </tr>\n",
       "    <tr>\n",
       "      <th>38</th>\n",
       "      <td>189</td>\n",
       "    </tr>\n",
       "  </tbody>\n",
       "</table>\n",
       "</div>"
      ],
      "text/plain": [
       "    Cust_ID\n",
       "0         4\n",
       "1         6\n",
       "2         7\n",
       "3        11\n",
       "4        13\n",
       "5        17\n",
       "6        18\n",
       "7        20\n",
       "8        22\n",
       "9        31\n",
       "10       36\n",
       "11       38\n",
       "12       40\n",
       "13       41\n",
       "14       54\n",
       "15       56\n",
       "16       59\n",
       "17       60\n",
       "18       74\n",
       "19       76\n",
       "20       80\n",
       "21       87\n",
       "22       91\n",
       "23       93\n",
       "24       94\n",
       "25       97\n",
       "26      100\n",
       "27      107\n",
       "28      111\n",
       "29      113\n",
       "30      132\n",
       "31      146\n",
       "32      154\n",
       "33      166\n",
       "34      169\n",
       "35      182\n",
       "36      184\n",
       "37      185\n",
       "38      189"
      ]
     },
     "execution_count": 119,
     "metadata": {},
     "output_type": "execute_result"
    }
   ],
   "source": [
    "# Сlients who have purchased puchase\n",
    "sql_query_puchase = ps.sqldf('SELECT Cust_ID FROM data WHERE Purchase = 1;')\n",
    "sql_query_puchase\n"
   ]
  },
  {
   "attachments": {},
   "cell_type": "markdown",
   "metadata": {},
   "source": [
    "Задание 4. Какой совокупный объем средств в среднем у клиентов, которые приобрели ипотеку и у клиентов, которые её не приобретали?"
   ]
  },
  {
   "cell_type": "code",
   "execution_count": 120,
   "metadata": {},
   "outputs": [
    {
     "data": {
      "text/html": [
       "<div>\n",
       "<style scoped>\n",
       "    .dataframe tbody tr th:only-of-type {\n",
       "        vertical-align: middle;\n",
       "    }\n",
       "\n",
       "    .dataframe tbody tr th {\n",
       "        vertical-align: top;\n",
       "    }\n",
       "\n",
       "    .dataframe thead th {\n",
       "        text-align: right;\n",
       "    }\n",
       "</style>\n",
       "<table border=\"1\" class=\"dataframe\">\n",
       "  <thead>\n",
       "    <tr style=\"text-align: right;\">\n",
       "      <th></th>\n",
       "      <th>Purchase</th>\n",
       "      <th>Mean_sum_bal</th>\n",
       "    </tr>\n",
       "  </thead>\n",
       "  <tbody>\n",
       "    <tr>\n",
       "      <th>0</th>\n",
       "      <td>0</td>\n",
       "      <td>32095.885031</td>\n",
       "    </tr>\n",
       "    <tr>\n",
       "      <th>1</th>\n",
       "      <td>1</td>\n",
       "      <td>36054.895385</td>\n",
       "    </tr>\n",
       "  </tbody>\n",
       "</table>\n",
       "</div>"
      ],
      "text/plain": [
       "   Purchase  Mean_sum_bal\n",
       "0         0  32095.885031\n",
       "1         1  36054.895385"
      ]
     },
     "execution_count": 120,
     "metadata": {},
     "output_type": "execute_result"
    }
   ],
   "source": [
    "# The total amount of funds on average from customers who purchased a puchase\n",
    "sql_query_sum_avg_puchase = ps.sqldf('SELECT Purchase, AVG(Cheq_Bal + Sav_Bal + Debt_Bal) AS Mean_sum_bal FROM data GROUP BY Purchase;')\n",
    "sql_query_sum_avg_puchase"
   ]
  },
  {
   "attachments": {},
   "cell_type": "markdown",
   "metadata": {},
   "source": [
    "Задание 5. Есть ли разница в среднем по каждому из типов баланса у клиентов, которые приобрели ипотеку и у клиентов, которые её не приобретали?"
   ]
  },
  {
   "cell_type": "code",
   "execution_count": 121,
   "metadata": {},
   "outputs": [
    {
     "data": {
      "text/html": [
       "<div>\n",
       "<style scoped>\n",
       "    .dataframe tbody tr th:only-of-type {\n",
       "        vertical-align: middle;\n",
       "    }\n",
       "\n",
       "    .dataframe tbody tr th {\n",
       "        vertical-align: top;\n",
       "    }\n",
       "\n",
       "    .dataframe thead th {\n",
       "        text-align: right;\n",
       "    }\n",
       "</style>\n",
       "<table border=\"1\" class=\"dataframe\">\n",
       "  <thead>\n",
       "    <tr style=\"text-align: right;\">\n",
       "      <th></th>\n",
       "      <th>Purchase</th>\n",
       "      <th>AVG(Cheq_Bal)</th>\n",
       "      <th>AVG(Sav_Bal)</th>\n",
       "      <th>AVG(Debt_Bal)</th>\n",
       "    </tr>\n",
       "  </thead>\n",
       "  <tbody>\n",
       "    <tr>\n",
       "      <th>0</th>\n",
       "      <td>0</td>\n",
       "      <td>1996.631366</td>\n",
       "      <td>20257.209814</td>\n",
       "      <td>9842.043851</td>\n",
       "    </tr>\n",
       "    <tr>\n",
       "      <th>1</th>\n",
       "      <td>1</td>\n",
       "      <td>2757.975641</td>\n",
       "      <td>29627.564359</td>\n",
       "      <td>3669.355385</td>\n",
       "    </tr>\n",
       "  </tbody>\n",
       "</table>\n",
       "</div>"
      ],
      "text/plain": [
       "   Purchase  AVG(Cheq_Bal)  AVG(Sav_Bal)  AVG(Debt_Bal)\n",
       "0         0    1996.631366  20257.209814    9842.043851\n",
       "1         1    2757.975641  29627.564359    3669.355385"
      ]
     },
     "execution_count": 121,
     "metadata": {},
     "output_type": "execute_result"
    }
   ],
   "source": [
    "# Difference in average for each type of balance between customers,\n",
    "# who have purchased a mortgage and customers who have not purchased it\n",
    "sql_query_avg_puchase = ps.sqldf('SELECT Purchase, AVG(Cheq_Bal), AVG(Sav_Bal), AVG(Debt_Bal) FROM data GROUP BY Purchase;')\n",
    "sql_query_avg_puchase"
   ]
  },
  {
   "attachments": {},
   "cell_type": "markdown",
   "metadata": {},
   "source": [
    "Задание 6. Выберите самого возрастного получателя ипотеки."
   ]
  },
  {
   "cell_type": "code",
   "execution_count": 122,
   "metadata": {},
   "outputs": [
    {
     "data": {
      "text/html": [
       "<div>\n",
       "<style scoped>\n",
       "    .dataframe tbody tr th:only-of-type {\n",
       "        vertical-align: middle;\n",
       "    }\n",
       "\n",
       "    .dataframe tbody tr th {\n",
       "        vertical-align: top;\n",
       "    }\n",
       "\n",
       "    .dataframe thead th {\n",
       "        text-align: right;\n",
       "    }\n",
       "</style>\n",
       "<table border=\"1\" class=\"dataframe\">\n",
       "  <thead>\n",
       "    <tr style=\"text-align: right;\">\n",
       "      <th></th>\n",
       "      <th>Cust_ID</th>\n",
       "      <th>MAX(age)</th>\n",
       "    </tr>\n",
       "  </thead>\n",
       "  <tbody>\n",
       "    <tr>\n",
       "      <th>0</th>\n",
       "      <td>41</td>\n",
       "      <td>45</td>\n",
       "    </tr>\n",
       "  </tbody>\n",
       "</table>\n",
       "</div>"
      ],
      "text/plain": [
       "   Cust_ID  MAX(age)\n",
       "0       41        45"
      ]
     },
     "execution_count": 122,
     "metadata": {},
     "output_type": "execute_result"
    }
   ],
   "source": [
    "# The oldest mortgage purchase\n",
    "sql_query_max_age = ps.sqldf('SELECT Cust_ID, MAX(age) FROM data WHERE Purchase = 1;')\n",
    "sql_query_max_age"
   ]
  },
  {
   "attachments": {},
   "cell_type": "markdown",
   "metadata": {},
   "source": [
    "Задание 7. Выберите клиента, который раньше всех получил ипотеку."
   ]
  },
  {
   "cell_type": "code",
   "execution_count": 123,
   "metadata": {},
   "outputs": [
    {
     "data": {
      "text/html": [
       "<div>\n",
       "<style scoped>\n",
       "    .dataframe tbody tr th:only-of-type {\n",
       "        vertical-align: middle;\n",
       "    }\n",
       "\n",
       "    .dataframe tbody tr th {\n",
       "        vertical-align: top;\n",
       "    }\n",
       "\n",
       "    .dataframe thead th {\n",
       "        text-align: right;\n",
       "    }\n",
       "</style>\n",
       "<table border=\"1\" class=\"dataframe\">\n",
       "  <thead>\n",
       "    <tr style=\"text-align: right;\">\n",
       "      <th></th>\n",
       "      <th>Cust_ID</th>\n",
       "      <th>MIN(date)</th>\n",
       "    </tr>\n",
       "  </thead>\n",
       "  <tbody>\n",
       "    <tr>\n",
       "      <th>0</th>\n",
       "      <td>185</td>\n",
       "      <td>2017-04-01 00:00:00.000000</td>\n",
       "    </tr>\n",
       "  </tbody>\n",
       "</table>\n",
       "</div>"
      ],
      "text/plain": [
       "   Cust_ID                   MIN(date)\n",
       "0      185  2017-04-01 00:00:00.000000"
      ]
     },
     "execution_count": 123,
     "metadata": {},
     "output_type": "execute_result"
    }
   ],
   "source": [
    "# The client who received the purchase first\n",
    "sql_query_min_date = ps.sqldf('SELECT Cust_ID, MIN(date) FROM data WHERE Purchase = 1;')\n",
    "sql_query_min_date"
   ]
  },
  {
   "attachments": {},
   "cell_type": "markdown",
   "metadata": {},
   "source": [
    "Задание 8. Создайте любую базу данных в sqlite3, состоящую из 5 колонок, одна из колонок обязательно должна быть типа REAL. (Названия колонок любые, какие захотите)"
   ]
  },
  {
   "cell_type": "code",
   "execution_count": 230,
   "metadata": {},
   "outputs": [],
   "source": [
    "# Database consisting of 5 columns, one of the columns is REAL type\n",
    "import sqlite3\n",
    "\n",
    "conn = sqlite3.connect('bank_branches.db')\n",
    "\n",
    "conn.execute('''\n",
    "CREATE TABLE bank_branches(id INTEGER, \n",
    "name STRING, \n",
    "opening_date DATE, \n",
    "city STRING,\n",
    "finance REAL);''')\n",
    "\n",
    "conn.commit()\n",
    "conn.close()"
   ]
  },
  {
   "cell_type": "code",
   "execution_count": 229,
   "metadata": {},
   "outputs": [],
   "source": [
    "conn = sqlite3.connect('bank_branches.db')\n",
    "\n",
    "conn.execute('''\n",
    "DROP TABLE bank_branches;''')\n",
    "\n",
    "conn.commit()\n",
    "\n",
    "conn.close()"
   ]
  },
  {
   "cell_type": "code",
   "execution_count": 231,
   "metadata": {},
   "outputs": [
    {
     "data": {
      "text/plain": [
       "[]"
      ]
     },
     "execution_count": 231,
     "metadata": {},
     "output_type": "execute_result"
    }
   ],
   "source": [
    "conn = sqlite3.connect('bank_branches.db')\n",
    "cur = conn.cursor()\n",
    "cur.execute(\"SELECT * from bank_branches;\")\n",
    "result = cur.fetchall()\n",
    "conn.close()\n",
    "\n",
    "result"
   ]
  },
  {
   "attachments": {},
   "cell_type": "markdown",
   "metadata": {},
   "source": [
    "Задание 9. Добавьте 3 полностью заполненные строки в вашу БД."
   ]
  },
  {
   "cell_type": "code",
   "execution_count": 232,
   "metadata": {},
   "outputs": [],
   "source": [
    "# 3 fully filled rows in the database\n",
    "conn = sqlite3.connect('bank_branches.db')\n",
    "conn.execute(\"INSERT INTO bank_branches VALUES ('13', 'BoG', '2020-09-20', 'tbilisi', '65874436.84');\")\n",
    "conn.execute(\"INSERT INTO bank_branches VALUES ('15', 'TBC', '2020-11-06', 'tbilisi', '54780839.54');\")\n",
    "conn.execute(\"INSERT INTO bank_branches VALUES ('17', 'VTB', '2021-01-16', 'batumi',  '13435225.10');\")\n",
    "conn.commit()\n",
    "conn.close()"
   ]
  },
  {
   "cell_type": "code",
   "execution_count": 233,
   "metadata": {},
   "outputs": [
    {
     "data": {
      "text/plain": [
       "[(13, 'BoG', '2020-09-20', 'tbilisi', 65874436.84),\n",
       " (15, 'TBC', '2020-11-06', 'tbilisi', 54780839.54),\n",
       " (17, 'VTB', '2021-01-16', 'batumi', 13435225.1)]"
      ]
     },
     "execution_count": 233,
     "metadata": {},
     "output_type": "execute_result"
    }
   ],
   "source": [
    "conn = sqlite3.connect('bank_branches.db')\n",
    "cur = conn.cursor()\n",
    "cur.execute(\"SELECT * from bank_branches;\")\n",
    "result = cur.fetchall()\n",
    "conn.close()\n",
    "\n",
    "result"
   ]
  },
  {
   "attachments": {},
   "cell_type": "markdown",
   "metadata": {},
   "source": [
    "Задание 10. Удалите строку из колонки типа REAL (из пункта 8), в которой значение признака среднее (то есть не минимальное и не максимальное). Напрямую указывать значение из этой строки нельзя."
   ]
  },
  {
   "cell_type": "code",
   "execution_count": 234,
   "metadata": {},
   "outputs": [],
   "source": [
    "# Removing a row from column with a REAL type\n",
    "# in which the value of the attribute is average\n",
    "conn = sqlite3.connect('bank_branches.db')\n",
    "conn.execute('''DELETE FROM bank_branches WHERE finance = (\n",
    "             SELECT finance FROM bank_branches WHERE finance < (SELECT MAX(finance) FROM bank_branches) AND finance > (SELECT MIN(finance) FROM bank_branches)\n",
    "             );''') #Selecting and deleting an attribute with an average value \n",
    "conn.commit()\n",
    "conn.close()"
   ]
  },
  {
   "cell_type": "code",
   "execution_count": 235,
   "metadata": {},
   "outputs": [
    {
     "data": {
      "text/plain": [
       "[(13, 'BoG', '2020-09-20', 'tbilisi', 65874436.84),\n",
       " (17, 'VTB', '2021-01-16', 'batumi', 13435225.1)]"
      ]
     },
     "execution_count": 235,
     "metadata": {},
     "output_type": "execute_result"
    }
   ],
   "source": [
    "conn = sqlite3.connect('bank_branches.db')\n",
    "cur = conn.cursor()\n",
    "cur.execute(\"SELECT * from bank_branches;\")\n",
    "result = cur.fetchall()\n",
    "conn.close()\n",
    "\n",
    "result"
   ]
  }
 ],
 "metadata": {
  "kernelspec": {
   "display_name": "Python 3.9.10 64-bit",
   "language": "python",
   "name": "python3"
  },
  "language_info": {
   "codemirror_mode": {
    "name": "ipython",
    "version": 3
   },
   "file_extension": ".py",
   "mimetype": "text/x-python",
   "name": "python",
   "nbconvert_exporter": "python",
   "pygments_lexer": "ipython3",
   "version": "3.9.10"
  },
  "orig_nbformat": 4,
  "vscode": {
   "interpreter": {
    "hash": "ab00d25cfd1944962ffb1d95a164aaa7b10f0e0e0e0eea5f1a5bc9839f4bebd3"
   }
  }
 },
 "nbformat": 4,
 "nbformat_minor": 2
}
